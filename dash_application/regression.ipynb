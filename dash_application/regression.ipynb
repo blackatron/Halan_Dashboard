{
 "cells": [
  {
   "cell_type": "code",
   "execution_count": 77,
   "metadata": {},
   "outputs": [],
   "source": [
    "import pandas as pd\n"
   ]
  },
  {
   "cell_type": "code",
   "execution_count": 78,
   "metadata": {},
   "outputs": [
    {
     "data": {
      "text/html": [
       "<div>\n",
       "<style scoped>\n",
       "    .dataframe tbody tr th:only-of-type {\n",
       "        vertical-align: middle;\n",
       "    }\n",
       "\n",
       "    .dataframe tbody tr th {\n",
       "        vertical-align: top;\n",
       "    }\n",
       "\n",
       "    .dataframe thead th {\n",
       "        text-align: right;\n",
       "    }\n",
       "</style>\n",
       "<table border=\"1\" class=\"dataframe\">\n",
       "  <thead>\n",
       "    <tr style=\"text-align: right;\">\n",
       "      <th></th>\n",
       "      <th>Month</th>\n",
       "      <th>Week</th>\n",
       "      <th>Original</th>\n",
       "      <th>Delivered</th>\n",
       "    </tr>\n",
       "  </thead>\n",
       "  <tbody>\n",
       "    <tr>\n",
       "      <th>0</th>\n",
       "      <td>6</td>\n",
       "      <td>1</td>\n",
       "      <td>509.000000</td>\n",
       "      <td>441.331985</td>\n",
       "    </tr>\n",
       "    <tr>\n",
       "      <th>1</th>\n",
       "      <td>6</td>\n",
       "      <td>2</td>\n",
       "      <td>388.000000</td>\n",
       "      <td>408.446103</td>\n",
       "    </tr>\n",
       "    <tr>\n",
       "      <th>2</th>\n",
       "      <td>6</td>\n",
       "      <td>3</td>\n",
       "      <td>405.000000</td>\n",
       "      <td>416.006596</td>\n",
       "    </tr>\n",
       "    <tr>\n",
       "      <th>3</th>\n",
       "      <td>6</td>\n",
       "      <td>4</td>\n",
       "      <td>343.000000</td>\n",
       "      <td>371.538133</td>\n",
       "    </tr>\n",
       "    <tr>\n",
       "      <th>4</th>\n",
       "      <td>7</td>\n",
       "      <td>1</td>\n",
       "      <td>553.000000</td>\n",
       "      <td>479.482491</td>\n",
       "    </tr>\n",
       "    <tr>\n",
       "      <th>5</th>\n",
       "      <td>7</td>\n",
       "      <td>2</td>\n",
       "      <td>342.000000</td>\n",
       "      <td>360.022081</td>\n",
       "    </tr>\n",
       "    <tr>\n",
       "      <th>6</th>\n",
       "      <td>7</td>\n",
       "      <td>3</td>\n",
       "      <td>353.000000</td>\n",
       "      <td>362.593403</td>\n",
       "    </tr>\n",
       "    <tr>\n",
       "      <th>7</th>\n",
       "      <td>7</td>\n",
       "      <td>4</td>\n",
       "      <td>293.000000</td>\n",
       "      <td>317.378055</td>\n",
       "    </tr>\n",
       "    <tr>\n",
       "      <th>8</th>\n",
       "      <td>8</td>\n",
       "      <td>1</td>\n",
       "      <td>373.000000</td>\n",
       "      <td>323.412241</td>\n",
       "    </tr>\n",
       "    <tr>\n",
       "      <th>9</th>\n",
       "      <td>8</td>\n",
       "      <td>2</td>\n",
       "      <td>375.000000</td>\n",
       "      <td>394.761054</td>\n",
       "    </tr>\n",
       "    <tr>\n",
       "      <th>10</th>\n",
       "      <td>8</td>\n",
       "      <td>3</td>\n",
       "      <td>514.000000</td>\n",
       "      <td>527.968865</td>\n",
       "    </tr>\n",
       "    <tr>\n",
       "      <th>11</th>\n",
       "      <td>8</td>\n",
       "      <td>4</td>\n",
       "      <td>649.000000</td>\n",
       "      <td>702.997808</td>\n",
       "    </tr>\n",
       "    <tr>\n",
       "      <th>12</th>\n",
       "      <td>9</td>\n",
       "      <td>1</td>\n",
       "      <td>630.000000</td>\n",
       "      <td>546.245876</td>\n",
       "    </tr>\n",
       "    <tr>\n",
       "      <th>13</th>\n",
       "      <td>9</td>\n",
       "      <td>2</td>\n",
       "      <td>450.000000</td>\n",
       "      <td>473.713264</td>\n",
       "    </tr>\n",
       "    <tr>\n",
       "      <th>14</th>\n",
       "      <td>9</td>\n",
       "      <td>3</td>\n",
       "      <td>500.000000</td>\n",
       "      <td>513.588390</td>\n",
       "    </tr>\n",
       "    <tr>\n",
       "      <th>15</th>\n",
       "      <td>9</td>\n",
       "      <td>4</td>\n",
       "      <td>700.000000</td>\n",
       "      <td>758.241087</td>\n",
       "    </tr>\n",
       "    <tr>\n",
       "      <th>16</th>\n",
       "      <td>10</td>\n",
       "      <td>1</td>\n",
       "      <td>520.000000</td>\n",
       "      <td>450.869612</td>\n",
       "    </tr>\n",
       "    <tr>\n",
       "      <th>17</th>\n",
       "      <td>10</td>\n",
       "      <td>2</td>\n",
       "      <td>537.000000</td>\n",
       "      <td>565.297829</td>\n",
       "    </tr>\n",
       "    <tr>\n",
       "      <th>18</th>\n",
       "      <td>10</td>\n",
       "      <td>3</td>\n",
       "      <td>410.000000</td>\n",
       "      <td>421.142480</td>\n",
       "    </tr>\n",
       "    <tr>\n",
       "      <th>19</th>\n",
       "      <td>10</td>\n",
       "      <td>4</td>\n",
       "      <td>159.000000</td>\n",
       "      <td>172.229047</td>\n",
       "    </tr>\n",
       "    <tr>\n",
       "      <th>20</th>\n",
       "      <td>11</td>\n",
       "      <td>1</td>\n",
       "      <td>461.613733</td>\n",
       "      <td>400.245393</td>\n",
       "    </tr>\n",
       "    <tr>\n",
       "      <th>21</th>\n",
       "      <td>11</td>\n",
       "      <td>2</td>\n",
       "      <td>415.262743</td>\n",
       "      <td>437.145487</td>\n",
       "    </tr>\n",
       "    <tr>\n",
       "      <th>22</th>\n",
       "      <td>11</td>\n",
       "      <td>3</td>\n",
       "      <td>417.597030</td>\n",
       "      <td>428.945972</td>\n",
       "    </tr>\n",
       "    <tr>\n",
       "      <th>23</th>\n",
       "      <td>11</td>\n",
       "      <td>4</td>\n",
       "      <td>412.646005</td>\n",
       "      <td>446.978794</td>\n",
       "    </tr>\n",
       "  </tbody>\n",
       "</table>\n",
       "</div>"
      ],
      "text/plain": [
       "    Month  Week    Original   Delivered\n",
       "0       6     1  509.000000  441.331985\n",
       "1       6     2  388.000000  408.446103\n",
       "2       6     3  405.000000  416.006596\n",
       "3       6     4  343.000000  371.538133\n",
       "4       7     1  553.000000  479.482491\n",
       "5       7     2  342.000000  360.022081\n",
       "6       7     3  353.000000  362.593403\n",
       "7       7     4  293.000000  317.378055\n",
       "8       8     1  373.000000  323.412241\n",
       "9       8     2  375.000000  394.761054\n",
       "10      8     3  514.000000  527.968865\n",
       "11      8     4  649.000000  702.997808\n",
       "12      9     1  630.000000  546.245876\n",
       "13      9     2  450.000000  473.713264\n",
       "14      9     3  500.000000  513.588390\n",
       "15      9     4  700.000000  758.241087\n",
       "16     10     1  520.000000  450.869612\n",
       "17     10     2  537.000000  565.297829\n",
       "18     10     3  410.000000  421.142480\n",
       "19     10     4  159.000000  172.229047\n",
       "20     11     1  461.613733  400.245393\n",
       "21     11     2  415.262743  437.145487\n",
       "22     11     3  417.597030  428.945972\n",
       "23     11     4  412.646005  446.978794"
      ]
     },
     "execution_count": 78,
     "metadata": {},
     "output_type": "execute_result"
    }
   ],
   "source": [
    "halan_regression3 = pd.read_csv('csv/weekly_data2.csv')\n",
    "halan_regression3['average']=halan_regression3.iloc[:,1:5].mean(axis=1)\n",
    "df = halan_regression3.copy()\n",
    "df['w1']=df['w1']/df['average']\n",
    "df['w2']=df['w2']/df['average']\n",
    "df['w3']=df['w3']/df['average']\n",
    "df['w4']=df['w4']/df['average']\n",
    "\n",
    "columns = ['w1','w2','w3','w4']\n",
    "deseasonalized = pd.DataFrame()\n",
    "\n",
    "deseasonalized['Month']=[halan_regression3['Month'][j] for j in range(len(df)) for i in columns]\n",
    "deseasonalized['Week']=[int(i[-1]) for j in range(len(df)) for i in columns]\n",
    "\n",
    "deseasonalized['Original']=[halan_regression3[i][j] for j in range(len(df)) for i in columns]\n",
    "deseasonalized['Delivered'] =[halan_regression3[i][j]/df[i].mean(axis=0) for j in range(len(df)) for i in columns]       \n",
    "deseasonalized"
   ]
  },
  {
   "cell_type": "code",
   "execution_count": 79,
   "metadata": {},
   "outputs": [],
   "source": [
    "# # evaluate an ridge regression model on the dataset\n",
    "# from numpy import mean\n",
    "# from numpy import std\n",
    "# from numpy import absolute\n",
    "\n",
    "# from sklearn.model_selection import cross_val_score\n",
    "# from sklearn.model_selection import RepeatedKFold\n",
    "# from sklearn.linear_model import Ridge\n",
    "\n",
    "# # load the dataset\n",
    "\n",
    "# dataframe = deseasonalized\n",
    "# data = dataframe.values\n",
    "\n",
    "# X, y = data[:, :-1], data[:, -1]\n",
    "# print(y)\n",
    "# print(X)\n",
    "# # define model evaluation method\n",
    "# cv = RepeatedKFold(n_splits=10, n_repeats=30, random_state=1)\n",
    "# # define model\n",
    "# model = Ridge(alpha=0.99)\n",
    "\n",
    "# # fit model\n",
    "# model.fit(X, y)\n",
    "\n",
    "# # evaluate model\n",
    "# scores = cross_val_score(model, X, y, scoring='neg_mean_absolute_error', cv=cv, n_jobs=-1)\n",
    "# # force scores to be positive\n",
    "# scores = absolute(scores)\n",
    "# print('Mean MAE: %.3f (%.3f)' % (mean(scores), std(scores)))\n"
   ]
  },
  {
   "cell_type": "code",
   "execution_count": 80,
   "metadata": {},
   "outputs": [],
   "source": [
    "# row = [12, 1]\n",
    "# # make a prediction\n",
    "# yhat = model.predict([row])\n",
    "# # summarize prediction\n",
    "# print('Predicted: %.3f' % yhat)"
   ]
  },
  {
   "cell_type": "code",
   "execution_count": 81,
   "metadata": {},
   "outputs": [],
   "source": [
    "# from numpy import arange\n",
    "# from sklearn.model_selection import GridSearchCV\n",
    "\n",
    "# # define grid\n",
    "# grid = dict()\n",
    "# grid['alpha'] = arange(0, 1, 0.01)\n",
    "# search = GridSearchCV(model, grid, scoring='neg_mean_absolute_error', cv=cv, n_jobs=-1)\n",
    "# # perform the search\n",
    "# results = search.fit(X, y)\n",
    "# # summarize\n",
    "# print('MAE: %.3f' % results.best_score_)\n",
    "# print('Config: %s' % results.best_params_)"
   ]
  },
  {
   "cell_type": "code",
   "execution_count": 82,
   "metadata": {},
   "outputs": [],
   "source": [
    "# from sklearn.linear_model import RidgeCV\n",
    "# from numpy import mean\n",
    "# from numpy import std\n",
    "# from numpy import absolute\n",
    "# from numpy import arange\n",
    "# from sklearn.model_selection import cross_val_score\n",
    "# from sklearn.model_selection import RepeatedKFold\n",
    "\n",
    "\n",
    "# # load the dataset\n",
    "\n",
    "# dataframe = deseasonalized\n",
    "# data = dataframe.values\n",
    "\n",
    "# X, y = data[:, :-1], data[:, -1]\n",
    "# print(y)\n",
    "# print(X)\n",
    "# # define model evaluation method\n",
    "# cv = RepeatedKFold(n_splits=10, n_repeats=3, random_state=1)\n",
    "# # define model\n",
    "\n",
    "# model = RidgeCV(alphas=arange(0, 1, 0.01), cv=cv, scoring='neg_mean_absolute_error')\n",
    "# # fit model\n",
    "# model.fit(X, y)\n",
    "\n",
    "# # evaluate model\n",
    "# scores = cross_val_score(model, X, y, scoring='neg_mean_absolute_error', cv=cv, n_jobs=-1)\n",
    "# # force scores to be positive\n",
    "# scores = absolute(scores)\n",
    "# print('Mean MAE: %.3f (%.3f)' % (mean(scores), std(scores)))\n",
    "# print('alpha: %f' % model.alpha_)"
   ]
  },
  {
   "cell_type": "markdown",
   "metadata": {},
   "source": [
    "pip install pycaret"
   ]
  },
  {
   "cell_type": "code",
   "execution_count": 83,
   "metadata": {},
   "outputs": [],
   "source": [
    "deseasonalized['Date'] = deseasonalized['Month'].astype(str) + deseasonalized['Week'].astype(str)\n"
   ]
  },
  {
   "cell_type": "code",
   "execution_count": 84,
   "metadata": {},
   "outputs": [
    {
     "data": {
      "text/html": [
       "<div>\n",
       "<style scoped>\n",
       "    .dataframe tbody tr th:only-of-type {\n",
       "        vertical-align: middle;\n",
       "    }\n",
       "\n",
       "    .dataframe tbody tr th {\n",
       "        vertical-align: top;\n",
       "    }\n",
       "\n",
       "    .dataframe thead th {\n",
       "        text-align: right;\n",
       "    }\n",
       "</style>\n",
       "<table border=\"1\" class=\"dataframe\">\n",
       "  <thead>\n",
       "    <tr style=\"text-align: right;\">\n",
       "      <th></th>\n",
       "      <th>Month</th>\n",
       "      <th>Week</th>\n",
       "      <th>Original</th>\n",
       "      <th>Delivered</th>\n",
       "      <th>Date</th>\n",
       "    </tr>\n",
       "  </thead>\n",
       "  <tbody>\n",
       "    <tr>\n",
       "      <th>0</th>\n",
       "      <td>6</td>\n",
       "      <td>1</td>\n",
       "      <td>509.000000</td>\n",
       "      <td>441.331985</td>\n",
       "      <td>61</td>\n",
       "    </tr>\n",
       "    <tr>\n",
       "      <th>1</th>\n",
       "      <td>6</td>\n",
       "      <td>2</td>\n",
       "      <td>388.000000</td>\n",
       "      <td>408.446103</td>\n",
       "      <td>62</td>\n",
       "    </tr>\n",
       "    <tr>\n",
       "      <th>2</th>\n",
       "      <td>6</td>\n",
       "      <td>3</td>\n",
       "      <td>405.000000</td>\n",
       "      <td>416.006596</td>\n",
       "      <td>63</td>\n",
       "    </tr>\n",
       "    <tr>\n",
       "      <th>3</th>\n",
       "      <td>6</td>\n",
       "      <td>4</td>\n",
       "      <td>343.000000</td>\n",
       "      <td>371.538133</td>\n",
       "      <td>64</td>\n",
       "    </tr>\n",
       "    <tr>\n",
       "      <th>4</th>\n",
       "      <td>7</td>\n",
       "      <td>1</td>\n",
       "      <td>553.000000</td>\n",
       "      <td>479.482491</td>\n",
       "      <td>71</td>\n",
       "    </tr>\n",
       "    <tr>\n",
       "      <th>5</th>\n",
       "      <td>7</td>\n",
       "      <td>2</td>\n",
       "      <td>342.000000</td>\n",
       "      <td>360.022081</td>\n",
       "      <td>72</td>\n",
       "    </tr>\n",
       "    <tr>\n",
       "      <th>6</th>\n",
       "      <td>7</td>\n",
       "      <td>3</td>\n",
       "      <td>353.000000</td>\n",
       "      <td>362.593403</td>\n",
       "      <td>73</td>\n",
       "    </tr>\n",
       "    <tr>\n",
       "      <th>7</th>\n",
       "      <td>7</td>\n",
       "      <td>4</td>\n",
       "      <td>293.000000</td>\n",
       "      <td>317.378055</td>\n",
       "      <td>74</td>\n",
       "    </tr>\n",
       "    <tr>\n",
       "      <th>8</th>\n",
       "      <td>8</td>\n",
       "      <td>1</td>\n",
       "      <td>373.000000</td>\n",
       "      <td>323.412241</td>\n",
       "      <td>81</td>\n",
       "    </tr>\n",
       "    <tr>\n",
       "      <th>9</th>\n",
       "      <td>8</td>\n",
       "      <td>2</td>\n",
       "      <td>375.000000</td>\n",
       "      <td>394.761054</td>\n",
       "      <td>82</td>\n",
       "    </tr>\n",
       "    <tr>\n",
       "      <th>10</th>\n",
       "      <td>8</td>\n",
       "      <td>3</td>\n",
       "      <td>514.000000</td>\n",
       "      <td>527.968865</td>\n",
       "      <td>83</td>\n",
       "    </tr>\n",
       "    <tr>\n",
       "      <th>11</th>\n",
       "      <td>8</td>\n",
       "      <td>4</td>\n",
       "      <td>649.000000</td>\n",
       "      <td>702.997808</td>\n",
       "      <td>84</td>\n",
       "    </tr>\n",
       "    <tr>\n",
       "      <th>12</th>\n",
       "      <td>9</td>\n",
       "      <td>1</td>\n",
       "      <td>630.000000</td>\n",
       "      <td>546.245876</td>\n",
       "      <td>91</td>\n",
       "    </tr>\n",
       "    <tr>\n",
       "      <th>13</th>\n",
       "      <td>9</td>\n",
       "      <td>2</td>\n",
       "      <td>450.000000</td>\n",
       "      <td>473.713264</td>\n",
       "      <td>92</td>\n",
       "    </tr>\n",
       "    <tr>\n",
       "      <th>14</th>\n",
       "      <td>9</td>\n",
       "      <td>3</td>\n",
       "      <td>500.000000</td>\n",
       "      <td>513.588390</td>\n",
       "      <td>93</td>\n",
       "    </tr>\n",
       "    <tr>\n",
       "      <th>15</th>\n",
       "      <td>9</td>\n",
       "      <td>4</td>\n",
       "      <td>700.000000</td>\n",
       "      <td>758.241087</td>\n",
       "      <td>94</td>\n",
       "    </tr>\n",
       "    <tr>\n",
       "      <th>16</th>\n",
       "      <td>10</td>\n",
       "      <td>1</td>\n",
       "      <td>520.000000</td>\n",
       "      <td>450.869612</td>\n",
       "      <td>101</td>\n",
       "    </tr>\n",
       "    <tr>\n",
       "      <th>17</th>\n",
       "      <td>10</td>\n",
       "      <td>2</td>\n",
       "      <td>537.000000</td>\n",
       "      <td>565.297829</td>\n",
       "      <td>102</td>\n",
       "    </tr>\n",
       "    <tr>\n",
       "      <th>18</th>\n",
       "      <td>10</td>\n",
       "      <td>3</td>\n",
       "      <td>410.000000</td>\n",
       "      <td>421.142480</td>\n",
       "      <td>103</td>\n",
       "    </tr>\n",
       "    <tr>\n",
       "      <th>19</th>\n",
       "      <td>10</td>\n",
       "      <td>4</td>\n",
       "      <td>159.000000</td>\n",
       "      <td>172.229047</td>\n",
       "      <td>104</td>\n",
       "    </tr>\n",
       "    <tr>\n",
       "      <th>20</th>\n",
       "      <td>11</td>\n",
       "      <td>1</td>\n",
       "      <td>461.613733</td>\n",
       "      <td>400.245393</td>\n",
       "      <td>111</td>\n",
       "    </tr>\n",
       "    <tr>\n",
       "      <th>21</th>\n",
       "      <td>11</td>\n",
       "      <td>2</td>\n",
       "      <td>415.262743</td>\n",
       "      <td>437.145487</td>\n",
       "      <td>112</td>\n",
       "    </tr>\n",
       "    <tr>\n",
       "      <th>22</th>\n",
       "      <td>11</td>\n",
       "      <td>3</td>\n",
       "      <td>417.597030</td>\n",
       "      <td>428.945972</td>\n",
       "      <td>113</td>\n",
       "    </tr>\n",
       "    <tr>\n",
       "      <th>23</th>\n",
       "      <td>11</td>\n",
       "      <td>4</td>\n",
       "      <td>412.646005</td>\n",
       "      <td>446.978794</td>\n",
       "      <td>114</td>\n",
       "    </tr>\n",
       "  </tbody>\n",
       "</table>\n",
       "</div>"
      ],
      "text/plain": [
       "    Month  Week    Original   Delivered Date\n",
       "0       6     1  509.000000  441.331985   61\n",
       "1       6     2  388.000000  408.446103   62\n",
       "2       6     3  405.000000  416.006596   63\n",
       "3       6     4  343.000000  371.538133   64\n",
       "4       7     1  553.000000  479.482491   71\n",
       "5       7     2  342.000000  360.022081   72\n",
       "6       7     3  353.000000  362.593403   73\n",
       "7       7     4  293.000000  317.378055   74\n",
       "8       8     1  373.000000  323.412241   81\n",
       "9       8     2  375.000000  394.761054   82\n",
       "10      8     3  514.000000  527.968865   83\n",
       "11      8     4  649.000000  702.997808   84\n",
       "12      9     1  630.000000  546.245876   91\n",
       "13      9     2  450.000000  473.713264   92\n",
       "14      9     3  500.000000  513.588390   93\n",
       "15      9     4  700.000000  758.241087   94\n",
       "16     10     1  520.000000  450.869612  101\n",
       "17     10     2  537.000000  565.297829  102\n",
       "18     10     3  410.000000  421.142480  103\n",
       "19     10     4  159.000000  172.229047  104\n",
       "20     11     1  461.613733  400.245393  111\n",
       "21     11     2  415.262743  437.145487  112\n",
       "22     11     3  417.597030  428.945972  113\n",
       "23     11     4  412.646005  446.978794  114"
      ]
     },
     "execution_count": 84,
     "metadata": {},
     "output_type": "execute_result"
    }
   ],
   "source": [
    "deseasonalized"
   ]
  },
  {
   "cell_type": "code",
   "execution_count": 85,
   "metadata": {},
   "outputs": [
    {
     "ename": "ValueError",
     "evalue": "Value of 'x' is not the name of a column in 'data_frame'. Expected one of ['Month', 'Week', 'Original', 'Delivered', 'Date', 'MA12'] but received: Series",
     "output_type": "error",
     "traceback": [
      "\u001b[1;31m---------------------------------------------------------------------------\u001b[0m",
      "\u001b[1;31mValueError\u001b[0m                                Traceback (most recent call last)",
      "Input \u001b[1;32mIn [85]\u001b[0m, in \u001b[0;36m<cell line: 5>\u001b[1;34m()\u001b[0m\n\u001b[0;32m      3\u001b[0m data[\u001b[39m'\u001b[39m\u001b[39mMA12\u001b[39m\u001b[39m'\u001b[39m] \u001b[39m=\u001b[39m data[\u001b[39m'\u001b[39m\u001b[39mOriginal\u001b[39m\u001b[39m'\u001b[39m]\u001b[39m.\u001b[39mrolling(\u001b[39m5\u001b[39m)\u001b[39m.\u001b[39mmean()\u001b[39m# plot the data and MA\u001b[39;00m\n\u001b[0;32m      4\u001b[0m \u001b[39mimport\u001b[39;00m \u001b[39mplotly\u001b[39;00m\u001b[39m.\u001b[39;00m\u001b[39mexpress\u001b[39;00m \u001b[39mas\u001b[39;00m \u001b[39mpx\u001b[39;00m\n\u001b[1;32m----> 5\u001b[0m fig \u001b[39m=\u001b[39m px\u001b[39m.\u001b[39;49mline(data, x\u001b[39m=\u001b[39;49m\u001b[39m'\u001b[39;49m\u001b[39mSeries\u001b[39;49m\u001b[39m'\u001b[39;49m, y\u001b[39m=\u001b[39;49m[\u001b[39m\"\u001b[39;49m\u001b[39mOriginal\u001b[39;49m\u001b[39m\"\u001b[39;49m, \u001b[39m\"\u001b[39;49m\u001b[39mMA12\u001b[39;49m\u001b[39m\"\u001b[39;49m], template \u001b[39m=\u001b[39;49m \u001b[39m'\u001b[39;49m\u001b[39mplotly_dark\u001b[39;49m\u001b[39m'\u001b[39;49m)\n\u001b[0;32m      6\u001b[0m fig\u001b[39m.\u001b[39mshow()\n",
      "File \u001b[1;32mc:\\Users\\moham\\OneDrive - University of Nottingham Malaysia Campus\\Future University\\Halan_Dashboard\\project_env\\lib\\site-packages\\plotly\\express\\_chart_types.py:262\u001b[0m, in \u001b[0;36mline\u001b[1;34m(data_frame, x, y, line_group, color, line_dash, symbol, hover_name, hover_data, custom_data, text, facet_row, facet_col, facet_col_wrap, facet_row_spacing, facet_col_spacing, error_x, error_x_minus, error_y, error_y_minus, animation_frame, animation_group, category_orders, labels, orientation, color_discrete_sequence, color_discrete_map, line_dash_sequence, line_dash_map, symbol_sequence, symbol_map, markers, log_x, log_y, range_x, range_y, line_shape, render_mode, title, template, width, height)\u001b[0m\n\u001b[0;32m    <a href='file:///c%3A/Users/moham/OneDrive%20-%20University%20of%20Nottingham%20Malaysia%20Campus/Future%20University/Halan_Dashboard/project_env/lib/site-packages/plotly/express/_chart_types.py?line=213'>214</a>\u001b[0m \u001b[39mdef\u001b[39;00m \u001b[39mline\u001b[39m(\n\u001b[0;32m    <a href='file:///c%3A/Users/moham/OneDrive%20-%20University%20of%20Nottingham%20Malaysia%20Campus/Future%20University/Halan_Dashboard/project_env/lib/site-packages/plotly/express/_chart_types.py?line=214'>215</a>\u001b[0m     data_frame\u001b[39m=\u001b[39m\u001b[39mNone\u001b[39;00m,\n\u001b[0;32m    <a href='file:///c%3A/Users/moham/OneDrive%20-%20University%20of%20Nottingham%20Malaysia%20Campus/Future%20University/Halan_Dashboard/project_env/lib/site-packages/plotly/express/_chart_types.py?line=215'>216</a>\u001b[0m     x\u001b[39m=\u001b[39m\u001b[39mNone\u001b[39;00m,\n\u001b[1;32m   (...)\u001b[0m\n\u001b[0;32m    <a href='file:///c%3A/Users/moham/OneDrive%20-%20University%20of%20Nottingham%20Malaysia%20Campus/Future%20University/Halan_Dashboard/project_env/lib/site-packages/plotly/express/_chart_types.py?line=255'>256</a>\u001b[0m     height\u001b[39m=\u001b[39m\u001b[39mNone\u001b[39;00m,\n\u001b[0;32m    <a href='file:///c%3A/Users/moham/OneDrive%20-%20University%20of%20Nottingham%20Malaysia%20Campus/Future%20University/Halan_Dashboard/project_env/lib/site-packages/plotly/express/_chart_types.py?line=256'>257</a>\u001b[0m ):\n\u001b[0;32m    <a href='file:///c%3A/Users/moham/OneDrive%20-%20University%20of%20Nottingham%20Malaysia%20Campus/Future%20University/Halan_Dashboard/project_env/lib/site-packages/plotly/express/_chart_types.py?line=257'>258</a>\u001b[0m     \u001b[39m\"\"\"\u001b[39;00m\n\u001b[0;32m    <a href='file:///c%3A/Users/moham/OneDrive%20-%20University%20of%20Nottingham%20Malaysia%20Campus/Future%20University/Halan_Dashboard/project_env/lib/site-packages/plotly/express/_chart_types.py?line=258'>259</a>\u001b[0m \u001b[39m    In a 2D line plot, each row of `data_frame` is represented as vertex of\u001b[39;00m\n\u001b[0;32m    <a href='file:///c%3A/Users/moham/OneDrive%20-%20University%20of%20Nottingham%20Malaysia%20Campus/Future%20University/Halan_Dashboard/project_env/lib/site-packages/plotly/express/_chart_types.py?line=259'>260</a>\u001b[0m \u001b[39m    a polyline mark in 2D space.\u001b[39;00m\n\u001b[0;32m    <a href='file:///c%3A/Users/moham/OneDrive%20-%20University%20of%20Nottingham%20Malaysia%20Campus/Future%20University/Halan_Dashboard/project_env/lib/site-packages/plotly/express/_chart_types.py?line=260'>261</a>\u001b[0m \u001b[39m    \"\"\"\u001b[39;00m\n\u001b[1;32m--> <a href='file:///c%3A/Users/moham/OneDrive%20-%20University%20of%20Nottingham%20Malaysia%20Campus/Future%20University/Halan_Dashboard/project_env/lib/site-packages/plotly/express/_chart_types.py?line=261'>262</a>\u001b[0m     \u001b[39mreturn\u001b[39;00m make_figure(args\u001b[39m=\u001b[39;49m\u001b[39mlocals\u001b[39;49m(), constructor\u001b[39m=\u001b[39;49mgo\u001b[39m.\u001b[39;49mScatter)\n",
      "File \u001b[1;32mc:\\Users\\moham\\OneDrive - University of Nottingham Malaysia Campus\\Future University\\Halan_Dashboard\\project_env\\lib\\site-packages\\plotly\\express\\_core.py:1945\u001b[0m, in \u001b[0;36mmake_figure\u001b[1;34m(args, constructor, trace_patch, layout_patch)\u001b[0m\n\u001b[0;32m   <a href='file:///c%3A/Users/moham/OneDrive%20-%20University%20of%20Nottingham%20Malaysia%20Campus/Future%20University/Halan_Dashboard/project_env/lib/site-packages/plotly/express/_core.py?line=1941'>1942</a>\u001b[0m layout_patch \u001b[39m=\u001b[39m layout_patch \u001b[39mor\u001b[39;00m {}\n\u001b[0;32m   <a href='file:///c%3A/Users/moham/OneDrive%20-%20University%20of%20Nottingham%20Malaysia%20Campus/Future%20University/Halan_Dashboard/project_env/lib/site-packages/plotly/express/_core.py?line=1942'>1943</a>\u001b[0m apply_default_cascade(args)\n\u001b[1;32m-> <a href='file:///c%3A/Users/moham/OneDrive%20-%20University%20of%20Nottingham%20Malaysia%20Campus/Future%20University/Halan_Dashboard/project_env/lib/site-packages/plotly/express/_core.py?line=1944'>1945</a>\u001b[0m args \u001b[39m=\u001b[39m build_dataframe(args, constructor)\n\u001b[0;32m   <a href='file:///c%3A/Users/moham/OneDrive%20-%20University%20of%20Nottingham%20Malaysia%20Campus/Future%20University/Halan_Dashboard/project_env/lib/site-packages/plotly/express/_core.py?line=1945'>1946</a>\u001b[0m \u001b[39mif\u001b[39;00m constructor \u001b[39min\u001b[39;00m [go\u001b[39m.\u001b[39mTreemap, go\u001b[39m.\u001b[39mSunburst, go\u001b[39m.\u001b[39mIcicle] \u001b[39mand\u001b[39;00m args[\u001b[39m\"\u001b[39m\u001b[39mpath\u001b[39m\u001b[39m\"\u001b[39m] \u001b[39mis\u001b[39;00m \u001b[39mnot\u001b[39;00m \u001b[39mNone\u001b[39;00m:\n\u001b[0;32m   <a href='file:///c%3A/Users/moham/OneDrive%20-%20University%20of%20Nottingham%20Malaysia%20Campus/Future%20University/Halan_Dashboard/project_env/lib/site-packages/plotly/express/_core.py?line=1946'>1947</a>\u001b[0m     args \u001b[39m=\u001b[39m process_dataframe_hierarchy(args)\n",
      "File \u001b[1;32mc:\\Users\\moham\\OneDrive - University of Nottingham Malaysia Campus\\Future University\\Halan_Dashboard\\project_env\\lib\\site-packages\\plotly\\express\\_core.py:1405\u001b[0m, in \u001b[0;36mbuild_dataframe\u001b[1;34m(args, constructor)\u001b[0m\n\u001b[0;32m   <a href='file:///c%3A/Users/moham/OneDrive%20-%20University%20of%20Nottingham%20Malaysia%20Campus/Future%20University/Halan_Dashboard/project_env/lib/site-packages/plotly/express/_core.py?line=1401'>1402</a>\u001b[0m     args[\u001b[39m\"\u001b[39m\u001b[39mcolor\u001b[39m\u001b[39m\"\u001b[39m] \u001b[39m=\u001b[39m \u001b[39mNone\u001b[39;00m\n\u001b[0;32m   <a href='file:///c%3A/Users/moham/OneDrive%20-%20University%20of%20Nottingham%20Malaysia%20Campus/Future%20University/Halan_Dashboard/project_env/lib/site-packages/plotly/express/_core.py?line=1402'>1403</a>\u001b[0m \u001b[39m# now that things have been prepped, we do the systematic rewriting of `args`\u001b[39;00m\n\u001b[1;32m-> <a href='file:///c%3A/Users/moham/OneDrive%20-%20University%20of%20Nottingham%20Malaysia%20Campus/Future%20University/Halan_Dashboard/project_env/lib/site-packages/plotly/express/_core.py?line=1404'>1405</a>\u001b[0m df_output, wide_id_vars \u001b[39m=\u001b[39m process_args_into_dataframe(\n\u001b[0;32m   <a href='file:///c%3A/Users/moham/OneDrive%20-%20University%20of%20Nottingham%20Malaysia%20Campus/Future%20University/Halan_Dashboard/project_env/lib/site-packages/plotly/express/_core.py?line=1405'>1406</a>\u001b[0m     args, wide_mode, var_name, value_name\n\u001b[0;32m   <a href='file:///c%3A/Users/moham/OneDrive%20-%20University%20of%20Nottingham%20Malaysia%20Campus/Future%20University/Halan_Dashboard/project_env/lib/site-packages/plotly/express/_core.py?line=1406'>1407</a>\u001b[0m )\n\u001b[0;32m   <a href='file:///c%3A/Users/moham/OneDrive%20-%20University%20of%20Nottingham%20Malaysia%20Campus/Future%20University/Halan_Dashboard/project_env/lib/site-packages/plotly/express/_core.py?line=1408'>1409</a>\u001b[0m \u001b[39m# now that `df_output` exists and `args` contains only references, we complete\u001b[39;00m\n\u001b[0;32m   <a href='file:///c%3A/Users/moham/OneDrive%20-%20University%20of%20Nottingham%20Malaysia%20Campus/Future%20University/Halan_Dashboard/project_env/lib/site-packages/plotly/express/_core.py?line=1409'>1410</a>\u001b[0m \u001b[39m# the special-case and wide-mode handling by further rewriting args and/or mutating\u001b[39;00m\n\u001b[0;32m   <a href='file:///c%3A/Users/moham/OneDrive%20-%20University%20of%20Nottingham%20Malaysia%20Campus/Future%20University/Halan_Dashboard/project_env/lib/site-packages/plotly/express/_core.py?line=1410'>1411</a>\u001b[0m \u001b[39m# df_output\u001b[39;00m\n\u001b[0;32m   <a href='file:///c%3A/Users/moham/OneDrive%20-%20University%20of%20Nottingham%20Malaysia%20Campus/Future%20University/Halan_Dashboard/project_env/lib/site-packages/plotly/express/_core.py?line=1412'>1413</a>\u001b[0m count_name \u001b[39m=\u001b[39m _escape_col_name(df_output, \u001b[39m\"\u001b[39m\u001b[39mcount\u001b[39m\u001b[39m\"\u001b[39m, [var_name, value_name])\n",
      "File \u001b[1;32mc:\\Users\\moham\\OneDrive - University of Nottingham Malaysia Campus\\Future University\\Halan_Dashboard\\project_env\\lib\\site-packages\\plotly\\express\\_core.py:1207\u001b[0m, in \u001b[0;36mprocess_args_into_dataframe\u001b[1;34m(args, wide_mode, var_name, value_name)\u001b[0m\n\u001b[0;32m   <a href='file:///c%3A/Users/moham/OneDrive%20-%20University%20of%20Nottingham%20Malaysia%20Campus/Future%20University/Halan_Dashboard/project_env/lib/site-packages/plotly/express/_core.py?line=1204'>1205</a>\u001b[0m         \u001b[39mif\u001b[39;00m argument \u001b[39m==\u001b[39m \u001b[39m\"\u001b[39m\u001b[39mindex\u001b[39m\u001b[39m\"\u001b[39m:\n\u001b[0;32m   <a href='file:///c%3A/Users/moham/OneDrive%20-%20University%20of%20Nottingham%20Malaysia%20Campus/Future%20University/Halan_Dashboard/project_env/lib/site-packages/plotly/express/_core.py?line=1205'>1206</a>\u001b[0m             err_msg \u001b[39m+\u001b[39m\u001b[39m=\u001b[39m \u001b[39m\"\u001b[39m\u001b[39m\\n\u001b[39;00m\u001b[39m To use the index, pass it in directly as `df.index`.\u001b[39m\u001b[39m\"\u001b[39m\n\u001b[1;32m-> <a href='file:///c%3A/Users/moham/OneDrive%20-%20University%20of%20Nottingham%20Malaysia%20Campus/Future%20University/Halan_Dashboard/project_env/lib/site-packages/plotly/express/_core.py?line=1206'>1207</a>\u001b[0m         \u001b[39mraise\u001b[39;00m \u001b[39mValueError\u001b[39;00m(err_msg)\n\u001b[0;32m   <a href='file:///c%3A/Users/moham/OneDrive%20-%20University%20of%20Nottingham%20Malaysia%20Campus/Future%20University/Halan_Dashboard/project_env/lib/site-packages/plotly/express/_core.py?line=1207'>1208</a>\u001b[0m \u001b[39melif\u001b[39;00m length \u001b[39mand\u001b[39;00m \u001b[39mlen\u001b[39m(df_input[argument]) \u001b[39m!=\u001b[39m length:\n\u001b[0;32m   <a href='file:///c%3A/Users/moham/OneDrive%20-%20University%20of%20Nottingham%20Malaysia%20Campus/Future%20University/Halan_Dashboard/project_env/lib/site-packages/plotly/express/_core.py?line=1208'>1209</a>\u001b[0m     \u001b[39mraise\u001b[39;00m \u001b[39mValueError\u001b[39;00m(\n\u001b[0;32m   <a href='file:///c%3A/Users/moham/OneDrive%20-%20University%20of%20Nottingham%20Malaysia%20Campus/Future%20University/Halan_Dashboard/project_env/lib/site-packages/plotly/express/_core.py?line=1209'>1210</a>\u001b[0m         \u001b[39m\"\u001b[39m\u001b[39mAll arguments should have the same length. \u001b[39m\u001b[39m\"\u001b[39m\n\u001b[0;32m   <a href='file:///c%3A/Users/moham/OneDrive%20-%20University%20of%20Nottingham%20Malaysia%20Campus/Future%20University/Halan_Dashboard/project_env/lib/site-packages/plotly/express/_core.py?line=1210'>1211</a>\u001b[0m         \u001b[39m\"\u001b[39m\u001b[39mThe length of column argument `df[\u001b[39m\u001b[39m%s\u001b[39;00m\u001b[39m]` is \u001b[39m\u001b[39m%d\u001b[39;00m\u001b[39m, whereas the \u001b[39m\u001b[39m\"\u001b[39m\n\u001b[1;32m   (...)\u001b[0m\n\u001b[0;32m   <a href='file:///c%3A/Users/moham/OneDrive%20-%20University%20of%20Nottingham%20Malaysia%20Campus/Future%20University/Halan_Dashboard/project_env/lib/site-packages/plotly/express/_core.py?line=1217'>1218</a>\u001b[0m         )\n\u001b[0;32m   <a href='file:///c%3A/Users/moham/OneDrive%20-%20University%20of%20Nottingham%20Malaysia%20Campus/Future%20University/Halan_Dashboard/project_env/lib/site-packages/plotly/express/_core.py?line=1218'>1219</a>\u001b[0m     )\n",
      "\u001b[1;31mValueError\u001b[0m: Value of 'x' is not the name of a column in 'data_frame'. Expected one of ['Month', 'Week', 'Original', 'Delivered', 'Date', 'MA12'] but received: Series"
     ]
    }
   ],
   "source": [
    "# create 12 month moving average\n",
    "data = deseasonalized\n",
    "data['MA12'] = data['Original'].rolling(5).mean()# plot the data and MA\n",
    "import plotly.express as px\n",
    "fig = px.line(data, x='Series', y=[\"Original\", \"MA12\"], template = 'plotly_dark')\n",
    "fig.show()"
   ]
  },
  {
   "cell_type": "code",
   "execution_count": null,
   "metadata": {},
   "outputs": [],
   "source": [
    "import numpy as np\n",
    "data['Series'] = np.arange(1,len(data)+1)"
   ]
  },
  {
   "cell_type": "code",
   "execution_count": null,
   "metadata": {},
   "outputs": [
    {
     "data": {
      "text/html": [
       "<div>\n",
       "<style scoped>\n",
       "    .dataframe tbody tr th:only-of-type {\n",
       "        vertical-align: middle;\n",
       "    }\n",
       "\n",
       "    .dataframe tbody tr th {\n",
       "        vertical-align: top;\n",
       "    }\n",
       "\n",
       "    .dataframe thead th {\n",
       "        text-align: right;\n",
       "    }\n",
       "</style>\n",
       "<table border=\"1\" class=\"dataframe\">\n",
       "  <thead>\n",
       "    <tr style=\"text-align: right;\">\n",
       "      <th></th>\n",
       "      <th>Month</th>\n",
       "      <th>Week</th>\n",
       "      <th>Original</th>\n",
       "      <th>Delivered</th>\n",
       "      <th>Series</th>\n",
       "      <th>MA12</th>\n",
       "    </tr>\n",
       "  </thead>\n",
       "  <tbody>\n",
       "    <tr>\n",
       "      <th>0</th>\n",
       "      <td>6</td>\n",
       "      <td>1</td>\n",
       "      <td>509.000000</td>\n",
       "      <td>441.331985</td>\n",
       "      <td>1</td>\n",
       "      <td>NaN</td>\n",
       "    </tr>\n",
       "    <tr>\n",
       "      <th>1</th>\n",
       "      <td>6</td>\n",
       "      <td>2</td>\n",
       "      <td>388.000000</td>\n",
       "      <td>408.446103</td>\n",
       "      <td>2</td>\n",
       "      <td>NaN</td>\n",
       "    </tr>\n",
       "    <tr>\n",
       "      <th>2</th>\n",
       "      <td>6</td>\n",
       "      <td>3</td>\n",
       "      <td>405.000000</td>\n",
       "      <td>416.006596</td>\n",
       "      <td>3</td>\n",
       "      <td>NaN</td>\n",
       "    </tr>\n",
       "    <tr>\n",
       "      <th>3</th>\n",
       "      <td>6</td>\n",
       "      <td>4</td>\n",
       "      <td>343.000000</td>\n",
       "      <td>371.538133</td>\n",
       "      <td>4</td>\n",
       "      <td>NaN</td>\n",
       "    </tr>\n",
       "    <tr>\n",
       "      <th>4</th>\n",
       "      <td>7</td>\n",
       "      <td>1</td>\n",
       "      <td>553.000000</td>\n",
       "      <td>479.482491</td>\n",
       "      <td>5</td>\n",
       "      <td>439.600000</td>\n",
       "    </tr>\n",
       "    <tr>\n",
       "      <th>5</th>\n",
       "      <td>7</td>\n",
       "      <td>2</td>\n",
       "      <td>342.000000</td>\n",
       "      <td>360.022081</td>\n",
       "      <td>6</td>\n",
       "      <td>406.200000</td>\n",
       "    </tr>\n",
       "    <tr>\n",
       "      <th>6</th>\n",
       "      <td>7</td>\n",
       "      <td>3</td>\n",
       "      <td>353.000000</td>\n",
       "      <td>362.593403</td>\n",
       "      <td>7</td>\n",
       "      <td>399.200000</td>\n",
       "    </tr>\n",
       "    <tr>\n",
       "      <th>7</th>\n",
       "      <td>7</td>\n",
       "      <td>4</td>\n",
       "      <td>293.000000</td>\n",
       "      <td>317.378055</td>\n",
       "      <td>8</td>\n",
       "      <td>376.800000</td>\n",
       "    </tr>\n",
       "    <tr>\n",
       "      <th>8</th>\n",
       "      <td>8</td>\n",
       "      <td>1</td>\n",
       "      <td>373.000000</td>\n",
       "      <td>323.412241</td>\n",
       "      <td>9</td>\n",
       "      <td>382.800000</td>\n",
       "    </tr>\n",
       "    <tr>\n",
       "      <th>9</th>\n",
       "      <td>8</td>\n",
       "      <td>2</td>\n",
       "      <td>375.000000</td>\n",
       "      <td>394.761054</td>\n",
       "      <td>10</td>\n",
       "      <td>347.200000</td>\n",
       "    </tr>\n",
       "    <tr>\n",
       "      <th>10</th>\n",
       "      <td>8</td>\n",
       "      <td>3</td>\n",
       "      <td>514.000000</td>\n",
       "      <td>527.968865</td>\n",
       "      <td>11</td>\n",
       "      <td>381.600000</td>\n",
       "    </tr>\n",
       "    <tr>\n",
       "      <th>11</th>\n",
       "      <td>8</td>\n",
       "      <td>4</td>\n",
       "      <td>649.000000</td>\n",
       "      <td>702.997808</td>\n",
       "      <td>12</td>\n",
       "      <td>440.800000</td>\n",
       "    </tr>\n",
       "    <tr>\n",
       "      <th>12</th>\n",
       "      <td>9</td>\n",
       "      <td>1</td>\n",
       "      <td>630.000000</td>\n",
       "      <td>546.245876</td>\n",
       "      <td>13</td>\n",
       "      <td>508.200000</td>\n",
       "    </tr>\n",
       "    <tr>\n",
       "      <th>13</th>\n",
       "      <td>9</td>\n",
       "      <td>2</td>\n",
       "      <td>450.000000</td>\n",
       "      <td>473.713264</td>\n",
       "      <td>14</td>\n",
       "      <td>523.600000</td>\n",
       "    </tr>\n",
       "    <tr>\n",
       "      <th>14</th>\n",
       "      <td>9</td>\n",
       "      <td>3</td>\n",
       "      <td>500.000000</td>\n",
       "      <td>513.588390</td>\n",
       "      <td>15</td>\n",
       "      <td>548.600000</td>\n",
       "    </tr>\n",
       "    <tr>\n",
       "      <th>15</th>\n",
       "      <td>9</td>\n",
       "      <td>4</td>\n",
       "      <td>700.000000</td>\n",
       "      <td>758.241087</td>\n",
       "      <td>16</td>\n",
       "      <td>585.800000</td>\n",
       "    </tr>\n",
       "    <tr>\n",
       "      <th>16</th>\n",
       "      <td>10</td>\n",
       "      <td>1</td>\n",
       "      <td>520.000000</td>\n",
       "      <td>450.869612</td>\n",
       "      <td>17</td>\n",
       "      <td>560.000000</td>\n",
       "    </tr>\n",
       "    <tr>\n",
       "      <th>17</th>\n",
       "      <td>10</td>\n",
       "      <td>2</td>\n",
       "      <td>537.000000</td>\n",
       "      <td>565.297829</td>\n",
       "      <td>18</td>\n",
       "      <td>541.400000</td>\n",
       "    </tr>\n",
       "    <tr>\n",
       "      <th>18</th>\n",
       "      <td>10</td>\n",
       "      <td>3</td>\n",
       "      <td>410.000000</td>\n",
       "      <td>421.142480</td>\n",
       "      <td>19</td>\n",
       "      <td>533.400000</td>\n",
       "    </tr>\n",
       "    <tr>\n",
       "      <th>19</th>\n",
       "      <td>10</td>\n",
       "      <td>4</td>\n",
       "      <td>159.000000</td>\n",
       "      <td>172.229047</td>\n",
       "      <td>20</td>\n",
       "      <td>465.200000</td>\n",
       "    </tr>\n",
       "    <tr>\n",
       "      <th>20</th>\n",
       "      <td>11</td>\n",
       "      <td>1</td>\n",
       "      <td>461.613733</td>\n",
       "      <td>400.245393</td>\n",
       "      <td>21</td>\n",
       "      <td>417.522747</td>\n",
       "    </tr>\n",
       "    <tr>\n",
       "      <th>21</th>\n",
       "      <td>11</td>\n",
       "      <td>2</td>\n",
       "      <td>415.262743</td>\n",
       "      <td>437.145487</td>\n",
       "      <td>22</td>\n",
       "      <td>396.575295</td>\n",
       "    </tr>\n",
       "    <tr>\n",
       "      <th>22</th>\n",
       "      <td>11</td>\n",
       "      <td>3</td>\n",
       "      <td>417.597030</td>\n",
       "      <td>428.945972</td>\n",
       "      <td>23</td>\n",
       "      <td>372.694701</td>\n",
       "    </tr>\n",
       "    <tr>\n",
       "      <th>23</th>\n",
       "      <td>11</td>\n",
       "      <td>4</td>\n",
       "      <td>412.646005</td>\n",
       "      <td>446.978794</td>\n",
       "      <td>24</td>\n",
       "      <td>373.223902</td>\n",
       "    </tr>\n",
       "  </tbody>\n",
       "</table>\n",
       "</div>"
      ],
      "text/plain": [
       "    Month  Week    Original   Delivered  Series        MA12\n",
       "0       6     1  509.000000  441.331985       1         NaN\n",
       "1       6     2  388.000000  408.446103       2         NaN\n",
       "2       6     3  405.000000  416.006596       3         NaN\n",
       "3       6     4  343.000000  371.538133       4         NaN\n",
       "4       7     1  553.000000  479.482491       5  439.600000\n",
       "5       7     2  342.000000  360.022081       6  406.200000\n",
       "6       7     3  353.000000  362.593403       7  399.200000\n",
       "7       7     4  293.000000  317.378055       8  376.800000\n",
       "8       8     1  373.000000  323.412241       9  382.800000\n",
       "9       8     2  375.000000  394.761054      10  347.200000\n",
       "10      8     3  514.000000  527.968865      11  381.600000\n",
       "11      8     4  649.000000  702.997808      12  440.800000\n",
       "12      9     1  630.000000  546.245876      13  508.200000\n",
       "13      9     2  450.000000  473.713264      14  523.600000\n",
       "14      9     3  500.000000  513.588390      15  548.600000\n",
       "15      9     4  700.000000  758.241087      16  585.800000\n",
       "16     10     1  520.000000  450.869612      17  560.000000\n",
       "17     10     2  537.000000  565.297829      18  541.400000\n",
       "18     10     3  410.000000  421.142480      19  533.400000\n",
       "19     10     4  159.000000  172.229047      20  465.200000\n",
       "20     11     1  461.613733  400.245393      21  417.522747\n",
       "21     11     2  415.262743  437.145487      22  396.575295\n",
       "22     11     3  417.597030  428.945972      23  372.694701\n",
       "23     11     4  412.646005  446.978794      24  373.223902"
      ]
     },
     "execution_count": 25,
     "metadata": {},
     "output_type": "execute_result"
    }
   ],
   "source": [
    "data"
   ]
  },
  {
   "cell_type": "code",
   "execution_count": null,
   "metadata": {},
   "outputs": [
    {
     "ename": "KeyError",
     "evalue": "\"['Date'] not found in axis\"",
     "output_type": "error",
     "traceback": [
      "\u001b[1;31m---------------------------------------------------------------------------\u001b[0m",
      "\u001b[1;31mKeyError\u001b[0m                                  Traceback (most recent call last)",
      "Input \u001b[1;32mIn [26]\u001b[0m, in \u001b[0;36m<cell line: 2>\u001b[1;34m()\u001b[0m\n\u001b[0;32m      1\u001b[0m \u001b[39m# drop unnecessary columns and re-arrange\u001b[39;00m\n\u001b[1;32m----> 2\u001b[0m data\u001b[39m.\u001b[39;49mdrop([\u001b[39m'\u001b[39;49m\u001b[39mDate\u001b[39;49m\u001b[39m'\u001b[39;49m, \u001b[39m'\u001b[39;49m\u001b[39mMA12\u001b[39;49m\u001b[39m'\u001b[39;49m], axis\u001b[39m=\u001b[39;49m\u001b[39m1\u001b[39;49m, inplace\u001b[39m=\u001b[39;49m\u001b[39mTrue\u001b[39;49;00m)\n\u001b[0;32m      3\u001b[0m data \u001b[39m=\u001b[39m data[[\u001b[39m'\u001b[39m\u001b[39mSeries\u001b[39m\u001b[39m'\u001b[39m, \u001b[39m'\u001b[39m\u001b[39mMonth\u001b[39m\u001b[39m'\u001b[39m, \u001b[39m'\u001b[39m\u001b[39mWeek\u001b[39m\u001b[39m'\u001b[39m, \u001b[39m'\u001b[39m\u001b[39mDelivered\u001b[39m\u001b[39m'\u001b[39m]]\n",
      "File \u001b[1;32mc:\\Users\\moham\\OneDrive - University of Nottingham Malaysia Campus\\Future University\\Halan_Dashboard\\project_env\\lib\\site-packages\\pandas\\util\\_decorators.py:311\u001b[0m, in \u001b[0;36mdeprecate_nonkeyword_arguments.<locals>.decorate.<locals>.wrapper\u001b[1;34m(*args, **kwargs)\u001b[0m\n\u001b[0;32m    <a href='file:///c%3A/Users/moham/OneDrive%20-%20University%20of%20Nottingham%20Malaysia%20Campus/Future%20University/Halan_Dashboard/project_env/lib/site-packages/pandas/util/_decorators.py?line=304'>305</a>\u001b[0m \u001b[39mif\u001b[39;00m \u001b[39mlen\u001b[39m(args) \u001b[39m>\u001b[39m num_allow_args:\n\u001b[0;32m    <a href='file:///c%3A/Users/moham/OneDrive%20-%20University%20of%20Nottingham%20Malaysia%20Campus/Future%20University/Halan_Dashboard/project_env/lib/site-packages/pandas/util/_decorators.py?line=305'>306</a>\u001b[0m     warnings\u001b[39m.\u001b[39mwarn(\n\u001b[0;32m    <a href='file:///c%3A/Users/moham/OneDrive%20-%20University%20of%20Nottingham%20Malaysia%20Campus/Future%20University/Halan_Dashboard/project_env/lib/site-packages/pandas/util/_decorators.py?line=306'>307</a>\u001b[0m         msg\u001b[39m.\u001b[39mformat(arguments\u001b[39m=\u001b[39marguments),\n\u001b[0;32m    <a href='file:///c%3A/Users/moham/OneDrive%20-%20University%20of%20Nottingham%20Malaysia%20Campus/Future%20University/Halan_Dashboard/project_env/lib/site-packages/pandas/util/_decorators.py?line=307'>308</a>\u001b[0m         \u001b[39mFutureWarning\u001b[39;00m,\n\u001b[0;32m    <a href='file:///c%3A/Users/moham/OneDrive%20-%20University%20of%20Nottingham%20Malaysia%20Campus/Future%20University/Halan_Dashboard/project_env/lib/site-packages/pandas/util/_decorators.py?line=308'>309</a>\u001b[0m         stacklevel\u001b[39m=\u001b[39mstacklevel,\n\u001b[0;32m    <a href='file:///c%3A/Users/moham/OneDrive%20-%20University%20of%20Nottingham%20Malaysia%20Campus/Future%20University/Halan_Dashboard/project_env/lib/site-packages/pandas/util/_decorators.py?line=309'>310</a>\u001b[0m     )\n\u001b[1;32m--> <a href='file:///c%3A/Users/moham/OneDrive%20-%20University%20of%20Nottingham%20Malaysia%20Campus/Future%20University/Halan_Dashboard/project_env/lib/site-packages/pandas/util/_decorators.py?line=310'>311</a>\u001b[0m \u001b[39mreturn\u001b[39;00m func(\u001b[39m*\u001b[39;49margs, \u001b[39m*\u001b[39;49m\u001b[39m*\u001b[39;49mkwargs)\n",
      "File \u001b[1;32mc:\\Users\\moham\\OneDrive - University of Nottingham Malaysia Campus\\Future University\\Halan_Dashboard\\project_env\\lib\\site-packages\\pandas\\core\\frame.py:4956\u001b[0m, in \u001b[0;36mDataFrame.drop\u001b[1;34m(self, labels, axis, index, columns, level, inplace, errors)\u001b[0m\n\u001b[0;32m   <a href='file:///c%3A/Users/moham/OneDrive%20-%20University%20of%20Nottingham%20Malaysia%20Campus/Future%20University/Halan_Dashboard/project_env/lib/site-packages/pandas/core/frame.py?line=4807'>4808</a>\u001b[0m \u001b[39m@deprecate_nonkeyword_arguments\u001b[39m(version\u001b[39m=\u001b[39m\u001b[39mNone\u001b[39;00m, allowed_args\u001b[39m=\u001b[39m[\u001b[39m\"\u001b[39m\u001b[39mself\u001b[39m\u001b[39m\"\u001b[39m, \u001b[39m\"\u001b[39m\u001b[39mlabels\u001b[39m\u001b[39m\"\u001b[39m])\n\u001b[0;32m   <a href='file:///c%3A/Users/moham/OneDrive%20-%20University%20of%20Nottingham%20Malaysia%20Campus/Future%20University/Halan_Dashboard/project_env/lib/site-packages/pandas/core/frame.py?line=4808'>4809</a>\u001b[0m \u001b[39mdef\u001b[39;00m \u001b[39mdrop\u001b[39m(\n\u001b[0;32m   <a href='file:///c%3A/Users/moham/OneDrive%20-%20University%20of%20Nottingham%20Malaysia%20Campus/Future%20University/Halan_Dashboard/project_env/lib/site-packages/pandas/core/frame.py?line=4809'>4810</a>\u001b[0m     \u001b[39mself\u001b[39m,\n\u001b[1;32m   (...)\u001b[0m\n\u001b[0;32m   <a href='file:///c%3A/Users/moham/OneDrive%20-%20University%20of%20Nottingham%20Malaysia%20Campus/Future%20University/Halan_Dashboard/project_env/lib/site-packages/pandas/core/frame.py?line=4816'>4817</a>\u001b[0m     errors: \u001b[39mstr\u001b[39m \u001b[39m=\u001b[39m \u001b[39m\"\u001b[39m\u001b[39mraise\u001b[39m\u001b[39m\"\u001b[39m,\n\u001b[0;32m   <a href='file:///c%3A/Users/moham/OneDrive%20-%20University%20of%20Nottingham%20Malaysia%20Campus/Future%20University/Halan_Dashboard/project_env/lib/site-packages/pandas/core/frame.py?line=4817'>4818</a>\u001b[0m ):\n\u001b[0;32m   <a href='file:///c%3A/Users/moham/OneDrive%20-%20University%20of%20Nottingham%20Malaysia%20Campus/Future%20University/Halan_Dashboard/project_env/lib/site-packages/pandas/core/frame.py?line=4818'>4819</a>\u001b[0m     \u001b[39m\"\"\"\u001b[39;00m\n\u001b[0;32m   <a href='file:///c%3A/Users/moham/OneDrive%20-%20University%20of%20Nottingham%20Malaysia%20Campus/Future%20University/Halan_Dashboard/project_env/lib/site-packages/pandas/core/frame.py?line=4819'>4820</a>\u001b[0m \u001b[39m    Drop specified labels from rows or columns.\u001b[39;00m\n\u001b[0;32m   <a href='file:///c%3A/Users/moham/OneDrive%20-%20University%20of%20Nottingham%20Malaysia%20Campus/Future%20University/Halan_Dashboard/project_env/lib/site-packages/pandas/core/frame.py?line=4820'>4821</a>\u001b[0m \n\u001b[1;32m   (...)\u001b[0m\n\u001b[0;32m   <a href='file:///c%3A/Users/moham/OneDrive%20-%20University%20of%20Nottingham%20Malaysia%20Campus/Future%20University/Halan_Dashboard/project_env/lib/site-packages/pandas/core/frame.py?line=4953'>4954</a>\u001b[0m \u001b[39m            weight  1.0     0.8\u001b[39;00m\n\u001b[0;32m   <a href='file:///c%3A/Users/moham/OneDrive%20-%20University%20of%20Nottingham%20Malaysia%20Campus/Future%20University/Halan_Dashboard/project_env/lib/site-packages/pandas/core/frame.py?line=4954'>4955</a>\u001b[0m \u001b[39m    \"\"\"\u001b[39;00m\n\u001b[1;32m-> <a href='file:///c%3A/Users/moham/OneDrive%20-%20University%20of%20Nottingham%20Malaysia%20Campus/Future%20University/Halan_Dashboard/project_env/lib/site-packages/pandas/core/frame.py?line=4955'>4956</a>\u001b[0m     \u001b[39mreturn\u001b[39;00m \u001b[39msuper\u001b[39;49m()\u001b[39m.\u001b[39;49mdrop(\n\u001b[0;32m   <a href='file:///c%3A/Users/moham/OneDrive%20-%20University%20of%20Nottingham%20Malaysia%20Campus/Future%20University/Halan_Dashboard/project_env/lib/site-packages/pandas/core/frame.py?line=4956'>4957</a>\u001b[0m         labels\u001b[39m=\u001b[39;49mlabels,\n\u001b[0;32m   <a href='file:///c%3A/Users/moham/OneDrive%20-%20University%20of%20Nottingham%20Malaysia%20Campus/Future%20University/Halan_Dashboard/project_env/lib/site-packages/pandas/core/frame.py?line=4957'>4958</a>\u001b[0m         axis\u001b[39m=\u001b[39;49maxis,\n\u001b[0;32m   <a href='file:///c%3A/Users/moham/OneDrive%20-%20University%20of%20Nottingham%20Malaysia%20Campus/Future%20University/Halan_Dashboard/project_env/lib/site-packages/pandas/core/frame.py?line=4958'>4959</a>\u001b[0m         index\u001b[39m=\u001b[39;49mindex,\n\u001b[0;32m   <a href='file:///c%3A/Users/moham/OneDrive%20-%20University%20of%20Nottingham%20Malaysia%20Campus/Future%20University/Halan_Dashboard/project_env/lib/site-packages/pandas/core/frame.py?line=4959'>4960</a>\u001b[0m         columns\u001b[39m=\u001b[39;49mcolumns,\n\u001b[0;32m   <a href='file:///c%3A/Users/moham/OneDrive%20-%20University%20of%20Nottingham%20Malaysia%20Campus/Future%20University/Halan_Dashboard/project_env/lib/site-packages/pandas/core/frame.py?line=4960'>4961</a>\u001b[0m         level\u001b[39m=\u001b[39;49mlevel,\n\u001b[0;32m   <a href='file:///c%3A/Users/moham/OneDrive%20-%20University%20of%20Nottingham%20Malaysia%20Campus/Future%20University/Halan_Dashboard/project_env/lib/site-packages/pandas/core/frame.py?line=4961'>4962</a>\u001b[0m         inplace\u001b[39m=\u001b[39;49minplace,\n\u001b[0;32m   <a href='file:///c%3A/Users/moham/OneDrive%20-%20University%20of%20Nottingham%20Malaysia%20Campus/Future%20University/Halan_Dashboard/project_env/lib/site-packages/pandas/core/frame.py?line=4962'>4963</a>\u001b[0m         errors\u001b[39m=\u001b[39;49merrors,\n\u001b[0;32m   <a href='file:///c%3A/Users/moham/OneDrive%20-%20University%20of%20Nottingham%20Malaysia%20Campus/Future%20University/Halan_Dashboard/project_env/lib/site-packages/pandas/core/frame.py?line=4963'>4964</a>\u001b[0m     )\n",
      "File \u001b[1;32mc:\\Users\\moham\\OneDrive - University of Nottingham Malaysia Campus\\Future University\\Halan_Dashboard\\project_env\\lib\\site-packages\\pandas\\core\\generic.py:4279\u001b[0m, in \u001b[0;36mNDFrame.drop\u001b[1;34m(self, labels, axis, index, columns, level, inplace, errors)\u001b[0m\n\u001b[0;32m   <a href='file:///c%3A/Users/moham/OneDrive%20-%20University%20of%20Nottingham%20Malaysia%20Campus/Future%20University/Halan_Dashboard/project_env/lib/site-packages/pandas/core/generic.py?line=4276'>4277</a>\u001b[0m \u001b[39mfor\u001b[39;00m axis, labels \u001b[39min\u001b[39;00m axes\u001b[39m.\u001b[39mitems():\n\u001b[0;32m   <a href='file:///c%3A/Users/moham/OneDrive%20-%20University%20of%20Nottingham%20Malaysia%20Campus/Future%20University/Halan_Dashboard/project_env/lib/site-packages/pandas/core/generic.py?line=4277'>4278</a>\u001b[0m     \u001b[39mif\u001b[39;00m labels \u001b[39mis\u001b[39;00m \u001b[39mnot\u001b[39;00m \u001b[39mNone\u001b[39;00m:\n\u001b[1;32m-> <a href='file:///c%3A/Users/moham/OneDrive%20-%20University%20of%20Nottingham%20Malaysia%20Campus/Future%20University/Halan_Dashboard/project_env/lib/site-packages/pandas/core/generic.py?line=4278'>4279</a>\u001b[0m         obj \u001b[39m=\u001b[39m obj\u001b[39m.\u001b[39;49m_drop_axis(labels, axis, level\u001b[39m=\u001b[39;49mlevel, errors\u001b[39m=\u001b[39;49merrors)\n\u001b[0;32m   <a href='file:///c%3A/Users/moham/OneDrive%20-%20University%20of%20Nottingham%20Malaysia%20Campus/Future%20University/Halan_Dashboard/project_env/lib/site-packages/pandas/core/generic.py?line=4280'>4281</a>\u001b[0m \u001b[39mif\u001b[39;00m inplace:\n\u001b[0;32m   <a href='file:///c%3A/Users/moham/OneDrive%20-%20University%20of%20Nottingham%20Malaysia%20Campus/Future%20University/Halan_Dashboard/project_env/lib/site-packages/pandas/core/generic.py?line=4281'>4282</a>\u001b[0m     \u001b[39mself\u001b[39m\u001b[39m.\u001b[39m_update_inplace(obj)\n",
      "File \u001b[1;32mc:\\Users\\moham\\OneDrive - University of Nottingham Malaysia Campus\\Future University\\Halan_Dashboard\\project_env\\lib\\site-packages\\pandas\\core\\generic.py:4323\u001b[0m, in \u001b[0;36mNDFrame._drop_axis\u001b[1;34m(self, labels, axis, level, errors, consolidate, only_slice)\u001b[0m\n\u001b[0;32m   <a href='file:///c%3A/Users/moham/OneDrive%20-%20University%20of%20Nottingham%20Malaysia%20Campus/Future%20University/Halan_Dashboard/project_env/lib/site-packages/pandas/core/generic.py?line=4320'>4321</a>\u001b[0m         new_axis \u001b[39m=\u001b[39m axis\u001b[39m.\u001b[39mdrop(labels, level\u001b[39m=\u001b[39mlevel, errors\u001b[39m=\u001b[39merrors)\n\u001b[0;32m   <a href='file:///c%3A/Users/moham/OneDrive%20-%20University%20of%20Nottingham%20Malaysia%20Campus/Future%20University/Halan_Dashboard/project_env/lib/site-packages/pandas/core/generic.py?line=4321'>4322</a>\u001b[0m     \u001b[39melse\u001b[39;00m:\n\u001b[1;32m-> <a href='file:///c%3A/Users/moham/OneDrive%20-%20University%20of%20Nottingham%20Malaysia%20Campus/Future%20University/Halan_Dashboard/project_env/lib/site-packages/pandas/core/generic.py?line=4322'>4323</a>\u001b[0m         new_axis \u001b[39m=\u001b[39m axis\u001b[39m.\u001b[39;49mdrop(labels, errors\u001b[39m=\u001b[39;49merrors)\n\u001b[0;32m   <a href='file:///c%3A/Users/moham/OneDrive%20-%20University%20of%20Nottingham%20Malaysia%20Campus/Future%20University/Halan_Dashboard/project_env/lib/site-packages/pandas/core/generic.py?line=4323'>4324</a>\u001b[0m     indexer \u001b[39m=\u001b[39m axis\u001b[39m.\u001b[39mget_indexer(new_axis)\n\u001b[0;32m   <a href='file:///c%3A/Users/moham/OneDrive%20-%20University%20of%20Nottingham%20Malaysia%20Campus/Future%20University/Halan_Dashboard/project_env/lib/site-packages/pandas/core/generic.py?line=4325'>4326</a>\u001b[0m \u001b[39m# Case for non-unique axis\u001b[39;00m\n\u001b[0;32m   <a href='file:///c%3A/Users/moham/OneDrive%20-%20University%20of%20Nottingham%20Malaysia%20Campus/Future%20University/Halan_Dashboard/project_env/lib/site-packages/pandas/core/generic.py?line=4326'>4327</a>\u001b[0m \u001b[39melse\u001b[39;00m:\n",
      "File \u001b[1;32mc:\\Users\\moham\\OneDrive - University of Nottingham Malaysia Campus\\Future University\\Halan_Dashboard\\project_env\\lib\\site-packages\\pandas\\core\\indexes\\base.py:6644\u001b[0m, in \u001b[0;36mIndex.drop\u001b[1;34m(self, labels, errors)\u001b[0m\n\u001b[0;32m   <a href='file:///c%3A/Users/moham/OneDrive%20-%20University%20of%20Nottingham%20Malaysia%20Campus/Future%20University/Halan_Dashboard/project_env/lib/site-packages/pandas/core/indexes/base.py?line=6641'>6642</a>\u001b[0m \u001b[39mif\u001b[39;00m mask\u001b[39m.\u001b[39many():\n\u001b[0;32m   <a href='file:///c%3A/Users/moham/OneDrive%20-%20University%20of%20Nottingham%20Malaysia%20Campus/Future%20University/Halan_Dashboard/project_env/lib/site-packages/pandas/core/indexes/base.py?line=6642'>6643</a>\u001b[0m     \u001b[39mif\u001b[39;00m errors \u001b[39m!=\u001b[39m \u001b[39m\"\u001b[39m\u001b[39mignore\u001b[39m\u001b[39m\"\u001b[39m:\n\u001b[1;32m-> <a href='file:///c%3A/Users/moham/OneDrive%20-%20University%20of%20Nottingham%20Malaysia%20Campus/Future%20University/Halan_Dashboard/project_env/lib/site-packages/pandas/core/indexes/base.py?line=6643'>6644</a>\u001b[0m         \u001b[39mraise\u001b[39;00m \u001b[39mKeyError\u001b[39;00m(\u001b[39mf\u001b[39m\u001b[39m\"\u001b[39m\u001b[39m{\u001b[39;00m\u001b[39mlist\u001b[39m(labels[mask])\u001b[39m}\u001b[39;00m\u001b[39m not found in axis\u001b[39m\u001b[39m\"\u001b[39m)\n\u001b[0;32m   <a href='file:///c%3A/Users/moham/OneDrive%20-%20University%20of%20Nottingham%20Malaysia%20Campus/Future%20University/Halan_Dashboard/project_env/lib/site-packages/pandas/core/indexes/base.py?line=6644'>6645</a>\u001b[0m     indexer \u001b[39m=\u001b[39m indexer[\u001b[39m~\u001b[39mmask]\n\u001b[0;32m   <a href='file:///c%3A/Users/moham/OneDrive%20-%20University%20of%20Nottingham%20Malaysia%20Campus/Future%20University/Halan_Dashboard/project_env/lib/site-packages/pandas/core/indexes/base.py?line=6645'>6646</a>\u001b[0m \u001b[39mreturn\u001b[39;00m \u001b[39mself\u001b[39m\u001b[39m.\u001b[39mdelete(indexer)\n",
      "\u001b[1;31mKeyError\u001b[0m: \"['Date'] not found in axis\""
     ]
    }
   ],
   "source": [
    "# drop unnecessary columns and re-arrange\n",
    "data.drop(['Date', 'MA12'], axis=1, inplace=True)\n",
    "data = data[['Series', 'Month', 'Week', 'Delivered']] "
   ]
  },
  {
   "cell_type": "code",
   "execution_count": null,
   "metadata": {},
   "outputs": [
    {
     "data": {
      "text/plain": [
       "((20, 4), (4, 4))"
      ]
     },
     "execution_count": 18,
     "metadata": {},
     "output_type": "execute_result"
    }
   ],
   "source": [
    "# split data into train-test set\n",
    "train = data[data['Month'] < 11]\n",
    "test = data[data['Month'] >= 11]# check shape\n",
    "train.shape, test.shape"
   ]
  },
  {
   "cell_type": "code",
   "execution_count": null,
   "metadata": {},
   "outputs": [
    {
     "data": {
      "text/html": [
       "<div>\n",
       "<style scoped>\n",
       "    .dataframe tbody tr th:only-of-type {\n",
       "        vertical-align: middle;\n",
       "    }\n",
       "\n",
       "    .dataframe tbody tr th {\n",
       "        vertical-align: top;\n",
       "    }\n",
       "\n",
       "    .dataframe thead th {\n",
       "        text-align: right;\n",
       "    }\n",
       "</style>\n",
       "<table border=\"1\" class=\"dataframe\">\n",
       "  <thead>\n",
       "    <tr style=\"text-align: right;\">\n",
       "      <th></th>\n",
       "      <th>Month</th>\n",
       "      <th>Week</th>\n",
       "      <th>Original</th>\n",
       "      <th>Delivered</th>\n",
       "      <th>Series</th>\n",
       "      <th>MA12</th>\n",
       "    </tr>\n",
       "  </thead>\n",
       "  <tbody>\n",
       "    <tr>\n",
       "      <th>0</th>\n",
       "      <td>6</td>\n",
       "      <td>1</td>\n",
       "      <td>509.000000</td>\n",
       "      <td>441.331985</td>\n",
       "      <td>1</td>\n",
       "      <td>NaN</td>\n",
       "    </tr>\n",
       "    <tr>\n",
       "      <th>1</th>\n",
       "      <td>6</td>\n",
       "      <td>2</td>\n",
       "      <td>388.000000</td>\n",
       "      <td>408.446103</td>\n",
       "      <td>2</td>\n",
       "      <td>NaN</td>\n",
       "    </tr>\n",
       "    <tr>\n",
       "      <th>2</th>\n",
       "      <td>6</td>\n",
       "      <td>3</td>\n",
       "      <td>405.000000</td>\n",
       "      <td>416.006596</td>\n",
       "      <td>3</td>\n",
       "      <td>NaN</td>\n",
       "    </tr>\n",
       "    <tr>\n",
       "      <th>3</th>\n",
       "      <td>6</td>\n",
       "      <td>4</td>\n",
       "      <td>343.000000</td>\n",
       "      <td>371.538133</td>\n",
       "      <td>4</td>\n",
       "      <td>NaN</td>\n",
       "    </tr>\n",
       "    <tr>\n",
       "      <th>4</th>\n",
       "      <td>7</td>\n",
       "      <td>1</td>\n",
       "      <td>553.000000</td>\n",
       "      <td>479.482491</td>\n",
       "      <td>5</td>\n",
       "      <td>439.600000</td>\n",
       "    </tr>\n",
       "    <tr>\n",
       "      <th>5</th>\n",
       "      <td>7</td>\n",
       "      <td>2</td>\n",
       "      <td>342.000000</td>\n",
       "      <td>360.022081</td>\n",
       "      <td>6</td>\n",
       "      <td>406.200000</td>\n",
       "    </tr>\n",
       "    <tr>\n",
       "      <th>6</th>\n",
       "      <td>7</td>\n",
       "      <td>3</td>\n",
       "      <td>353.000000</td>\n",
       "      <td>362.593403</td>\n",
       "      <td>7</td>\n",
       "      <td>399.200000</td>\n",
       "    </tr>\n",
       "    <tr>\n",
       "      <th>7</th>\n",
       "      <td>7</td>\n",
       "      <td>4</td>\n",
       "      <td>293.000000</td>\n",
       "      <td>317.378055</td>\n",
       "      <td>8</td>\n",
       "      <td>376.800000</td>\n",
       "    </tr>\n",
       "    <tr>\n",
       "      <th>8</th>\n",
       "      <td>8</td>\n",
       "      <td>1</td>\n",
       "      <td>373.000000</td>\n",
       "      <td>323.412241</td>\n",
       "      <td>9</td>\n",
       "      <td>382.800000</td>\n",
       "    </tr>\n",
       "    <tr>\n",
       "      <th>9</th>\n",
       "      <td>8</td>\n",
       "      <td>2</td>\n",
       "      <td>375.000000</td>\n",
       "      <td>394.761054</td>\n",
       "      <td>10</td>\n",
       "      <td>347.200000</td>\n",
       "    </tr>\n",
       "    <tr>\n",
       "      <th>10</th>\n",
       "      <td>8</td>\n",
       "      <td>3</td>\n",
       "      <td>514.000000</td>\n",
       "      <td>527.968865</td>\n",
       "      <td>11</td>\n",
       "      <td>381.600000</td>\n",
       "    </tr>\n",
       "    <tr>\n",
       "      <th>11</th>\n",
       "      <td>8</td>\n",
       "      <td>4</td>\n",
       "      <td>649.000000</td>\n",
       "      <td>702.997808</td>\n",
       "      <td>12</td>\n",
       "      <td>440.800000</td>\n",
       "    </tr>\n",
       "    <tr>\n",
       "      <th>12</th>\n",
       "      <td>9</td>\n",
       "      <td>1</td>\n",
       "      <td>630.000000</td>\n",
       "      <td>546.245876</td>\n",
       "      <td>13</td>\n",
       "      <td>508.200000</td>\n",
       "    </tr>\n",
       "    <tr>\n",
       "      <th>13</th>\n",
       "      <td>9</td>\n",
       "      <td>2</td>\n",
       "      <td>450.000000</td>\n",
       "      <td>473.713264</td>\n",
       "      <td>14</td>\n",
       "      <td>523.600000</td>\n",
       "    </tr>\n",
       "    <tr>\n",
       "      <th>14</th>\n",
       "      <td>9</td>\n",
       "      <td>3</td>\n",
       "      <td>500.000000</td>\n",
       "      <td>513.588390</td>\n",
       "      <td>15</td>\n",
       "      <td>548.600000</td>\n",
       "    </tr>\n",
       "    <tr>\n",
       "      <th>15</th>\n",
       "      <td>9</td>\n",
       "      <td>4</td>\n",
       "      <td>700.000000</td>\n",
       "      <td>758.241087</td>\n",
       "      <td>16</td>\n",
       "      <td>585.800000</td>\n",
       "    </tr>\n",
       "    <tr>\n",
       "      <th>16</th>\n",
       "      <td>10</td>\n",
       "      <td>1</td>\n",
       "      <td>520.000000</td>\n",
       "      <td>450.869612</td>\n",
       "      <td>17</td>\n",
       "      <td>560.000000</td>\n",
       "    </tr>\n",
       "    <tr>\n",
       "      <th>17</th>\n",
       "      <td>10</td>\n",
       "      <td>2</td>\n",
       "      <td>537.000000</td>\n",
       "      <td>565.297829</td>\n",
       "      <td>18</td>\n",
       "      <td>541.400000</td>\n",
       "    </tr>\n",
       "    <tr>\n",
       "      <th>18</th>\n",
       "      <td>10</td>\n",
       "      <td>3</td>\n",
       "      <td>410.000000</td>\n",
       "      <td>421.142480</td>\n",
       "      <td>19</td>\n",
       "      <td>533.400000</td>\n",
       "    </tr>\n",
       "    <tr>\n",
       "      <th>19</th>\n",
       "      <td>10</td>\n",
       "      <td>4</td>\n",
       "      <td>159.000000</td>\n",
       "      <td>172.229047</td>\n",
       "      <td>20</td>\n",
       "      <td>465.200000</td>\n",
       "    </tr>\n",
       "    <tr>\n",
       "      <th>20</th>\n",
       "      <td>11</td>\n",
       "      <td>1</td>\n",
       "      <td>461.613733</td>\n",
       "      <td>400.245393</td>\n",
       "      <td>21</td>\n",
       "      <td>417.522747</td>\n",
       "    </tr>\n",
       "    <tr>\n",
       "      <th>21</th>\n",
       "      <td>11</td>\n",
       "      <td>2</td>\n",
       "      <td>415.262743</td>\n",
       "      <td>437.145487</td>\n",
       "      <td>22</td>\n",
       "      <td>396.575295</td>\n",
       "    </tr>\n",
       "    <tr>\n",
       "      <th>22</th>\n",
       "      <td>11</td>\n",
       "      <td>3</td>\n",
       "      <td>417.597030</td>\n",
       "      <td>428.945972</td>\n",
       "      <td>23</td>\n",
       "      <td>372.694701</td>\n",
       "    </tr>\n",
       "    <tr>\n",
       "      <th>23</th>\n",
       "      <td>11</td>\n",
       "      <td>4</td>\n",
       "      <td>412.646005</td>\n",
       "      <td>446.978794</td>\n",
       "      <td>24</td>\n",
       "      <td>373.223902</td>\n",
       "    </tr>\n",
       "  </tbody>\n",
       "</table>\n",
       "</div>"
      ],
      "text/plain": [
       "    Month  Week    Original   Delivered  Series        MA12\n",
       "0       6     1  509.000000  441.331985       1         NaN\n",
       "1       6     2  388.000000  408.446103       2         NaN\n",
       "2       6     3  405.000000  416.006596       3         NaN\n",
       "3       6     4  343.000000  371.538133       4         NaN\n",
       "4       7     1  553.000000  479.482491       5  439.600000\n",
       "5       7     2  342.000000  360.022081       6  406.200000\n",
       "6       7     3  353.000000  362.593403       7  399.200000\n",
       "7       7     4  293.000000  317.378055       8  376.800000\n",
       "8       8     1  373.000000  323.412241       9  382.800000\n",
       "9       8     2  375.000000  394.761054      10  347.200000\n",
       "10      8     3  514.000000  527.968865      11  381.600000\n",
       "11      8     4  649.000000  702.997808      12  440.800000\n",
       "12      9     1  630.000000  546.245876      13  508.200000\n",
       "13      9     2  450.000000  473.713264      14  523.600000\n",
       "14      9     3  500.000000  513.588390      15  548.600000\n",
       "15      9     4  700.000000  758.241087      16  585.800000\n",
       "16     10     1  520.000000  450.869612      17  560.000000\n",
       "17     10     2  537.000000  565.297829      18  541.400000\n",
       "18     10     3  410.000000  421.142480      19  533.400000\n",
       "19     10     4  159.000000  172.229047      20  465.200000\n",
       "20     11     1  461.613733  400.245393      21  417.522747\n",
       "21     11     2  415.262743  437.145487      22  396.575295\n",
       "22     11     3  417.597030  428.945972      23  372.694701\n",
       "23     11     4  412.646005  446.978794      24  373.223902"
      ]
     },
     "execution_count": 38,
     "metadata": {},
     "output_type": "execute_result"
    }
   ],
   "source": [
    "deseasonalized"
   ]
  },
  {
   "cell_type": "code",
   "execution_count": null,
   "metadata": {},
   "outputs": [
    {
     "name": "stdout",
     "output_type": "stream",
     "text": [
      "   Predicted Delivered\n",
      "0           352.520426\n",
      "1           436.884079\n",
      "2           268.156772\n",
      "3           434.562585\n",
      "4           349.038185\n"
     ]
    },
    {
     "name": "stderr",
     "output_type": "stream",
     "text": [
      "C:\\Users\\Public\\Documents\\Wondershare\\CreatorTemp\\ipykernel_13480\\4283678594.py:10: FutureWarning:\n",
      "\n",
      "In a future version of pandas all arguments of DataFrame.drop except for the argument 'labels' will be keyword-only.\n",
      "\n"
     ]
    }
   ],
   "source": [
    "import pandas as pd\n",
    "import numpy as np\n",
    "from sklearn.model_selection import train_test_split\n",
    "from sklearn.linear_model import PassiveAggressiveRegressor\n",
    "data = deseasonalized\n",
    "\n",
    "# drop unnecessary columns and re-arrange\n",
    "\n",
    "data = data[['Series', 'Month', 'Week', 'Original']] \n",
    "x = np.array(data.drop([\"Series\",\"Original\"], 1))\n",
    "y = np.array(data[\"Original\"])\n",
    "xtrain, xtest, ytrain, ytest = train_test_split(x, y, test_size=0.2, random_state=42)\n",
    "model = PassiveAggressiveRegressor()\n",
    "model.fit(xtrain, ytrain)\n",
    "ypred = model.predict(xtest)\n",
    "\n",
    "pred_del = pd.DataFrame(data={\"Predicted Delivered\": ypred.flatten()})\n",
    "print(pred_del.head())"
   ]
  },
  {
   "cell_type": "code",
   "execution_count": null,
   "metadata": {},
   "outputs": [],
   "source": []
  },
  {
   "cell_type": "code",
   "execution_count": null,
   "metadata": {},
   "outputs": [
    {
     "data": {
      "text/html": [
       "<div>\n",
       "<style scoped>\n",
       "    .dataframe tbody tr th:only-of-type {\n",
       "        vertical-align: middle;\n",
       "    }\n",
       "\n",
       "    .dataframe tbody tr th {\n",
       "        vertical-align: top;\n",
       "    }\n",
       "\n",
       "    .dataframe thead th {\n",
       "        text-align: right;\n",
       "    }\n",
       "</style>\n",
       "<table border=\"1\" class=\"dataframe\">\n",
       "  <thead>\n",
       "    <tr style=\"text-align: right;\">\n",
       "      <th></th>\n",
       "      <th>Month</th>\n",
       "      <th>Week</th>\n",
       "      <th>Series</th>\n",
       "    </tr>\n",
       "  </thead>\n",
       "  <tbody>\n",
       "    <tr>\n",
       "      <th>0</th>\n",
       "      <td>1</td>\n",
       "      <td>1</td>\n",
       "      <td>0</td>\n",
       "    </tr>\n",
       "    <tr>\n",
       "      <th>1</th>\n",
       "      <td>1</td>\n",
       "      <td>2</td>\n",
       "      <td>1</td>\n",
       "    </tr>\n",
       "    <tr>\n",
       "      <th>2</th>\n",
       "      <td>1</td>\n",
       "      <td>3</td>\n",
       "      <td>2</td>\n",
       "    </tr>\n",
       "    <tr>\n",
       "      <th>3</th>\n",
       "      <td>1</td>\n",
       "      <td>4</td>\n",
       "      <td>3</td>\n",
       "    </tr>\n",
       "    <tr>\n",
       "      <th>4</th>\n",
       "      <td>2</td>\n",
       "      <td>1</td>\n",
       "      <td>4</td>\n",
       "    </tr>\n",
       "  </tbody>\n",
       "</table>\n",
       "</div>"
      ],
      "text/plain": [
       "   Month  Week  Series\n",
       "0      1     1       0\n",
       "1      1     2       1\n",
       "2      1     3       2\n",
       "3      1     4       3\n",
       "4      2     1       4"
      ]
     },
     "execution_count": 53,
     "metadata": {},
     "output_type": "execute_result"
    }
   ],
   "source": [
    "\n",
    "future_df = pd.DataFrame()\n",
    "future_df['Month'] =  [i for i in  np.arange(1,13) for j in  np.arange(1,5)]   \n",
    "future_df['Week'] = [j for i in  np.arange(1,13) for j in  np.arange(1,5)]  \n",
    "future_df['Series'] = np.arange(0,(48))\n",
    "future_df.head()"
   ]
  },
  {
   "cell_type": "code",
   "execution_count": null,
   "metadata": {},
   "outputs": [
    {
     "name": "stderr",
     "output_type": "stream",
     "text": [
      "c:\\Users\\moham\\OneDrive - University of Nottingham Malaysia Campus\\Future University\\Halan_Dashboard\\project_env\\lib\\site-packages\\sklearn\\base.py:443: UserWarning:\n",
      "\n",
      "X has feature names, but PassiveAggressiveRegressor was fitted without feature names\n",
      "\n"
     ]
    }
   ],
   "source": [
    "predictions_future = model.predict( future_df.drop(['Series'],axis=1,))"
   ]
  },
  {
   "cell_type": "code",
   "execution_count": null,
   "metadata": {},
   "outputs": [],
   "source": [
    "predictions = pd.DataFrame(predictions_future, columns=['Label'])\n",
    "future_df['Label']=predictions['Label']\n"
   ]
  },
  {
   "cell_type": "code",
   "execution_count": null,
   "metadata": {},
   "outputs": [
    {
     "data": {
      "text/html": [
       "<div>\n",
       "<style scoped>\n",
       "    .dataframe tbody tr th:only-of-type {\n",
       "        vertical-align: middle;\n",
       "    }\n",
       "\n",
       "    .dataframe tbody tr th {\n",
       "        vertical-align: top;\n",
       "    }\n",
       "\n",
       "    .dataframe thead th {\n",
       "        text-align: right;\n",
       "    }\n",
       "</style>\n",
       "<table border=\"1\" class=\"dataframe\">\n",
       "  <thead>\n",
       "    <tr style=\"text-align: right;\">\n",
       "      <th></th>\n",
       "      <th>Month</th>\n",
       "      <th>Week</th>\n",
       "      <th>Series</th>\n",
       "      <th>Label</th>\n",
       "    </tr>\n",
       "  </thead>\n",
       "  <tbody>\n",
       "    <tr>\n",
       "      <th>0</th>\n",
       "      <td>1</td>\n",
       "      <td>1</td>\n",
       "      <td>0</td>\n",
       "      <td>77.396359</td>\n",
       "    </tr>\n",
       "    <tr>\n",
       "      <th>1</th>\n",
       "      <td>1</td>\n",
       "      <td>2</td>\n",
       "      <td>1</td>\n",
       "      <td>91.635156</td>\n",
       "    </tr>\n",
       "    <tr>\n",
       "      <th>2</th>\n",
       "      <td>1</td>\n",
       "      <td>3</td>\n",
       "      <td>2</td>\n",
       "      <td>105.873953</td>\n",
       "    </tr>\n",
       "    <tr>\n",
       "      <th>3</th>\n",
       "      <td>1</td>\n",
       "      <td>4</td>\n",
       "      <td>3</td>\n",
       "      <td>120.112750</td>\n",
       "    </tr>\n",
       "    <tr>\n",
       "      <th>4</th>\n",
       "      <td>2</td>\n",
       "      <td>1</td>\n",
       "      <td>4</td>\n",
       "      <td>125.193062</td>\n",
       "    </tr>\n",
       "    <tr>\n",
       "      <th>5</th>\n",
       "      <td>2</td>\n",
       "      <td>2</td>\n",
       "      <td>5</td>\n",
       "      <td>139.431858</td>\n",
       "    </tr>\n",
       "    <tr>\n",
       "      <th>6</th>\n",
       "      <td>2</td>\n",
       "      <td>3</td>\n",
       "      <td>6</td>\n",
       "      <td>153.670655</td>\n",
       "    </tr>\n",
       "    <tr>\n",
       "      <th>7</th>\n",
       "      <td>2</td>\n",
       "      <td>4</td>\n",
       "      <td>7</td>\n",
       "      <td>167.909452</td>\n",
       "    </tr>\n",
       "    <tr>\n",
       "      <th>8</th>\n",
       "      <td>3</td>\n",
       "      <td>1</td>\n",
       "      <td>8</td>\n",
       "      <td>172.989764</td>\n",
       "    </tr>\n",
       "    <tr>\n",
       "      <th>9</th>\n",
       "      <td>3</td>\n",
       "      <td>2</td>\n",
       "      <td>9</td>\n",
       "      <td>187.228561</td>\n",
       "    </tr>\n",
       "    <tr>\n",
       "      <th>10</th>\n",
       "      <td>3</td>\n",
       "      <td>3</td>\n",
       "      <td>10</td>\n",
       "      <td>201.467358</td>\n",
       "    </tr>\n",
       "    <tr>\n",
       "      <th>11</th>\n",
       "      <td>3</td>\n",
       "      <td>4</td>\n",
       "      <td>11</td>\n",
       "      <td>215.706155</td>\n",
       "    </tr>\n",
       "    <tr>\n",
       "      <th>12</th>\n",
       "      <td>4</td>\n",
       "      <td>1</td>\n",
       "      <td>12</td>\n",
       "      <td>220.786467</td>\n",
       "    </tr>\n",
       "    <tr>\n",
       "      <th>13</th>\n",
       "      <td>4</td>\n",
       "      <td>2</td>\n",
       "      <td>13</td>\n",
       "      <td>235.025263</td>\n",
       "    </tr>\n",
       "    <tr>\n",
       "      <th>14</th>\n",
       "      <td>4</td>\n",
       "      <td>3</td>\n",
       "      <td>14</td>\n",
       "      <td>249.264060</td>\n",
       "    </tr>\n",
       "    <tr>\n",
       "      <th>15</th>\n",
       "      <td>4</td>\n",
       "      <td>4</td>\n",
       "      <td>15</td>\n",
       "      <td>263.502857</td>\n",
       "    </tr>\n",
       "    <tr>\n",
       "      <th>16</th>\n",
       "      <td>5</td>\n",
       "      <td>1</td>\n",
       "      <td>16</td>\n",
       "      <td>268.583169</td>\n",
       "    </tr>\n",
       "    <tr>\n",
       "      <th>17</th>\n",
       "      <td>5</td>\n",
       "      <td>2</td>\n",
       "      <td>17</td>\n",
       "      <td>282.821966</td>\n",
       "    </tr>\n",
       "    <tr>\n",
       "      <th>18</th>\n",
       "      <td>5</td>\n",
       "      <td>3</td>\n",
       "      <td>18</td>\n",
       "      <td>297.060763</td>\n",
       "    </tr>\n",
       "    <tr>\n",
       "      <th>19</th>\n",
       "      <td>5</td>\n",
       "      <td>4</td>\n",
       "      <td>19</td>\n",
       "      <td>311.299560</td>\n",
       "    </tr>\n",
       "    <tr>\n",
       "      <th>20</th>\n",
       "      <td>6</td>\n",
       "      <td>1</td>\n",
       "      <td>20</td>\n",
       "      <td>316.379871</td>\n",
       "    </tr>\n",
       "    <tr>\n",
       "      <th>21</th>\n",
       "      <td>6</td>\n",
       "      <td>2</td>\n",
       "      <td>21</td>\n",
       "      <td>330.618668</td>\n",
       "    </tr>\n",
       "    <tr>\n",
       "      <th>22</th>\n",
       "      <td>6</td>\n",
       "      <td>3</td>\n",
       "      <td>22</td>\n",
       "      <td>344.857465</td>\n",
       "    </tr>\n",
       "    <tr>\n",
       "      <th>23</th>\n",
       "      <td>6</td>\n",
       "      <td>4</td>\n",
       "      <td>23</td>\n",
       "      <td>359.096262</td>\n",
       "    </tr>\n",
       "    <tr>\n",
       "      <th>24</th>\n",
       "      <td>7</td>\n",
       "      <td>1</td>\n",
       "      <td>24</td>\n",
       "      <td>364.176574</td>\n",
       "    </tr>\n",
       "    <tr>\n",
       "      <th>25</th>\n",
       "      <td>7</td>\n",
       "      <td>2</td>\n",
       "      <td>25</td>\n",
       "      <td>378.415371</td>\n",
       "    </tr>\n",
       "    <tr>\n",
       "      <th>26</th>\n",
       "      <td>7</td>\n",
       "      <td>3</td>\n",
       "      <td>26</td>\n",
       "      <td>392.654168</td>\n",
       "    </tr>\n",
       "    <tr>\n",
       "      <th>27</th>\n",
       "      <td>7</td>\n",
       "      <td>4</td>\n",
       "      <td>27</td>\n",
       "      <td>406.892965</td>\n",
       "    </tr>\n",
       "    <tr>\n",
       "      <th>28</th>\n",
       "      <td>8</td>\n",
       "      <td>1</td>\n",
       "      <td>28</td>\n",
       "      <td>411.973276</td>\n",
       "    </tr>\n",
       "    <tr>\n",
       "      <th>29</th>\n",
       "      <td>8</td>\n",
       "      <td>2</td>\n",
       "      <td>29</td>\n",
       "      <td>426.212073</td>\n",
       "    </tr>\n",
       "    <tr>\n",
       "      <th>30</th>\n",
       "      <td>8</td>\n",
       "      <td>3</td>\n",
       "      <td>30</td>\n",
       "      <td>440.450870</td>\n",
       "    </tr>\n",
       "    <tr>\n",
       "      <th>31</th>\n",
       "      <td>8</td>\n",
       "      <td>4</td>\n",
       "      <td>31</td>\n",
       "      <td>454.689667</td>\n",
       "    </tr>\n",
       "    <tr>\n",
       "      <th>32</th>\n",
       "      <td>9</td>\n",
       "      <td>1</td>\n",
       "      <td>32</td>\n",
       "      <td>459.769979</td>\n",
       "    </tr>\n",
       "    <tr>\n",
       "      <th>33</th>\n",
       "      <td>9</td>\n",
       "      <td>2</td>\n",
       "      <td>33</td>\n",
       "      <td>474.008776</td>\n",
       "    </tr>\n",
       "    <tr>\n",
       "      <th>34</th>\n",
       "      <td>9</td>\n",
       "      <td>3</td>\n",
       "      <td>34</td>\n",
       "      <td>488.247573</td>\n",
       "    </tr>\n",
       "    <tr>\n",
       "      <th>35</th>\n",
       "      <td>9</td>\n",
       "      <td>4</td>\n",
       "      <td>35</td>\n",
       "      <td>502.486370</td>\n",
       "    </tr>\n",
       "    <tr>\n",
       "      <th>36</th>\n",
       "      <td>10</td>\n",
       "      <td>1</td>\n",
       "      <td>36</td>\n",
       "      <td>507.566681</td>\n",
       "    </tr>\n",
       "    <tr>\n",
       "      <th>37</th>\n",
       "      <td>10</td>\n",
       "      <td>2</td>\n",
       "      <td>37</td>\n",
       "      <td>521.805478</td>\n",
       "    </tr>\n",
       "    <tr>\n",
       "      <th>38</th>\n",
       "      <td>10</td>\n",
       "      <td>3</td>\n",
       "      <td>38</td>\n",
       "      <td>536.044275</td>\n",
       "    </tr>\n",
       "    <tr>\n",
       "      <th>39</th>\n",
       "      <td>10</td>\n",
       "      <td>4</td>\n",
       "      <td>39</td>\n",
       "      <td>550.283072</td>\n",
       "    </tr>\n",
       "    <tr>\n",
       "      <th>40</th>\n",
       "      <td>11</td>\n",
       "      <td>1</td>\n",
       "      <td>40</td>\n",
       "      <td>555.363384</td>\n",
       "    </tr>\n",
       "    <tr>\n",
       "      <th>41</th>\n",
       "      <td>11</td>\n",
       "      <td>2</td>\n",
       "      <td>41</td>\n",
       "      <td>569.602181</td>\n",
       "    </tr>\n",
       "    <tr>\n",
       "      <th>42</th>\n",
       "      <td>11</td>\n",
       "      <td>3</td>\n",
       "      <td>42</td>\n",
       "      <td>583.840978</td>\n",
       "    </tr>\n",
       "    <tr>\n",
       "      <th>43</th>\n",
       "      <td>11</td>\n",
       "      <td>4</td>\n",
       "      <td>43</td>\n",
       "      <td>598.079775</td>\n",
       "    </tr>\n",
       "    <tr>\n",
       "      <th>44</th>\n",
       "      <td>12</td>\n",
       "      <td>1</td>\n",
       "      <td>44</td>\n",
       "      <td>603.160086</td>\n",
       "    </tr>\n",
       "    <tr>\n",
       "      <th>45</th>\n",
       "      <td>12</td>\n",
       "      <td>2</td>\n",
       "      <td>45</td>\n",
       "      <td>617.398883</td>\n",
       "    </tr>\n",
       "    <tr>\n",
       "      <th>46</th>\n",
       "      <td>12</td>\n",
       "      <td>3</td>\n",
       "      <td>46</td>\n",
       "      <td>631.637680</td>\n",
       "    </tr>\n",
       "    <tr>\n",
       "      <th>47</th>\n",
       "      <td>12</td>\n",
       "      <td>4</td>\n",
       "      <td>47</td>\n",
       "      <td>645.876477</td>\n",
       "    </tr>\n",
       "  </tbody>\n",
       "</table>\n",
       "</div>"
      ],
      "text/plain": [
       "    Month  Week  Series       Label\n",
       "0       1     1       0   77.396359\n",
       "1       1     2       1   91.635156\n",
       "2       1     3       2  105.873953\n",
       "3       1     4       3  120.112750\n",
       "4       2     1       4  125.193062\n",
       "5       2     2       5  139.431858\n",
       "6       2     3       6  153.670655\n",
       "7       2     4       7  167.909452\n",
       "8       3     1       8  172.989764\n",
       "9       3     2       9  187.228561\n",
       "10      3     3      10  201.467358\n",
       "11      3     4      11  215.706155\n",
       "12      4     1      12  220.786467\n",
       "13      4     2      13  235.025263\n",
       "14      4     3      14  249.264060\n",
       "15      4     4      15  263.502857\n",
       "16      5     1      16  268.583169\n",
       "17      5     2      17  282.821966\n",
       "18      5     3      18  297.060763\n",
       "19      5     4      19  311.299560\n",
       "20      6     1      20  316.379871\n",
       "21      6     2      21  330.618668\n",
       "22      6     3      22  344.857465\n",
       "23      6     4      23  359.096262\n",
       "24      7     1      24  364.176574\n",
       "25      7     2      25  378.415371\n",
       "26      7     3      26  392.654168\n",
       "27      7     4      27  406.892965\n",
       "28      8     1      28  411.973276\n",
       "29      8     2      29  426.212073\n",
       "30      8     3      30  440.450870\n",
       "31      8     4      31  454.689667\n",
       "32      9     1      32  459.769979\n",
       "33      9     2      33  474.008776\n",
       "34      9     3      34  488.247573\n",
       "35      9     4      35  502.486370\n",
       "36     10     1      36  507.566681\n",
       "37     10     2      37  521.805478\n",
       "38     10     3      38  536.044275\n",
       "39     10     4      39  550.283072\n",
       "40     11     1      40  555.363384\n",
       "41     11     2      41  569.602181\n",
       "42     11     3      42  583.840978\n",
       "43     11     4      43  598.079775\n",
       "44     12     1      44  603.160086\n",
       "45     12     2      45  617.398883\n",
       "46     12     3      46  631.637680\n",
       "47     12     4      47  645.876477"
      ]
     },
     "execution_count": 71,
     "metadata": {},
     "output_type": "execute_result"
    }
   ],
   "source": [
    "future_df"
   ]
  },
  {
   "cell_type": "code",
   "execution_count": null,
   "metadata": {},
   "outputs": [
    {
     "data": {
      "text/html": [
       "<div>\n",
       "<style scoped>\n",
       "    .dataframe tbody tr th:only-of-type {\n",
       "        vertical-align: middle;\n",
       "    }\n",
       "\n",
       "    .dataframe tbody tr th {\n",
       "        vertical-align: top;\n",
       "    }\n",
       "\n",
       "    .dataframe thead th {\n",
       "        text-align: right;\n",
       "    }\n",
       "</style>\n",
       "<table border=\"1\" class=\"dataframe\">\n",
       "  <thead>\n",
       "    <tr style=\"text-align: right;\">\n",
       "      <th></th>\n",
       "      <th>Series</th>\n",
       "      <th>Month</th>\n",
       "      <th>Week</th>\n",
       "      <th>Original</th>\n",
       "      <th>Label</th>\n",
       "    </tr>\n",
       "  </thead>\n",
       "  <tbody>\n",
       "    <tr>\n",
       "      <th>0</th>\n",
       "      <td>1</td>\n",
       "      <td>6</td>\n",
       "      <td>1</td>\n",
       "      <td>509.0</td>\n",
       "      <td>NaN</td>\n",
       "    </tr>\n",
       "    <tr>\n",
       "      <th>1</th>\n",
       "      <td>2</td>\n",
       "      <td>6</td>\n",
       "      <td>2</td>\n",
       "      <td>388.0</td>\n",
       "      <td>NaN</td>\n",
       "    </tr>\n",
       "    <tr>\n",
       "      <th>2</th>\n",
       "      <td>3</td>\n",
       "      <td>6</td>\n",
       "      <td>3</td>\n",
       "      <td>405.0</td>\n",
       "      <td>NaN</td>\n",
       "    </tr>\n",
       "    <tr>\n",
       "      <th>3</th>\n",
       "      <td>4</td>\n",
       "      <td>6</td>\n",
       "      <td>4</td>\n",
       "      <td>343.0</td>\n",
       "      <td>NaN</td>\n",
       "    </tr>\n",
       "    <tr>\n",
       "      <th>4</th>\n",
       "      <td>5</td>\n",
       "      <td>7</td>\n",
       "      <td>1</td>\n",
       "      <td>553.0</td>\n",
       "      <td>NaN</td>\n",
       "    </tr>\n",
       "    <tr>\n",
       "      <th>...</th>\n",
       "      <td>...</td>\n",
       "      <td>...</td>\n",
       "      <td>...</td>\n",
       "      <td>...</td>\n",
       "      <td>...</td>\n",
       "    </tr>\n",
       "    <tr>\n",
       "      <th>43</th>\n",
       "      <td>43</td>\n",
       "      <td>11</td>\n",
       "      <td>4</td>\n",
       "      <td>NaN</td>\n",
       "      <td>598.079775</td>\n",
       "    </tr>\n",
       "    <tr>\n",
       "      <th>44</th>\n",
       "      <td>44</td>\n",
       "      <td>12</td>\n",
       "      <td>1</td>\n",
       "      <td>NaN</td>\n",
       "      <td>603.160086</td>\n",
       "    </tr>\n",
       "    <tr>\n",
       "      <th>45</th>\n",
       "      <td>45</td>\n",
       "      <td>12</td>\n",
       "      <td>2</td>\n",
       "      <td>NaN</td>\n",
       "      <td>617.398883</td>\n",
       "    </tr>\n",
       "    <tr>\n",
       "      <th>46</th>\n",
       "      <td>46</td>\n",
       "      <td>12</td>\n",
       "      <td>3</td>\n",
       "      <td>NaN</td>\n",
       "      <td>631.637680</td>\n",
       "    </tr>\n",
       "    <tr>\n",
       "      <th>47</th>\n",
       "      <td>47</td>\n",
       "      <td>12</td>\n",
       "      <td>4</td>\n",
       "      <td>NaN</td>\n",
       "      <td>645.876477</td>\n",
       "    </tr>\n",
       "  </tbody>\n",
       "</table>\n",
       "<p>72 rows × 5 columns</p>\n",
       "</div>"
      ],
      "text/plain": [
       "    Series  Month  Week  Original       Label\n",
       "0        1      6     1     509.0         NaN\n",
       "1        2      6     2     388.0         NaN\n",
       "2        3      6     3     405.0         NaN\n",
       "3        4      6     4     343.0         NaN\n",
       "4        5      7     1     553.0         NaN\n",
       "..     ...    ...   ...       ...         ...\n",
       "43      43     11     4       NaN  598.079775\n",
       "44      44     12     1       NaN  603.160086\n",
       "45      45     12     2       NaN  617.398883\n",
       "46      46     12     3       NaN  631.637680\n",
       "47      47     12     4       NaN  645.876477\n",
       "\n",
       "[72 rows x 5 columns]"
      ]
     },
     "execution_count": 74,
     "metadata": {},
     "output_type": "execute_result"
    }
   ],
   "source": [
    "concat_df"
   ]
  },
  {
   "cell_type": "code",
   "execution_count": 86,
   "metadata": {},
   "outputs": [
    {
     "data": {
      "application/vnd.plotly.v1+json": {
       "config": {
        "plotlyServerURL": "https://plot.ly"
       },
       "data": [
        {
         "hovertemplate": "variable=Original<br>Series=%{x}<br>value=%{y}<extra></extra>",
         "legendgroup": "Original",
         "line": {
          "color": "#636efa",
          "dash": "solid"
         },
         "marker": {
          "symbol": "circle"
         },
         "mode": "lines",
         "name": "Original",
         "orientation": "v",
         "showlegend": true,
         "type": "scatter",
         "x": [
          null,
          null,
          null,
          null,
          null,
          null,
          null,
          null,
          null,
          null,
          null,
          null,
          null,
          null,
          null,
          null,
          null,
          null,
          null,
          null,
          null,
          null,
          null,
          null,
          0,
          1,
          2,
          3,
          4,
          5,
          6,
          7,
          8,
          9,
          10,
          11,
          12,
          13,
          14,
          15,
          16,
          17,
          18,
          19,
          20,
          21,
          22,
          23,
          24,
          25,
          26,
          27,
          28,
          29,
          30,
          31,
          32,
          33,
          34,
          35,
          36,
          37,
          38,
          39,
          40,
          41,
          42,
          43,
          44,
          45,
          46,
          47
         ],
         "xaxis": "x",
         "y": [
          509,
          388,
          405,
          343,
          553,
          342,
          353,
          293,
          373,
          375,
          514,
          649,
          630,
          450,
          500,
          700,
          520,
          537,
          410,
          159,
          461.6137328,
          415.2627425,
          417.5970298,
          412.6460051,
          null,
          null,
          null,
          null,
          null,
          null,
          null,
          null,
          null,
          null,
          null,
          null,
          null,
          null,
          null,
          null,
          null,
          null,
          null,
          null,
          null,
          null,
          null,
          null,
          null,
          null,
          null,
          null,
          null,
          null,
          null,
          null,
          null,
          null,
          null,
          null,
          null,
          null,
          null,
          null,
          null,
          null,
          null,
          null,
          null,
          null,
          null,
          null
         ],
         "yaxis": "y"
        },
        {
         "hovertemplate": "variable=Label<br>Series=%{x}<br>value=%{y}<extra></extra>",
         "legendgroup": "Label",
         "line": {
          "color": "#EF553B",
          "dash": "solid"
         },
         "marker": {
          "symbol": "circle"
         },
         "mode": "lines",
         "name": "Label",
         "orientation": "v",
         "showlegend": true,
         "type": "scatter",
         "x": [
          null,
          null,
          null,
          null,
          null,
          null,
          null,
          null,
          null,
          null,
          null,
          null,
          null,
          null,
          null,
          null,
          null,
          null,
          null,
          null,
          null,
          null,
          null,
          null,
          0,
          1,
          2,
          3,
          4,
          5,
          6,
          7,
          8,
          9,
          10,
          11,
          12,
          13,
          14,
          15,
          16,
          17,
          18,
          19,
          20,
          21,
          22,
          23,
          24,
          25,
          26,
          27,
          28,
          29,
          30,
          31,
          32,
          33,
          34,
          35,
          36,
          37,
          38,
          39,
          40,
          41,
          42,
          43,
          44,
          45,
          46,
          47
         ],
         "xaxis": "x",
         "y": [
          null,
          null,
          null,
          null,
          null,
          null,
          null,
          null,
          null,
          null,
          null,
          null,
          null,
          null,
          null,
          null,
          null,
          null,
          null,
          null,
          null,
          null,
          null,
          null,
          77.39635909199183,
          91.63515599685638,
          105.87395290172094,
          120.1127498065855,
          125.1930615635641,
          139.43185846842866,
          153.67065537329322,
          167.90945227815777,
          172.98976403513637,
          187.22856094000093,
          201.4673578448655,
          215.70615474973005,
          220.78646650670865,
          235.0252634115732,
          249.26406031643776,
          263.50285722130235,
          268.5831689782809,
          282.82196588314554,
          297.0607627880101,
          311.29955969287465,
          316.3798714498532,
          330.6186683547178,
          344.85746525958234,
          359.0962621644469,
          364.1765739214255,
          378.41537082629003,
          392.6541677311546,
          406.89296463601914,
          411.9732763929978,
          426.21207329786233,
          440.4508702027269,
          454.68966710759145,
          459.7699788645701,
          474.00877576943464,
          488.2475726742992,
          502.48636957916375,
          507.5666813361423,
          521.8054782410069,
          536.0442751458714,
          550.283072050736,
          555.3633838077145,
          569.6021807125791,
          583.8409776174436,
          598.0797745223082,
          603.1600862792868,
          617.3988831841514,
          631.6376800890159,
          645.8764769938805
         ],
         "yaxis": "y"
        }
       ],
       "layout": {
        "legend": {
         "title": {
          "text": "variable"
         },
         "tracegroupgap": 0
        },
        "margin": {
         "t": 60
        },
        "template": {
         "data": {
          "bar": [
           {
            "error_x": {
             "color": "#f2f5fa"
            },
            "error_y": {
             "color": "#f2f5fa"
            },
            "marker": {
             "line": {
              "color": "rgb(17,17,17)",
              "width": 0.5
             },
             "pattern": {
              "fillmode": "overlay",
              "size": 10,
              "solidity": 0.2
             }
            },
            "type": "bar"
           }
          ],
          "barpolar": [
           {
            "marker": {
             "line": {
              "color": "rgb(17,17,17)",
              "width": 0.5
             },
             "pattern": {
              "fillmode": "overlay",
              "size": 10,
              "solidity": 0.2
             }
            },
            "type": "barpolar"
           }
          ],
          "carpet": [
           {
            "aaxis": {
             "endlinecolor": "#A2B1C6",
             "gridcolor": "#506784",
             "linecolor": "#506784",
             "minorgridcolor": "#506784",
             "startlinecolor": "#A2B1C6"
            },
            "baxis": {
             "endlinecolor": "#A2B1C6",
             "gridcolor": "#506784",
             "linecolor": "#506784",
             "minorgridcolor": "#506784",
             "startlinecolor": "#A2B1C6"
            },
            "type": "carpet"
           }
          ],
          "choropleth": [
           {
            "colorbar": {
             "outlinewidth": 0,
             "ticks": ""
            },
            "type": "choropleth"
           }
          ],
          "contour": [
           {
            "colorbar": {
             "outlinewidth": 0,
             "ticks": ""
            },
            "colorscale": [
             [
              0,
              "#0d0887"
             ],
             [
              0.1111111111111111,
              "#46039f"
             ],
             [
              0.2222222222222222,
              "#7201a8"
             ],
             [
              0.3333333333333333,
              "#9c179e"
             ],
             [
              0.4444444444444444,
              "#bd3786"
             ],
             [
              0.5555555555555556,
              "#d8576b"
             ],
             [
              0.6666666666666666,
              "#ed7953"
             ],
             [
              0.7777777777777778,
              "#fb9f3a"
             ],
             [
              0.8888888888888888,
              "#fdca26"
             ],
             [
              1,
              "#f0f921"
             ]
            ],
            "type": "contour"
           }
          ],
          "contourcarpet": [
           {
            "colorbar": {
             "outlinewidth": 0,
             "ticks": ""
            },
            "type": "contourcarpet"
           }
          ],
          "heatmap": [
           {
            "colorbar": {
             "outlinewidth": 0,
             "ticks": ""
            },
            "colorscale": [
             [
              0,
              "#0d0887"
             ],
             [
              0.1111111111111111,
              "#46039f"
             ],
             [
              0.2222222222222222,
              "#7201a8"
             ],
             [
              0.3333333333333333,
              "#9c179e"
             ],
             [
              0.4444444444444444,
              "#bd3786"
             ],
             [
              0.5555555555555556,
              "#d8576b"
             ],
             [
              0.6666666666666666,
              "#ed7953"
             ],
             [
              0.7777777777777778,
              "#fb9f3a"
             ],
             [
              0.8888888888888888,
              "#fdca26"
             ],
             [
              1,
              "#f0f921"
             ]
            ],
            "type": "heatmap"
           }
          ],
          "heatmapgl": [
           {
            "colorbar": {
             "outlinewidth": 0,
             "ticks": ""
            },
            "colorscale": [
             [
              0,
              "#0d0887"
             ],
             [
              0.1111111111111111,
              "#46039f"
             ],
             [
              0.2222222222222222,
              "#7201a8"
             ],
             [
              0.3333333333333333,
              "#9c179e"
             ],
             [
              0.4444444444444444,
              "#bd3786"
             ],
             [
              0.5555555555555556,
              "#d8576b"
             ],
             [
              0.6666666666666666,
              "#ed7953"
             ],
             [
              0.7777777777777778,
              "#fb9f3a"
             ],
             [
              0.8888888888888888,
              "#fdca26"
             ],
             [
              1,
              "#f0f921"
             ]
            ],
            "type": "heatmapgl"
           }
          ],
          "histogram": [
           {
            "marker": {
             "pattern": {
              "fillmode": "overlay",
              "size": 10,
              "solidity": 0.2
             }
            },
            "type": "histogram"
           }
          ],
          "histogram2d": [
           {
            "colorbar": {
             "outlinewidth": 0,
             "ticks": ""
            },
            "colorscale": [
             [
              0,
              "#0d0887"
             ],
             [
              0.1111111111111111,
              "#46039f"
             ],
             [
              0.2222222222222222,
              "#7201a8"
             ],
             [
              0.3333333333333333,
              "#9c179e"
             ],
             [
              0.4444444444444444,
              "#bd3786"
             ],
             [
              0.5555555555555556,
              "#d8576b"
             ],
             [
              0.6666666666666666,
              "#ed7953"
             ],
             [
              0.7777777777777778,
              "#fb9f3a"
             ],
             [
              0.8888888888888888,
              "#fdca26"
             ],
             [
              1,
              "#f0f921"
             ]
            ],
            "type": "histogram2d"
           }
          ],
          "histogram2dcontour": [
           {
            "colorbar": {
             "outlinewidth": 0,
             "ticks": ""
            },
            "colorscale": [
             [
              0,
              "#0d0887"
             ],
             [
              0.1111111111111111,
              "#46039f"
             ],
             [
              0.2222222222222222,
              "#7201a8"
             ],
             [
              0.3333333333333333,
              "#9c179e"
             ],
             [
              0.4444444444444444,
              "#bd3786"
             ],
             [
              0.5555555555555556,
              "#d8576b"
             ],
             [
              0.6666666666666666,
              "#ed7953"
             ],
             [
              0.7777777777777778,
              "#fb9f3a"
             ],
             [
              0.8888888888888888,
              "#fdca26"
             ],
             [
              1,
              "#f0f921"
             ]
            ],
            "type": "histogram2dcontour"
           }
          ],
          "mesh3d": [
           {
            "colorbar": {
             "outlinewidth": 0,
             "ticks": ""
            },
            "type": "mesh3d"
           }
          ],
          "parcoords": [
           {
            "line": {
             "colorbar": {
              "outlinewidth": 0,
              "ticks": ""
             }
            },
            "type": "parcoords"
           }
          ],
          "pie": [
           {
            "automargin": true,
            "type": "pie"
           }
          ],
          "scatter": [
           {
            "marker": {
             "line": {
              "color": "#283442"
             }
            },
            "type": "scatter"
           }
          ],
          "scatter3d": [
           {
            "line": {
             "colorbar": {
              "outlinewidth": 0,
              "ticks": ""
             }
            },
            "marker": {
             "colorbar": {
              "outlinewidth": 0,
              "ticks": ""
             }
            },
            "type": "scatter3d"
           }
          ],
          "scattercarpet": [
           {
            "marker": {
             "colorbar": {
              "outlinewidth": 0,
              "ticks": ""
             }
            },
            "type": "scattercarpet"
           }
          ],
          "scattergeo": [
           {
            "marker": {
             "colorbar": {
              "outlinewidth": 0,
              "ticks": ""
             }
            },
            "type": "scattergeo"
           }
          ],
          "scattergl": [
           {
            "marker": {
             "line": {
              "color": "#283442"
             }
            },
            "type": "scattergl"
           }
          ],
          "scattermapbox": [
           {
            "marker": {
             "colorbar": {
              "outlinewidth": 0,
              "ticks": ""
             }
            },
            "type": "scattermapbox"
           }
          ],
          "scatterpolar": [
           {
            "marker": {
             "colorbar": {
              "outlinewidth": 0,
              "ticks": ""
             }
            },
            "type": "scatterpolar"
           }
          ],
          "scatterpolargl": [
           {
            "marker": {
             "colorbar": {
              "outlinewidth": 0,
              "ticks": ""
             }
            },
            "type": "scatterpolargl"
           }
          ],
          "scatterternary": [
           {
            "marker": {
             "colorbar": {
              "outlinewidth": 0,
              "ticks": ""
             }
            },
            "type": "scatterternary"
           }
          ],
          "surface": [
           {
            "colorbar": {
             "outlinewidth": 0,
             "ticks": ""
            },
            "colorscale": [
             [
              0,
              "#0d0887"
             ],
             [
              0.1111111111111111,
              "#46039f"
             ],
             [
              0.2222222222222222,
              "#7201a8"
             ],
             [
              0.3333333333333333,
              "#9c179e"
             ],
             [
              0.4444444444444444,
              "#bd3786"
             ],
             [
              0.5555555555555556,
              "#d8576b"
             ],
             [
              0.6666666666666666,
              "#ed7953"
             ],
             [
              0.7777777777777778,
              "#fb9f3a"
             ],
             [
              0.8888888888888888,
              "#fdca26"
             ],
             [
              1,
              "#f0f921"
             ]
            ],
            "type": "surface"
           }
          ],
          "table": [
           {
            "cells": {
             "fill": {
              "color": "#506784"
             },
             "line": {
              "color": "rgb(17,17,17)"
             }
            },
            "header": {
             "fill": {
              "color": "#2a3f5f"
             },
             "line": {
              "color": "rgb(17,17,17)"
             }
            },
            "type": "table"
           }
          ]
         },
         "layout": {
          "annotationdefaults": {
           "arrowcolor": "#f2f5fa",
           "arrowhead": 0,
           "arrowwidth": 1
          },
          "autotypenumbers": "strict",
          "coloraxis": {
           "colorbar": {
            "outlinewidth": 0,
            "ticks": ""
           }
          },
          "colorscale": {
           "diverging": [
            [
             0,
             "#8e0152"
            ],
            [
             0.1,
             "#c51b7d"
            ],
            [
             0.2,
             "#de77ae"
            ],
            [
             0.3,
             "#f1b6da"
            ],
            [
             0.4,
             "#fde0ef"
            ],
            [
             0.5,
             "#f7f7f7"
            ],
            [
             0.6,
             "#e6f5d0"
            ],
            [
             0.7,
             "#b8e186"
            ],
            [
             0.8,
             "#7fbc41"
            ],
            [
             0.9,
             "#4d9221"
            ],
            [
             1,
             "#276419"
            ]
           ],
           "sequential": [
            [
             0,
             "#0d0887"
            ],
            [
             0.1111111111111111,
             "#46039f"
            ],
            [
             0.2222222222222222,
             "#7201a8"
            ],
            [
             0.3333333333333333,
             "#9c179e"
            ],
            [
             0.4444444444444444,
             "#bd3786"
            ],
            [
             0.5555555555555556,
             "#d8576b"
            ],
            [
             0.6666666666666666,
             "#ed7953"
            ],
            [
             0.7777777777777778,
             "#fb9f3a"
            ],
            [
             0.8888888888888888,
             "#fdca26"
            ],
            [
             1,
             "#f0f921"
            ]
           ],
           "sequentialminus": [
            [
             0,
             "#0d0887"
            ],
            [
             0.1111111111111111,
             "#46039f"
            ],
            [
             0.2222222222222222,
             "#7201a8"
            ],
            [
             0.3333333333333333,
             "#9c179e"
            ],
            [
             0.4444444444444444,
             "#bd3786"
            ],
            [
             0.5555555555555556,
             "#d8576b"
            ],
            [
             0.6666666666666666,
             "#ed7953"
            ],
            [
             0.7777777777777778,
             "#fb9f3a"
            ],
            [
             0.8888888888888888,
             "#fdca26"
            ],
            [
             1,
             "#f0f921"
            ]
           ]
          },
          "colorway": [
           "#636efa",
           "#EF553B",
           "#00cc96",
           "#ab63fa",
           "#FFA15A",
           "#19d3f3",
           "#FF6692",
           "#B6E880",
           "#FF97FF",
           "#FECB52"
          ],
          "font": {
           "color": "#f2f5fa"
          },
          "geo": {
           "bgcolor": "rgb(17,17,17)",
           "lakecolor": "rgb(17,17,17)",
           "landcolor": "rgb(17,17,17)",
           "showlakes": true,
           "showland": true,
           "subunitcolor": "#506784"
          },
          "hoverlabel": {
           "align": "left"
          },
          "hovermode": "closest",
          "mapbox": {
           "style": "dark"
          },
          "paper_bgcolor": "rgb(17,17,17)",
          "plot_bgcolor": "rgb(17,17,17)",
          "polar": {
           "angularaxis": {
            "gridcolor": "#506784",
            "linecolor": "#506784",
            "ticks": ""
           },
           "bgcolor": "rgb(17,17,17)",
           "radialaxis": {
            "gridcolor": "#506784",
            "linecolor": "#506784",
            "ticks": ""
           }
          },
          "scene": {
           "xaxis": {
            "backgroundcolor": "rgb(17,17,17)",
            "gridcolor": "#506784",
            "gridwidth": 2,
            "linecolor": "#506784",
            "showbackground": true,
            "ticks": "",
            "zerolinecolor": "#C8D4E3"
           },
           "yaxis": {
            "backgroundcolor": "rgb(17,17,17)",
            "gridcolor": "#506784",
            "gridwidth": 2,
            "linecolor": "#506784",
            "showbackground": true,
            "ticks": "",
            "zerolinecolor": "#C8D4E3"
           },
           "zaxis": {
            "backgroundcolor": "rgb(17,17,17)",
            "gridcolor": "#506784",
            "gridwidth": 2,
            "linecolor": "#506784",
            "showbackground": true,
            "ticks": "",
            "zerolinecolor": "#C8D4E3"
           }
          },
          "shapedefaults": {
           "line": {
            "color": "#f2f5fa"
           }
          },
          "sliderdefaults": {
           "bgcolor": "#C8D4E3",
           "bordercolor": "rgb(17,17,17)",
           "borderwidth": 1,
           "tickwidth": 0
          },
          "ternary": {
           "aaxis": {
            "gridcolor": "#506784",
            "linecolor": "#506784",
            "ticks": ""
           },
           "baxis": {
            "gridcolor": "#506784",
            "linecolor": "#506784",
            "ticks": ""
           },
           "bgcolor": "rgb(17,17,17)",
           "caxis": {
            "gridcolor": "#506784",
            "linecolor": "#506784",
            "ticks": ""
           }
          },
          "title": {
           "x": 0.05
          },
          "updatemenudefaults": {
           "bgcolor": "#506784",
           "borderwidth": 0
          },
          "xaxis": {
           "automargin": true,
           "gridcolor": "#283442",
           "linecolor": "#506784",
           "ticks": "",
           "title": {
            "standoff": 15
           },
           "zerolinecolor": "#283442",
           "zerolinewidth": 2
          },
          "yaxis": {
           "automargin": true,
           "gridcolor": "#283442",
           "linecolor": "#506784",
           "ticks": "",
           "title": {
            "standoff": 15
           },
           "zerolinecolor": "#283442",
           "zerolinewidth": 2
          }
         }
        },
        "xaxis": {
         "anchor": "y",
         "domain": [
          0,
          1
         ],
         "title": {
          "text": "Series"
         }
        },
        "yaxis": {
         "anchor": "x",
         "domain": [
          0,
          1
         ],
         "title": {
          "text": "value"
         }
        }
       }
      }
     },
     "metadata": {},
     "output_type": "display_data"
    }
   ],
   "source": [
    "concat_df = pd.concat([data,future_df], axis=0)\n",
    "\n",
    "\n",
    "fig = px.line(concat_df, x=\"Series\", y=[\"Original\", \"Label\"], template = 'plotly_dark')\n",
    "fig.show()"
   ]
  },
  {
   "cell_type": "code",
   "execution_count": null,
   "metadata": {},
   "outputs": [],
   "source": []
  },
  {
   "cell_type": "code",
   "execution_count": null,
   "metadata": {},
   "outputs": [],
   "source": []
  }
 ],
 "metadata": {
  "interpreter": {
   "hash": "07fc4a15761289ed6bccce3551eaa3e44fe9d4d174dd07ae53bc0cb998fe7fda"
  },
  "kernelspec": {
   "display_name": "Python 3.8.3 ('project_env': venv)",
   "language": "python",
   "name": "python3"
  },
  "language_info": {
   "codemirror_mode": {
    "name": "ipython",
    "version": 3
   },
   "file_extension": ".py",
   "mimetype": "text/x-python",
   "name": "python",
   "nbconvert_exporter": "python",
   "pygments_lexer": "ipython3",
   "version": "3.8.3"
  },
  "orig_nbformat": 4
 },
 "nbformat": 4,
 "nbformat_minor": 2
}
