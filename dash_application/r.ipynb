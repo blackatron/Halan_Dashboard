{
 "cells": [
  {
   "cell_type": "code",
   "execution_count": 21,
   "metadata": {},
   "outputs": [
    {
     "name": "stderr",
     "output_type": "stream",
     "text": [
      "C:\\Users\\Public\\Documents\\Wondershare\\CreatorTemp\\ipykernel_11816\\1870948150.py:48: FutureWarning:\n",
      "\n",
      "In a future version of pandas all arguments of DataFrame.drop except for the argument 'labels' will be keyword-only.\n",
      "\n",
      "c:\\Users\\moham\\OneDrive - University of Nottingham Malaysia Campus\\Future University\\Halan_Dashboard\\project_env\\lib\\site-packages\\sklearn\\base.py:443: UserWarning:\n",
      "\n",
      "X has feature names, but Lasso was fitted without feature names\n",
      "\n",
      "C:\\Users\\Public\\Documents\\Wondershare\\CreatorTemp\\ipykernel_11816\\1870948150.py:91: SettingWithCopyWarning:\n",
      "\n",
      "\n",
      "A value is trying to be set on a copy of a slice from a DataFrame\n",
      "\n",
      "See the caveats in the documentation: https://pandas.pydata.org/pandas-docs/stable/user_guide/indexing.html#returning-a-view-versus-a-copy\n",
      "\n",
      "C:\\Users\\Public\\Documents\\Wondershare\\CreatorTemp\\ipykernel_11816\\1870948150.py:92: SettingWithCopyWarning:\n",
      "\n",
      "\n",
      "A value is trying to be set on a copy of a slice from a DataFrame.\n",
      "Try using .loc[row_indexer,col_indexer] = value instead\n",
      "\n",
      "See the caveats in the documentation: https://pandas.pydata.org/pandas-docs/stable/user_guide/indexing.html#returning-a-view-versus-a-copy\n",
      "\n",
      "C:\\Users\\Public\\Documents\\Wondershare\\CreatorTemp\\ipykernel_11816\\1870948150.py:100: SettingWithCopyWarning:\n",
      "\n",
      "\n",
      "A value is trying to be set on a copy of a slice from a DataFrame\n",
      "\n",
      "See the caveats in the documentation: https://pandas.pydata.org/pandas-docs/stable/user_guide/indexing.html#returning-a-view-versus-a-copy\n",
      "\n"
     ]
    }
   ],
   "source": [
    "import pandas as pd\n",
    "import numpy as np\n",
    "import plotly.express as px\n",
    "from sklearn.model_selection import train_test_split\n",
    "from sklearn.linear_model import Lasso\n",
    "\n",
    "\n",
    "\n",
    "# evaluate an Passive agressive regression model on the dataset\n",
    "from numpy import mean\n",
    "from numpy import std\n",
    "from numpy import absolute\n",
    "\n",
    "from sklearn.model_selection import cross_val_score\n",
    "from sklearn.model_selection import RepeatedKFold\n",
    "\n",
    "\n",
    "\n",
    "\n",
    "\n",
    "    \n",
    "halan_regression3 = pd.read_csv('csv/weekly_data2.csv')\n",
    "halan_regression3['average']=halan_regression3.iloc[:,1:5].mean(axis=1)\n",
    "df = halan_regression3.copy()\n",
    "df['w1']=df['w1']/df['average']\n",
    "df['w2']=df['w2']/df['average']\n",
    "df['w3']=df['w3']/df['average']\n",
    "df['w4']=df['w4']/df['average']\n",
    "\n",
    "columns = ['w1','w2','w3','w4']\n",
    "deseasonalized = pd.DataFrame()\n",
    "\n",
    "deseasonalized['Month']=[halan_regression3['Month'][j] for j in range(len(df)) for i in columns]\n",
    "deseasonalized['Week']=[int(i[-1]) for j in range(len(df)) for i in columns]\n",
    "\n",
    "\n",
    "deseasonalized['Original']=[halan_regression3[i][j] for j in range(len(df)) for i in columns]\n",
    "deseasonalized['Delivered'] =[halan_regression3[i][j]/df[i].mean(axis=0) for j in range(len(df)) for i in columns]       \n",
    "deseasonalized['MA12'] = deseasonalized['Original'].rolling(5).mean()# plot the data and MA\n",
    "deseasonalized['Series'] = np.arange(1,len(deseasonalized)+1)\n",
    "\n",
    "\n",
    "\n",
    "# drop unnecessary columns and re-arrange\n",
    "data = deseasonalized[['Series', 'Month', 'Week', 'Original']]\n",
    "\n",
    "\n",
    "x = np.array(data.drop([\"Original\",'Series'], 1))\n",
    "y = np.array(data[\"Original\"])\n",
    "xtrain, xtest, ytrain, ytest = train_test_split(x, y, test_size=0.1, random_state=42)\n",
    "model = Lasso(alpha=1, copy_X=True,\n",
    "                fit_intercept=True,\n",
    "            max_iter=1000, \n",
    "            positive=False,\n",
    "            precompute=False,\n",
    "            random_state=123,\n",
    "            selection='cyclic', tol=0.0001,\n",
    "            warm_start=False)\n",
    "model.fit(x, y)\n",
    "\n",
    "\n",
    "\n",
    "# ypred = model.predict(xtest)\n",
    "\n",
    "# pred_del = pd.DataFrame(data={\"Predicted Delivered\": ypred.flatten()})\n",
    "# print(pred_del.head())\n",
    "\n",
    "# cv = RepeatedKFold(n_splits=8, n_repeats=30, random_state=1)\n",
    "# # define model\n",
    "\n",
    "# # fit model\n",
    "\n",
    "\n",
    "\n",
    "\n",
    "future_df = pd.DataFrame()\n",
    "future_df['Month'] =  [i for i in  np.arange(1,13) for j in  np.arange(1,5)]   \n",
    "future_df['Week'] = [j for i in  np.arange(1,13) for j in  np.arange(1,5)]  \n",
    "future_df['Series'] = np.arange(0,(48))\n",
    "\n",
    "predictions_future = model.predict( future_df.drop(['Series'],axis=1,))\n",
    "predictions = pd.DataFrame(predictions_future, columns=['Label'])\n",
    "future_df['Label']=predictions['Label']\n",
    "\n",
    "concat_df = pd.concat([data,future_df], axis=0)\n",
    "df2 = df.rename({'w1': 1, 'w2': 2,'w3':3,'w4':4}, axis=1) \n",
    "avgs=[]\n",
    "for i in range(4):\n",
    "    avgs.append(df2[i+1].mean())\n",
    "res = concat_df.dropna(subset=['Label'], axis=0)\n",
    "res.drop(['Original'], axis=1, inplace=True)\n",
    "res['reseason']= res['Label']   \n",
    "bias=20\n",
    "lag=0\n",
    "if not bias:\n",
    "    bias = 1\n",
    "if not lag:\n",
    "    lag= 0\n",
    "for i in range(len(res['reseason'])):\n",
    "    res['reseason'][i]=res['reseason'][i]*(avgs[res['Week'][i]-1])*(1-lag)+bias*i\n",
    "concat_res = pd.concat([res,deseasonalized], axis=0)\n",
    "\n"
   ]
  },
  {
   "cell_type": "code",
   "execution_count": 143,
   "metadata": {},
   "outputs": [
    {
     "data": {
      "text/html": [
       "<div>\n",
       "<style scoped>\n",
       "    .dataframe tbody tr th:only-of-type {\n",
       "        vertical-align: middle;\n",
       "    }\n",
       "\n",
       "    .dataframe tbody tr th {\n",
       "        vertical-align: top;\n",
       "    }\n",
       "\n",
       "    .dataframe thead th {\n",
       "        text-align: right;\n",
       "    }\n",
       "</style>\n",
       "<table border=\"1\" class=\"dataframe\">\n",
       "  <thead>\n",
       "    <tr style=\"text-align: right;\">\n",
       "      <th></th>\n",
       "      <th>Series</th>\n",
       "      <th>Month</th>\n",
       "      <th>Week</th>\n",
       "      <th>Label</th>\n",
       "      <th>reseason</th>\n",
       "      <th>Original</th>\n",
       "      <th>Delivered</th>\n",
       "      <th>MA12</th>\n",
       "    </tr>\n",
       "  </thead>\n",
       "  <tbody>\n",
       "    <tr>\n",
       "      <th>0</th>\n",
       "      <td>0</td>\n",
       "      <td>1</td>\n",
       "      <td>1</td>\n",
       "      <td>487.019301</td>\n",
       "      <td>561.692406</td>\n",
       "      <td>NaN</td>\n",
       "      <td>NaN</td>\n",
       "      <td>NaN</td>\n",
       "    </tr>\n",
       "    <tr>\n",
       "      <th>1</th>\n",
       "      <td>1</td>\n",
       "      <td>1</td>\n",
       "      <td>2</td>\n",
       "      <td>463.233777</td>\n",
       "      <td>442.045098</td>\n",
       "      <td>NaN</td>\n",
       "      <td>NaN</td>\n",
       "      <td>NaN</td>\n",
       "    </tr>\n",
       "    <tr>\n",
       "      <th>2</th>\n",
       "      <td>2</td>\n",
       "      <td>1</td>\n",
       "      <td>3</td>\n",
       "      <td>439.448253</td>\n",
       "      <td>431.821444</td>\n",
       "      <td>NaN</td>\n",
       "      <td>NaN</td>\n",
       "      <td>NaN</td>\n",
       "    </tr>\n",
       "    <tr>\n",
       "      <th>3</th>\n",
       "      <td>3</td>\n",
       "      <td>1</td>\n",
       "      <td>4</td>\n",
       "      <td>415.662729</td>\n",
       "      <td>389.735352</td>\n",
       "      <td>NaN</td>\n",
       "      <td>NaN</td>\n",
       "      <td>NaN</td>\n",
       "    </tr>\n",
       "    <tr>\n",
       "      <th>4</th>\n",
       "      <td>4</td>\n",
       "      <td>2</td>\n",
       "      <td>1</td>\n",
       "      <td>393.503248</td>\n",
       "      <td>461.837836</td>\n",
       "      <td>NaN</td>\n",
       "      <td>NaN</td>\n",
       "      <td>NaN</td>\n",
       "    </tr>\n",
       "    <tr>\n",
       "      <th>...</th>\n",
       "      <td>...</td>\n",
       "      <td>...</td>\n",
       "      <td>...</td>\n",
       "      <td>...</td>\n",
       "      <td>...</td>\n",
       "      <td>...</td>\n",
       "      <td>...</td>\n",
       "      <td>...</td>\n",
       "    </tr>\n",
       "    <tr>\n",
       "      <th>19</th>\n",
       "      <td>20</td>\n",
       "      <td>10</td>\n",
       "      <td>4</td>\n",
       "      <td>NaN</td>\n",
       "      <td>NaN</td>\n",
       "      <td>159.000000</td>\n",
       "      <td>172.229047</td>\n",
       "      <td>465.200000</td>\n",
       "    </tr>\n",
       "    <tr>\n",
       "      <th>20</th>\n",
       "      <td>21</td>\n",
       "      <td>11</td>\n",
       "      <td>1</td>\n",
       "      <td>NaN</td>\n",
       "      <td>NaN</td>\n",
       "      <td>461.613733</td>\n",
       "      <td>400.245393</td>\n",
       "      <td>417.522747</td>\n",
       "    </tr>\n",
       "    <tr>\n",
       "      <th>21</th>\n",
       "      <td>22</td>\n",
       "      <td>11</td>\n",
       "      <td>2</td>\n",
       "      <td>NaN</td>\n",
       "      <td>NaN</td>\n",
       "      <td>415.262743</td>\n",
       "      <td>437.145487</td>\n",
       "      <td>396.575295</td>\n",
       "    </tr>\n",
       "    <tr>\n",
       "      <th>22</th>\n",
       "      <td>23</td>\n",
       "      <td>11</td>\n",
       "      <td>3</td>\n",
       "      <td>NaN</td>\n",
       "      <td>NaN</td>\n",
       "      <td>417.597030</td>\n",
       "      <td>428.945972</td>\n",
       "      <td>372.694701</td>\n",
       "    </tr>\n",
       "    <tr>\n",
       "      <th>23</th>\n",
       "      <td>24</td>\n",
       "      <td>11</td>\n",
       "      <td>4</td>\n",
       "      <td>NaN</td>\n",
       "      <td>NaN</td>\n",
       "      <td>412.646005</td>\n",
       "      <td>446.978794</td>\n",
       "      <td>373.223902</td>\n",
       "    </tr>\n",
       "  </tbody>\n",
       "</table>\n",
       "<p>72 rows × 8 columns</p>\n",
       "</div>"
      ],
      "text/plain": [
       "    Series  Month  Week       Label    reseason    Original   Delivered  \\\n",
       "0        0      1     1  487.019301  561.692406         NaN         NaN   \n",
       "1        1      1     2  463.233777  442.045098         NaN         NaN   \n",
       "2        2      1     3  439.448253  431.821444         NaN         NaN   \n",
       "3        3      1     4  415.662729  389.735352         NaN         NaN   \n",
       "4        4      2     1  393.503248  461.837836         NaN         NaN   \n",
       "..     ...    ...   ...         ...         ...         ...         ...   \n",
       "19      20     10     4         NaN         NaN  159.000000  172.229047   \n",
       "20      21     11     1         NaN         NaN  461.613733  400.245393   \n",
       "21      22     11     2         NaN         NaN  415.262743  437.145487   \n",
       "22      23     11     3         NaN         NaN  417.597030  428.945972   \n",
       "23      24     11     4         NaN         NaN  412.646005  446.978794   \n",
       "\n",
       "          MA12  \n",
       "0          NaN  \n",
       "1          NaN  \n",
       "2          NaN  \n",
       "3          NaN  \n",
       "4          NaN  \n",
       "..         ...  \n",
       "19  465.200000  \n",
       "20  417.522747  \n",
       "21  396.575295  \n",
       "22  372.694701  \n",
       "23  373.223902  \n",
       "\n",
       "[72 rows x 8 columns]"
      ]
     },
     "execution_count": 143,
     "metadata": {},
     "output_type": "execute_result"
    }
   ],
   "source": [
    "concat_res"
   ]
  },
  {
   "cell_type": "code",
   "execution_count": 23,
   "metadata": {},
   "outputs": [
    {
     "data": {
      "text/plain": [
       "[1.1533267858917444,\n",
       " 0.9499417347539348,\n",
       " 0.9735422564942372,\n",
       " 0.9231892228600836]"
      ]
     },
     "execution_count": 23,
     "metadata": {},
     "output_type": "execute_result"
    }
   ],
   "source": [
    "avgs"
   ]
  },
  {
   "cell_type": "code",
   "execution_count": 22,
   "metadata": {},
   "outputs": [
    {
     "data": {
      "application/vnd.plotly.v1+json": {
       "config": {
        "plotlyServerURL": "https://plot.ly"
       },
       "data": [
        {
         "hovertemplate": "variable=Reseasonalized Predicted<br>Series=%{x}<br>value=%{y}<extra></extra>",
         "legendgroup": "Reseasonalized Predicted",
         "line": {
          "color": "#636efa",
          "dash": "solid"
         },
         "marker": {
          "symbol": "circle"
         },
         "mode": "lines",
         "name": "Reseasonalized Predicted",
         "orientation": "v",
         "showlegend": true,
         "textposition": "top center",
         "type": "scatter",
         "x": [
          0,
          1,
          2,
          3,
          4,
          5,
          6,
          7,
          8,
          9,
          10,
          11,
          12,
          13,
          14,
          15,
          16,
          17,
          18,
          19,
          20,
          21,
          22,
          23,
          24,
          25,
          26,
          27,
          28,
          29,
          30,
          31,
          32,
          33,
          34,
          35,
          36,
          37,
          38,
          39,
          40,
          41,
          42,
          43,
          44,
          45,
          46,
          47,
          1,
          2,
          3,
          4,
          5,
          6,
          7,
          8,
          9,
          10,
          11,
          12,
          13,
          14,
          15,
          16,
          17,
          18,
          19,
          20,
          21,
          22,
          23,
          24
         ],
         "xaxis": "x",
         "y": [
          498.2347548377419,
          409.32262252768606,
          417.4218314237014,
          397.443626053002,
          585.5385884368441,
          495.33845121072557,
          503.5871184265786,
          483.290035367983,
          672.8424220359465,
          581.354279893765,
          589.7524054294558,
          569.1364446829641,
          760.1462556350488,
          667.3701085768046,
          675.9176924323328,
          654.9828539979451,
          847.450089234151,
          753.385937259844,
          762.0829794352101,
          740.8292633129261,
          934.7539228332533,
          839.4017659428836,
          848.2482664380873,
          826.675672627907,
          1022.0577564323556,
          925.4175946259231,
          934.4135534409645,
          912.5220819428882,
          1109.361590031458,
          1011.4334233089626,
          1020.5788404438417,
          998.3684912578692,
          1196.6654236305603,
          1097.449251992002,
          1106.7441274467187,
          1084.2149005728502,
          1283.9692572296626,
          1183.4650806750415,
          1192.909414449596,
          1170.0613098878312,
          1371.273090828765,
          1269.4809093580811,
          1279.0747014524732,
          1255.9077192028121,
          1458.5769244278672,
          1355.4967380411206,
          1365.2399884553504,
          1341.7541285177933,
          null,
          null,
          null,
          null,
          null,
          null,
          null,
          null,
          null,
          null,
          null,
          null,
          null,
          null,
          null,
          null,
          null,
          null,
          null,
          null,
          null,
          null,
          null,
          null
         ],
         "yaxis": "y"
        },
        {
         "hovertemplate": "variable=Predicted Weekly Average<br>Series=%{x}<br>value=%{y}<extra></extra>",
         "legendgroup": "Predicted Weekly Average",
         "line": {
          "color": "#EF553B",
          "dash": "solid"
         },
         "marker": {
          "symbol": "circle"
         },
         "mode": "lines",
         "name": "Predicted Weekly Average",
         "orientation": "v",
         "showlegend": true,
         "textposition": "top center",
         "type": "scatter",
         "x": [
          0,
          1,
          2,
          3,
          4,
          5,
          6,
          7,
          8,
          9,
          10,
          11,
          12,
          13,
          14,
          15,
          16,
          17,
          18,
          19,
          20,
          21,
          22,
          23,
          24,
          25,
          26,
          27,
          28,
          29,
          30,
          31,
          32,
          33,
          34,
          35,
          36,
          37,
          38,
          39,
          40,
          41,
          42,
          43,
          44,
          45,
          46,
          47,
          1,
          2,
          3,
          4,
          5,
          6,
          7,
          8,
          9,
          10,
          11,
          12,
          13,
          14,
          15,
          16,
          17,
          18,
          19,
          20,
          21,
          22,
          23,
          24
         ],
         "xaxis": "x",
         "y": [
          431.9979046116666,
          409.838423015,
          387.6789414183333,
          365.51945982166666,
          438.3307442616666,
          416.171262665,
          394.01178106833333,
          371.85229947166664,
          444.66358391166665,
          422.50410231499995,
          400.3446207183333,
          378.1851391216667,
          450.99642356166663,
          428.836941965,
          406.6774603683333,
          384.51797877166666,
          457.3292632116666,
          435.169781615,
          413.01030001833334,
          390.85081842166665,
          463.66210286166665,
          441.50262126499996,
          419.3431396683333,
          397.1836580716666,
          469.99494251166664,
          447.835460915,
          425.6759793183333,
          403.51649772166667,
          476.3277821616666,
          454.168300565,
          432.00881896833334,
          409.84933737166665,
          482.66062181166666,
          460.50114021499996,
          438.3416586183333,
          416.1821770216667,
          488.99346146166664,
          466.83397986499995,
          444.6744982683333,
          422.5150166716667,
          495.3263011116666,
          473.166819515,
          451.0073379183333,
          428.84785632166665,
          501.65914076166666,
          479.49965916499997,
          457.34017756833333,
          435.18069597166664,
          null,
          null,
          null,
          null,
          null,
          null,
          null,
          null,
          null,
          null,
          null,
          null,
          null,
          null,
          null,
          null,
          null,
          null,
          null,
          null,
          null,
          null,
          null,
          null
         ],
         "yaxis": "y"
        },
        {
         "hovertemplate": "variable=Actual Weekly Average<br>Series=%{x}<br>value=%{y}<extra></extra>",
         "legendgroup": "Actual Weekly Average",
         "line": {
          "color": "#00cc96",
          "dash": "solid"
         },
         "marker": {
          "symbol": "circle"
         },
         "mode": "lines",
         "name": "Actual Weekly Average",
         "orientation": "v",
         "showlegend": true,
         "textposition": "top center",
         "type": "scatter",
         "x": [
          0,
          1,
          2,
          3,
          4,
          5,
          6,
          7,
          8,
          9,
          10,
          11,
          12,
          13,
          14,
          15,
          16,
          17,
          18,
          19,
          20,
          21,
          22,
          23,
          24,
          25,
          26,
          27,
          28,
          29,
          30,
          31,
          32,
          33,
          34,
          35,
          36,
          37,
          38,
          39,
          40,
          41,
          42,
          43,
          44,
          45,
          46,
          47,
          1,
          2,
          3,
          4,
          5,
          6,
          7,
          8,
          9,
          10,
          11,
          12,
          13,
          14,
          15,
          16,
          17,
          18,
          19,
          20,
          21,
          22,
          23,
          24
         ],
         "xaxis": "x",
         "y": [
          null,
          null,
          null,
          null,
          null,
          null,
          null,
          null,
          null,
          null,
          null,
          null,
          null,
          null,
          null,
          null,
          null,
          null,
          null,
          null,
          null,
          null,
          null,
          null,
          null,
          null,
          null,
          null,
          null,
          null,
          null,
          null,
          null,
          null,
          null,
          null,
          null,
          null,
          null,
          null,
          null,
          null,
          null,
          null,
          null,
          null,
          null,
          null,
          509,
          388,
          405,
          343,
          553,
          342,
          353,
          293,
          373,
          375,
          514,
          649,
          630,
          450,
          500,
          700,
          520,
          537,
          410,
          159,
          461.6137328,
          415.2627425,
          417.5970298,
          412.6460051
         ],
         "yaxis": "y"
        }
       ],
       "layout": {
        "font": {
         "family": "Arial"
        },
        "height": 300,
        "legend": {
         "title": {
          "text": "variable"
         },
         "tracegroupgap": 0
        },
        "margin": {
         "b": 20,
         "l": 10,
         "r": 10,
         "t": 60
        },
        "showlegend": true,
        "template": {
         "data": {
          "bar": [
           {
            "error_x": {
             "color": "#2a3f5f"
            },
            "error_y": {
             "color": "#2a3f5f"
            },
            "marker": {
             "line": {
              "color": "white",
              "width": 0.5
             },
             "pattern": {
              "fillmode": "overlay",
              "size": 10,
              "solidity": 0.2
             }
            },
            "type": "bar"
           }
          ],
          "barpolar": [
           {
            "marker": {
             "line": {
              "color": "white",
              "width": 0.5
             },
             "pattern": {
              "fillmode": "overlay",
              "size": 10,
              "solidity": 0.2
             }
            },
            "type": "barpolar"
           }
          ],
          "carpet": [
           {
            "aaxis": {
             "endlinecolor": "#2a3f5f",
             "gridcolor": "#C8D4E3",
             "linecolor": "#C8D4E3",
             "minorgridcolor": "#C8D4E3",
             "startlinecolor": "#2a3f5f"
            },
            "baxis": {
             "endlinecolor": "#2a3f5f",
             "gridcolor": "#C8D4E3",
             "linecolor": "#C8D4E3",
             "minorgridcolor": "#C8D4E3",
             "startlinecolor": "#2a3f5f"
            },
            "type": "carpet"
           }
          ],
          "choropleth": [
           {
            "colorbar": {
             "outlinewidth": 0,
             "ticks": ""
            },
            "type": "choropleth"
           }
          ],
          "contour": [
           {
            "colorbar": {
             "outlinewidth": 0,
             "ticks": ""
            },
            "colorscale": [
             [
              0,
              "#0d0887"
             ],
             [
              0.1111111111111111,
              "#46039f"
             ],
             [
              0.2222222222222222,
              "#7201a8"
             ],
             [
              0.3333333333333333,
              "#9c179e"
             ],
             [
              0.4444444444444444,
              "#bd3786"
             ],
             [
              0.5555555555555556,
              "#d8576b"
             ],
             [
              0.6666666666666666,
              "#ed7953"
             ],
             [
              0.7777777777777778,
              "#fb9f3a"
             ],
             [
              0.8888888888888888,
              "#fdca26"
             ],
             [
              1,
              "#f0f921"
             ]
            ],
            "type": "contour"
           }
          ],
          "contourcarpet": [
           {
            "colorbar": {
             "outlinewidth": 0,
             "ticks": ""
            },
            "type": "contourcarpet"
           }
          ],
          "heatmap": [
           {
            "colorbar": {
             "outlinewidth": 0,
             "ticks": ""
            },
            "colorscale": [
             [
              0,
              "#0d0887"
             ],
             [
              0.1111111111111111,
              "#46039f"
             ],
             [
              0.2222222222222222,
              "#7201a8"
             ],
             [
              0.3333333333333333,
              "#9c179e"
             ],
             [
              0.4444444444444444,
              "#bd3786"
             ],
             [
              0.5555555555555556,
              "#d8576b"
             ],
             [
              0.6666666666666666,
              "#ed7953"
             ],
             [
              0.7777777777777778,
              "#fb9f3a"
             ],
             [
              0.8888888888888888,
              "#fdca26"
             ],
             [
              1,
              "#f0f921"
             ]
            ],
            "type": "heatmap"
           }
          ],
          "heatmapgl": [
           {
            "colorbar": {
             "outlinewidth": 0,
             "ticks": ""
            },
            "colorscale": [
             [
              0,
              "#0d0887"
             ],
             [
              0.1111111111111111,
              "#46039f"
             ],
             [
              0.2222222222222222,
              "#7201a8"
             ],
             [
              0.3333333333333333,
              "#9c179e"
             ],
             [
              0.4444444444444444,
              "#bd3786"
             ],
             [
              0.5555555555555556,
              "#d8576b"
             ],
             [
              0.6666666666666666,
              "#ed7953"
             ],
             [
              0.7777777777777778,
              "#fb9f3a"
             ],
             [
              0.8888888888888888,
              "#fdca26"
             ],
             [
              1,
              "#f0f921"
             ]
            ],
            "type": "heatmapgl"
           }
          ],
          "histogram": [
           {
            "marker": {
             "pattern": {
              "fillmode": "overlay",
              "size": 10,
              "solidity": 0.2
             }
            },
            "type": "histogram"
           }
          ],
          "histogram2d": [
           {
            "colorbar": {
             "outlinewidth": 0,
             "ticks": ""
            },
            "colorscale": [
             [
              0,
              "#0d0887"
             ],
             [
              0.1111111111111111,
              "#46039f"
             ],
             [
              0.2222222222222222,
              "#7201a8"
             ],
             [
              0.3333333333333333,
              "#9c179e"
             ],
             [
              0.4444444444444444,
              "#bd3786"
             ],
             [
              0.5555555555555556,
              "#d8576b"
             ],
             [
              0.6666666666666666,
              "#ed7953"
             ],
             [
              0.7777777777777778,
              "#fb9f3a"
             ],
             [
              0.8888888888888888,
              "#fdca26"
             ],
             [
              1,
              "#f0f921"
             ]
            ],
            "type": "histogram2d"
           }
          ],
          "histogram2dcontour": [
           {
            "colorbar": {
             "outlinewidth": 0,
             "ticks": ""
            },
            "colorscale": [
             [
              0,
              "#0d0887"
             ],
             [
              0.1111111111111111,
              "#46039f"
             ],
             [
              0.2222222222222222,
              "#7201a8"
             ],
             [
              0.3333333333333333,
              "#9c179e"
             ],
             [
              0.4444444444444444,
              "#bd3786"
             ],
             [
              0.5555555555555556,
              "#d8576b"
             ],
             [
              0.6666666666666666,
              "#ed7953"
             ],
             [
              0.7777777777777778,
              "#fb9f3a"
             ],
             [
              0.8888888888888888,
              "#fdca26"
             ],
             [
              1,
              "#f0f921"
             ]
            ],
            "type": "histogram2dcontour"
           }
          ],
          "mesh3d": [
           {
            "colorbar": {
             "outlinewidth": 0,
             "ticks": ""
            },
            "type": "mesh3d"
           }
          ],
          "parcoords": [
           {
            "line": {
             "colorbar": {
              "outlinewidth": 0,
              "ticks": ""
             }
            },
            "type": "parcoords"
           }
          ],
          "pie": [
           {
            "automargin": true,
            "type": "pie"
           }
          ],
          "scatter": [
           {
            "marker": {
             "colorbar": {
              "outlinewidth": 0,
              "ticks": ""
             }
            },
            "type": "scatter"
           }
          ],
          "scatter3d": [
           {
            "line": {
             "colorbar": {
              "outlinewidth": 0,
              "ticks": ""
             }
            },
            "marker": {
             "colorbar": {
              "outlinewidth": 0,
              "ticks": ""
             }
            },
            "type": "scatter3d"
           }
          ],
          "scattercarpet": [
           {
            "marker": {
             "colorbar": {
              "outlinewidth": 0,
              "ticks": ""
             }
            },
            "type": "scattercarpet"
           }
          ],
          "scattergeo": [
           {
            "marker": {
             "colorbar": {
              "outlinewidth": 0,
              "ticks": ""
             }
            },
            "type": "scattergeo"
           }
          ],
          "scattergl": [
           {
            "marker": {
             "colorbar": {
              "outlinewidth": 0,
              "ticks": ""
             }
            },
            "type": "scattergl"
           }
          ],
          "scattermapbox": [
           {
            "marker": {
             "colorbar": {
              "outlinewidth": 0,
              "ticks": ""
             }
            },
            "type": "scattermapbox"
           }
          ],
          "scatterpolar": [
           {
            "marker": {
             "colorbar": {
              "outlinewidth": 0,
              "ticks": ""
             }
            },
            "type": "scatterpolar"
           }
          ],
          "scatterpolargl": [
           {
            "marker": {
             "colorbar": {
              "outlinewidth": 0,
              "ticks": ""
             }
            },
            "type": "scatterpolargl"
           }
          ],
          "scatterternary": [
           {
            "marker": {
             "colorbar": {
              "outlinewidth": 0,
              "ticks": ""
             }
            },
            "type": "scatterternary"
           }
          ],
          "surface": [
           {
            "colorbar": {
             "outlinewidth": 0,
             "ticks": ""
            },
            "colorscale": [
             [
              0,
              "#0d0887"
             ],
             [
              0.1111111111111111,
              "#46039f"
             ],
             [
              0.2222222222222222,
              "#7201a8"
             ],
             [
              0.3333333333333333,
              "#9c179e"
             ],
             [
              0.4444444444444444,
              "#bd3786"
             ],
             [
              0.5555555555555556,
              "#d8576b"
             ],
             [
              0.6666666666666666,
              "#ed7953"
             ],
             [
              0.7777777777777778,
              "#fb9f3a"
             ],
             [
              0.8888888888888888,
              "#fdca26"
             ],
             [
              1,
              "#f0f921"
             ]
            ],
            "type": "surface"
           }
          ],
          "table": [
           {
            "cells": {
             "fill": {
              "color": "#EBF0F8"
             },
             "line": {
              "color": "white"
             }
            },
            "header": {
             "fill": {
              "color": "#C8D4E3"
             },
             "line": {
              "color": "white"
             }
            },
            "type": "table"
           }
          ]
         },
         "layout": {
          "annotationdefaults": {
           "arrowcolor": "#2a3f5f",
           "arrowhead": 0,
           "arrowwidth": 1
          },
          "autotypenumbers": "strict",
          "coloraxis": {
           "colorbar": {
            "outlinewidth": 0,
            "ticks": ""
           }
          },
          "colorscale": {
           "diverging": [
            [
             0,
             "#8e0152"
            ],
            [
             0.1,
             "#c51b7d"
            ],
            [
             0.2,
             "#de77ae"
            ],
            [
             0.3,
             "#f1b6da"
            ],
            [
             0.4,
             "#fde0ef"
            ],
            [
             0.5,
             "#f7f7f7"
            ],
            [
             0.6,
             "#e6f5d0"
            ],
            [
             0.7,
             "#b8e186"
            ],
            [
             0.8,
             "#7fbc41"
            ],
            [
             0.9,
             "#4d9221"
            ],
            [
             1,
             "#276419"
            ]
           ],
           "sequential": [
            [
             0,
             "#0d0887"
            ],
            [
             0.1111111111111111,
             "#46039f"
            ],
            [
             0.2222222222222222,
             "#7201a8"
            ],
            [
             0.3333333333333333,
             "#9c179e"
            ],
            [
             0.4444444444444444,
             "#bd3786"
            ],
            [
             0.5555555555555556,
             "#d8576b"
            ],
            [
             0.6666666666666666,
             "#ed7953"
            ],
            [
             0.7777777777777778,
             "#fb9f3a"
            ],
            [
             0.8888888888888888,
             "#fdca26"
            ],
            [
             1,
             "#f0f921"
            ]
           ],
           "sequentialminus": [
            [
             0,
             "#0d0887"
            ],
            [
             0.1111111111111111,
             "#46039f"
            ],
            [
             0.2222222222222222,
             "#7201a8"
            ],
            [
             0.3333333333333333,
             "#9c179e"
            ],
            [
             0.4444444444444444,
             "#bd3786"
            ],
            [
             0.5555555555555556,
             "#d8576b"
            ],
            [
             0.6666666666666666,
             "#ed7953"
            ],
            [
             0.7777777777777778,
             "#fb9f3a"
            ],
            [
             0.8888888888888888,
             "#fdca26"
            ],
            [
             1,
             "#f0f921"
            ]
           ]
          },
          "colorway": [
           "#636efa",
           "#EF553B",
           "#00cc96",
           "#ab63fa",
           "#FFA15A",
           "#19d3f3",
           "#FF6692",
           "#B6E880",
           "#FF97FF",
           "#FECB52"
          ],
          "font": {
           "color": "#2a3f5f"
          },
          "geo": {
           "bgcolor": "white",
           "lakecolor": "white",
           "landcolor": "white",
           "showlakes": true,
           "showland": true,
           "subunitcolor": "#C8D4E3"
          },
          "hoverlabel": {
           "align": "left"
          },
          "hovermode": "closest",
          "mapbox": {
           "style": "light"
          },
          "paper_bgcolor": "white",
          "plot_bgcolor": "white",
          "polar": {
           "angularaxis": {
            "gridcolor": "#EBF0F8",
            "linecolor": "#EBF0F8",
            "ticks": ""
           },
           "bgcolor": "white",
           "radialaxis": {
            "gridcolor": "#EBF0F8",
            "linecolor": "#EBF0F8",
            "ticks": ""
           }
          },
          "scene": {
           "xaxis": {
            "backgroundcolor": "white",
            "gridcolor": "#DFE8F3",
            "gridwidth": 2,
            "linecolor": "#EBF0F8",
            "showbackground": true,
            "ticks": "",
            "zerolinecolor": "#EBF0F8"
           },
           "yaxis": {
            "backgroundcolor": "white",
            "gridcolor": "#DFE8F3",
            "gridwidth": 2,
            "linecolor": "#EBF0F8",
            "showbackground": true,
            "ticks": "",
            "zerolinecolor": "#EBF0F8"
           },
           "zaxis": {
            "backgroundcolor": "white",
            "gridcolor": "#DFE8F3",
            "gridwidth": 2,
            "linecolor": "#EBF0F8",
            "showbackground": true,
            "ticks": "",
            "zerolinecolor": "#EBF0F8"
           }
          },
          "shapedefaults": {
           "line": {
            "color": "#2a3f5f"
           }
          },
          "ternary": {
           "aaxis": {
            "gridcolor": "#DFE8F3",
            "linecolor": "#A2B1C6",
            "ticks": ""
           },
           "baxis": {
            "gridcolor": "#DFE8F3",
            "linecolor": "#A2B1C6",
            "ticks": ""
           },
           "bgcolor": "white",
           "caxis": {
            "gridcolor": "#DFE8F3",
            "linecolor": "#A2B1C6",
            "ticks": ""
           }
          },
          "title": {
           "x": 0.05
          },
          "xaxis": {
           "automargin": true,
           "gridcolor": "#EBF0F8",
           "linecolor": "#EBF0F8",
           "ticks": "",
           "title": {
            "standoff": 15
           },
           "zerolinecolor": "#EBF0F8",
           "zerolinewidth": 2
          },
          "yaxis": {
           "automargin": true,
           "gridcolor": "#EBF0F8",
           "linecolor": "#EBF0F8",
           "ticks": "",
           "title": {
            "standoff": 15
           },
           "zerolinecolor": "#EBF0F8",
           "zerolinewidth": 2
          }
         }
        },
        "title": {
         "text": "Lasso Regression Reseasonalized Target Prediction"
        },
        "xaxis": {
         "anchor": "y",
         "domain": [
          0,
          1
         ],
         "title": {
          "text": "Week Number Time Series"
         }
        },
        "yaxis": {
         "anchor": "x",
         "domain": [
          0,
          1
         ],
         "title": {
          "text": "Number of Delivered Orders"
         }
        }
       }
      }
     },
     "metadata": {},
     "output_type": "display_data"
    }
   ],
   "source": [
    "\n",
    "fig = px.line(concat_res, x=\"Series\", y=[\"reseason\",'Label',\"Original\"], template = 'plotly_white',\n",
    "title='Lasso Regression Reseasonalized Target Prediction',\n",
    ")\n",
    "fig.update_layout(showlegend=True,   margin=dict(t=60,l=10,b=20,r=10),height=300,\n",
    "    xaxis_title=\"Week Number Time Series\",\n",
    "    yaxis_title=\"Number of Delivered Orders\",\n",
    "        font = dict(family=\"Arial\",),)\n",
    "fig.update_traces(textposition='top center')\n",
    "newnames = {'reseason':'Reseasonalized Predicted', 'Label': 'Predicted Weekly Average','Original': \"Actual Weekly Average\"}\n",
    "fig.for_each_trace(lambda t: t.update(name = newnames[t.name],\n",
    "                                legendgroup = newnames[t.name],\n",
    "                                hovertemplate = t.hovertemplate.replace(t.name, newnames[t.name])))\n",
    "\n",
    "fig.show()"
   ]
  },
  {
   "cell_type": "code",
   "execution_count": 111,
   "metadata": {},
   "outputs": [
    {
     "name": "stdout",
     "output_type": "stream",
     "text": [
      "   Predicted Delivered\n",
      "0           476.242117\n",
      "1           489.250457\n",
      "2           463.233777\n"
     ]
    }
   ],
   "source": [
    "\n",
    "\n",
    "xtrain, xtest, ytrain, ytest = train_test_split(x, y, test_size=0.1, random_state=42)\n",
    "ypred = model.predict(xtest)\n",
    "\n",
    "pred_del = pd.DataFrame(data={\"Predicted Delivered\": ypred.flatten()})\n",
    "\n",
    "\n",
    "\n",
    "print(pred_del.head())"
   ]
  },
  {
   "cell_type": "code",
   "execution_count": 116,
   "metadata": {},
   "outputs": [
    {
     "data": {
      "text/plain": [
       "array([ -43.98125664, -136.59152988,  -83.96794837, -122.99999263,\n",
       "        -94.96221405, -184.43239334, -117.25099763,  -71.86321162,\n",
       "        -48.96485579,  -85.59565291, -194.22639743, -103.44641852,\n",
       "       -171.46500682,  -71.37148155,  -56.6796956 , -127.46239642,\n",
       "       -119.8130564 , -124.35909938,  -96.66604894,  -53.09503881,\n",
       "       -142.08631265,  -90.63045167,  -71.42252375,  -65.68577629,\n",
       "        -55.45723007, -108.22487241, -114.81215584, -153.20145793,\n",
       "        -68.88960462,  -76.87885124, -151.16700437, -157.02538946,\n",
       "       -143.03947741,  -70.4815009 ,  -92.78564791, -100.98727992,\n",
       "       -111.71169856, -159.94675424,  -65.41094065,  -87.2141872 ,\n",
       "        -71.80731818,  -66.37677915,  -73.30636195, -174.27620649,\n",
       "       -169.92321707,  -67.39852221, -127.78280808,  -75.40417292,\n",
       "        -87.14389082,  -69.69286213, -111.16889242, -127.66507362,\n",
       "        -70.57617275, -101.80683549, -165.38366465,  -73.79342338,\n",
       "       -109.77437005,  -59.0618897 , -156.68586444,  -86.17770034,\n",
       "       -119.19339692,  -99.23360072, -166.36155539,  -69.94284856,\n",
       "       -183.00015704, -128.60879305,  -66.44472793,  -67.33897375,\n",
       "       -137.86852952,  -79.66318175,  -72.56395218,  -88.09588055,\n",
       "       -115.45949224,  -97.91548668, -112.46840377,  -65.12480452,\n",
       "       -122.2402916 , -113.46827077, -121.86714756,  -63.13291595,\n",
       "        -75.54559896,  -99.77954177,  -75.35476839, -115.45949224,\n",
       "        -91.96814705,  -78.17604765, -111.3422403 , -106.07078675,\n",
       "        -90.7422515 , -111.31202126,  -74.60041264, -119.8279157 ,\n",
       "       -107.43099216, -151.2657606 ,  -85.90869455,  -81.54896562,\n",
       "        -45.78248556, -117.93043815, -106.37151199, -191.747795  ,\n",
       "        -67.96573532,  -84.53262089, -110.41028392, -157.69228017,\n",
       "        -76.87453311, -104.25503871,  -97.81867561, -123.67296869,\n",
       "       -136.48354095,  -72.44745076,  -98.38868519,  -54.709411  ,\n",
       "       -119.87903839,  -82.2095877 , -107.18593235,  -85.50239136,\n",
       "       -149.98380576,  -78.46449712,  -50.23226716,  -80.22703426])"
      ]
     },
     "execution_count": 116,
     "metadata": {},
     "output_type": "execute_result"
    }
   ],
   "source": [
    "cv = RepeatedKFold(n_splits=4, n_repeats=30, random_state=1)\n",
    "scores = cross_val_score(model, x, y, scoring='neg_mean_absolute_error', cv=cv, n_jobs=1)\n",
    "scores"
   ]
  },
  {
   "cell_type": "code",
   "execution_count": 117,
   "metadata": {},
   "outputs": [
    {
     "name": "stdout",
     "output_type": "stream",
     "text": [
      "Mean MAE: 102.571 (34.927)\n"
     ]
    }
   ],
   "source": [
    "\n",
    "\n",
    "\n",
    "# # evaluate model\n",
    "\n",
    "scores = absolute(scores)\n",
    "print('Mean MAE: %.3f (%.3f)' % (mean(scores), std(scores)))"
   ]
  },
  {
   "cell_type": "code",
   "execution_count": 120,
   "metadata": {},
   "outputs": [
    {
     "name": "stdout",
     "output_type": "stream",
     "text": [
      "The explained variance score is 0.05696833996584627\n"
     ]
    }
   ],
   "source": [
    "from sklearn.metrics import explained_variance_score\n",
    "ypred = model.predict(x)\n",
    "\n",
    "evs = explained_variance_score(y, ypred)\n",
    "\n",
    "print(f'The explained variance score is {evs}')"
   ]
  },
  {
   "cell_type": "code",
   "execution_count": 121,
   "metadata": {},
   "outputs": [
    {
     "data": {
      "text/plain": [
       "283.7321578877385"
      ]
     },
     "execution_count": 121,
     "metadata": {},
     "output_type": "execute_result"
    }
   ],
   "source": [
    "from sklearn.metrics import max_error\n",
    "max_error(y, ypred)"
   ]
  },
  {
   "cell_type": "code",
   "execution_count": 122,
   "metadata": {},
   "outputs": [
    {
     "data": {
      "text/plain": [
       "13044.533571028718"
      ]
     },
     "execution_count": 122,
     "metadata": {},
     "output_type": "execute_result"
    }
   ],
   "source": [
    "from sklearn.metrics import mean_squared_error\n",
    "mean_squared_error(y, ypred)"
   ]
  },
  {
   "cell_type": "code",
   "execution_count": 123,
   "metadata": {},
   "outputs": [
    {
     "data": {
      "text/plain": [
       "86.96321371657734"
      ]
     },
     "execution_count": 123,
     "metadata": {},
     "output_type": "execute_result"
    }
   ],
   "source": [
    "from sklearn.metrics import mean_absolute_error\n",
    "mean_absolute_error(y, ypred)"
   ]
  },
  {
   "cell_type": "code",
   "execution_count": 124,
   "metadata": {},
   "outputs": [
    {
     "data": {
      "text/plain": [
       "0.0826860738403451"
      ]
     },
     "execution_count": 124,
     "metadata": {},
     "output_type": "execute_result"
    }
   ],
   "source": [
    "from sklearn.metrics import mean_squared_log_error\n",
    "mean_squared_log_error(y, ypred)"
   ]
  },
  {
   "cell_type": "code",
   "execution_count": 125,
   "metadata": {},
   "outputs": [
    {
     "data": {
      "text/plain": [
       "0.05696833996584627"
      ]
     },
     "execution_count": 125,
     "metadata": {},
     "output_type": "execute_result"
    }
   ],
   "source": [
    "from sklearn.metrics import r2_score\n",
    "r2_score(y, ypred)"
   ]
  },
  {
   "cell_type": "code",
   "execution_count": 126,
   "metadata": {},
   "outputs": [
    {
     "data": {
      "text/plain": [
       "make_scorer(mean_pinball_loss, alpha=0.95)"
      ]
     },
     "execution_count": 126,
     "metadata": {},
     "output_type": "execute_result"
    }
   ],
   "source": [
    "from sklearn.metrics import mean_pinball_loss\n",
    "from sklearn.metrics import make_scorer\n",
    "\n",
    "mean_pinball_loss(y, ypred, alpha=0.5)\n",
    "mean_pinball_loss_95p = make_scorer(mean_pinball_loss, alpha=0.95)\n",
    "mean_pinball_loss_95p"
   ]
  },
  {
   "cell_type": "code",
   "execution_count": 127,
   "metadata": {},
   "outputs": [
    {
     "data": {
      "text/plain": [
       "array([ 9.71002696, 14.33002696, 74.71880354, 16.4566061 , 63.82344468])"
      ]
     },
     "execution_count": 127,
     "metadata": {},
     "output_type": "execute_result"
    }
   ],
   "source": [
    "from sklearn.model_selection import cross_val_score\n",
    "from sklearn.ensemble import GradientBoostingRegressor\n",
    "\n",
    "estimator = GradientBoostingRegressor(\n",
    "    loss=\"quantile\",\n",
    "    alpha=0.95,\n",
    "    random_state=0,\n",
    ")\n",
    "cross_val_score(estimator, x, y, cv=5, scoring=mean_pinball_loss_95p)"
   ]
  },
  {
   "cell_type": "code",
   "execution_count": 102,
   "metadata": {},
   "outputs": [
    {
     "data": {
      "text/html": [
       "<div>\n",
       "<style scoped>\n",
       "    .dataframe tbody tr th:only-of-type {\n",
       "        vertical-align: middle;\n",
       "    }\n",
       "\n",
       "    .dataframe tbody tr th {\n",
       "        vertical-align: top;\n",
       "    }\n",
       "\n",
       "    .dataframe thead th {\n",
       "        text-align: right;\n",
       "    }\n",
       "</style>\n",
       "<table border=\"1\" class=\"dataframe\">\n",
       "  <thead>\n",
       "    <tr style=\"text-align: right;\">\n",
       "      <th></th>\n",
       "      <th>Month</th>\n",
       "      <th>Week</th>\n",
       "      <th>Label</th>\n",
       "      <th>reseason</th>\n",
       "      <th>Original</th>\n",
       "      <th>Delivered</th>\n",
       "      <th>MA12</th>\n",
       "    </tr>\n",
       "  </thead>\n",
       "  <tbody>\n",
       "    <tr>\n",
       "      <th>0</th>\n",
       "      <td>1</td>\n",
       "      <td>1</td>\n",
       "      <td>431.997905</td>\n",
       "      <td>498.234755</td>\n",
       "      <td>NaN</td>\n",
       "      <td>NaN</td>\n",
       "      <td>NaN</td>\n",
       "    </tr>\n",
       "    <tr>\n",
       "      <th>1</th>\n",
       "      <td>1</td>\n",
       "      <td>2</td>\n",
       "      <td>409.838423</td>\n",
       "      <td>391.322623</td>\n",
       "      <td>NaN</td>\n",
       "      <td>NaN</td>\n",
       "      <td>NaN</td>\n",
       "    </tr>\n",
       "    <tr>\n",
       "      <th>2</th>\n",
       "      <td>1</td>\n",
       "      <td>3</td>\n",
       "      <td>387.678941</td>\n",
       "      <td>381.421831</td>\n",
       "      <td>NaN</td>\n",
       "      <td>NaN</td>\n",
       "      <td>NaN</td>\n",
       "    </tr>\n",
       "    <tr>\n",
       "      <th>3</th>\n",
       "      <td>1</td>\n",
       "      <td>4</td>\n",
       "      <td>365.519460</td>\n",
       "      <td>343.443626</td>\n",
       "      <td>NaN</td>\n",
       "      <td>NaN</td>\n",
       "      <td>NaN</td>\n",
       "    </tr>\n",
       "    <tr>\n",
       "      <th>4</th>\n",
       "      <td>2</td>\n",
       "      <td>1</td>\n",
       "      <td>438.330744</td>\n",
       "      <td>513.538588</td>\n",
       "      <td>NaN</td>\n",
       "      <td>NaN</td>\n",
       "      <td>NaN</td>\n",
       "    </tr>\n",
       "    <tr>\n",
       "      <th>...</th>\n",
       "      <td>...</td>\n",
       "      <td>...</td>\n",
       "      <td>...</td>\n",
       "      <td>...</td>\n",
       "      <td>...</td>\n",
       "      <td>...</td>\n",
       "      <td>...</td>\n",
       "    </tr>\n",
       "    <tr>\n",
       "      <th>19</th>\n",
       "      <td>10</td>\n",
       "      <td>4</td>\n",
       "      <td>NaN</td>\n",
       "      <td>NaN</td>\n",
       "      <td>159.000000</td>\n",
       "      <td>172.229047</td>\n",
       "      <td>465.200000</td>\n",
       "    </tr>\n",
       "    <tr>\n",
       "      <th>20</th>\n",
       "      <td>11</td>\n",
       "      <td>1</td>\n",
       "      <td>NaN</td>\n",
       "      <td>NaN</td>\n",
       "      <td>461.613733</td>\n",
       "      <td>400.245393</td>\n",
       "      <td>417.522747</td>\n",
       "    </tr>\n",
       "    <tr>\n",
       "      <th>21</th>\n",
       "      <td>11</td>\n",
       "      <td>2</td>\n",
       "      <td>NaN</td>\n",
       "      <td>NaN</td>\n",
       "      <td>415.262743</td>\n",
       "      <td>437.145487</td>\n",
       "      <td>396.575295</td>\n",
       "    </tr>\n",
       "    <tr>\n",
       "      <th>22</th>\n",
       "      <td>11</td>\n",
       "      <td>3</td>\n",
       "      <td>NaN</td>\n",
       "      <td>NaN</td>\n",
       "      <td>417.597030</td>\n",
       "      <td>428.945972</td>\n",
       "      <td>372.694701</td>\n",
       "    </tr>\n",
       "    <tr>\n",
       "      <th>23</th>\n",
       "      <td>11</td>\n",
       "      <td>4</td>\n",
       "      <td>NaN</td>\n",
       "      <td>NaN</td>\n",
       "      <td>412.646005</td>\n",
       "      <td>446.978794</td>\n",
       "      <td>373.223902</td>\n",
       "    </tr>\n",
       "  </tbody>\n",
       "</table>\n",
       "<p>72 rows × 7 columns</p>\n",
       "</div>"
      ],
      "text/plain": [
       "    Month  Week       Label    reseason    Original   Delivered        MA12\n",
       "0       1     1  431.997905  498.234755         NaN         NaN         NaN\n",
       "1       1     2  409.838423  391.322623         NaN         NaN         NaN\n",
       "2       1     3  387.678941  381.421831         NaN         NaN         NaN\n",
       "3       1     4  365.519460  343.443626         NaN         NaN         NaN\n",
       "4       2     1  438.330744  513.538588         NaN         NaN         NaN\n",
       "..    ...   ...         ...         ...         ...         ...         ...\n",
       "19     10     4         NaN         NaN  159.000000  172.229047  465.200000\n",
       "20     11     1         NaN         NaN  461.613733  400.245393  417.522747\n",
       "21     11     2         NaN         NaN  415.262743  437.145487  396.575295\n",
       "22     11     3         NaN         NaN  417.597030  428.945972  372.694701\n",
       "23     11     4         NaN         NaN  412.646005  446.978794  373.223902\n",
       "\n",
       "[72 rows x 7 columns]"
      ]
     },
     "execution_count": 102,
     "metadata": {},
     "output_type": "execute_result"
    }
   ],
   "source": [
    "concat_res"
   ]
  },
  {
   "cell_type": "markdown",
   "metadata": {},
   "source": []
  }
 ],
 "metadata": {
  "interpreter": {
   "hash": "07fc4a15761289ed6bccce3551eaa3e44fe9d4d174dd07ae53bc0cb998fe7fda"
  },
  "kernelspec": {
   "display_name": "Python 3.8.3 ('project_env': venv)",
   "language": "python",
   "name": "python3"
  },
  "language_info": {
   "codemirror_mode": {
    "name": "ipython",
    "version": 3
   },
   "file_extension": ".py",
   "mimetype": "text/x-python",
   "name": "python",
   "nbconvert_exporter": "python",
   "pygments_lexer": "ipython3",
   "version": "3.8.3"
  },
  "orig_nbformat": 4
 },
 "nbformat": 4,
 "nbformat_minor": 2
}
