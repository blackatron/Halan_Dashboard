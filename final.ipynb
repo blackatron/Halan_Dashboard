{
 "cells": [
  {
   "cell_type": "code",
   "execution_count": 1,
   "metadata": {},
   "outputs": [],
   "source": [
    "import pandas as pd\n",
    "import numpy as np"
   ]
  },
  {
   "cell_type": "code",
   "execution_count": 4,
   "metadata": {},
   "outputs": [],
   "source": [
    "halan_regression3 = pd.read_csv('dash_application/csv/weekly_data2.csv')\n",
    "halan_regression3['average']=halan_regression3.iloc[:,1:5].mean(axis=1)\n",
    "df = halan_regression3.copy()\n",
    "df['w1']=df['w1']/df['average']\n",
    "df['w2']=df['w2']/df['average']\n",
    "df['w3']=df['w3']/df['average']\n",
    "df['w4']=df['w4']/df['average']\n",
    "\n",
    "columns = ['w1','w2','w3','w4']\n",
    "deseasonalized = pd.DataFrame()\n",
    "\n",
    "deseasonalized['Month']=[halan_regression3['Month'][j] for j in range(len(df)) for i in columns]\n",
    "deseasonalized['Week']=[int(i[-1]) for j in range(len(df)) for i in columns]\n",
    "\n",
    "\n",
    "deseasonalized['Original']=[halan_regression3[i][j] for j in range(len(df)) for i in columns]\n",
    "deseasonalized['Delivered'] =[halan_regression3[i][j]/df[i].mean(axis=0) for j in range(len(df)) for i in columns]       \n",
    "deseasonalized['MA12'] = deseasonalized['Original'].rolling(5).mean()# plot the data and MA\n",
    "deseasonalized['Series'] = np.arange(1,len(deseasonalized)+1)\n",
    "\n"
   ]
  },
  {
   "cell_type": "code",
   "execution_count": 83,
   "metadata": {},
   "outputs": [
    {
     "name": "stderr",
     "output_type": "stream",
     "text": [
      "C:\\Users\\Public\\Documents\\Wondershare\\CreatorTemp\\ipykernel_31380\\3714764680.py:18: FutureWarning:\n",
      "\n",
      "In a future version of pandas all arguments of DataFrame.drop except for the argument 'labels' will be keyword-only.\n",
      "\n",
      "c:\\Users\\moham\\OneDrive - University of Nottingham Malaysia Campus\\Future University\\Halan_Dashboard\\project_env\\lib\\site-packages\\sklearn\\linear_model\\_base.py:148: FutureWarning:\n",
      "\n",
      "'normalize' was deprecated in version 1.0 and will be removed in 1.2. Please leave the normalize parameter to its default value to silence this warning. The default behavior of this estimator is to not do any normalization. If normalization is needed please use sklearn.preprocessing.StandardScaler instead.\n",
      "\n",
      "c:\\Users\\moham\\OneDrive - University of Nottingham Malaysia Campus\\Future University\\Halan_Dashboard\\project_env\\lib\\site-packages\\sklearn\\linear_model\\_base.py:148: FutureWarning:\n",
      "\n",
      "'normalize' was deprecated in version 1.0 and will be removed in 1.2. Please leave the normalize parameter to its default value to silence this warning. The default behavior of this estimator is to not do any normalization. If normalization is needed please use sklearn.preprocessing.StandardScaler instead.\n",
      "\n",
      "c:\\Users\\moham\\OneDrive - University of Nottingham Malaysia Campus\\Future University\\Halan_Dashboard\\project_env\\lib\\site-packages\\sklearn\\linear_model\\_base.py:148: FutureWarning:\n",
      "\n",
      "'normalize' was deprecated in version 1.0 and will be removed in 1.2. Please leave the normalize parameter to its default value to silence this warning. The default behavior of this estimator is to not do any normalization. If normalization is needed please use sklearn.preprocessing.StandardScaler instead.\n",
      "\n",
      "c:\\Users\\moham\\OneDrive - University of Nottingham Malaysia Campus\\Future University\\Halan_Dashboard\\project_env\\lib\\site-packages\\sklearn\\linear_model\\_base.py:148: FutureWarning:\n",
      "\n",
      "'normalize' was deprecated in version 1.0 and will be removed in 1.2. Please leave the normalize parameter to its default value to silence this warning. The default behavior of this estimator is to not do any normalization. If normalization is needed please use sklearn.preprocessing.StandardScaler instead.\n",
      "\n",
      "c:\\Users\\moham\\OneDrive - University of Nottingham Malaysia Campus\\Future University\\Halan_Dashboard\\project_env\\lib\\site-packages\\sklearn\\linear_model\\_base.py:148: FutureWarning:\n",
      "\n",
      "'normalize' was deprecated in version 1.0 and will be removed in 1.2. Please leave the normalize parameter to its default value to silence this warning. The default behavior of this estimator is to not do any normalization. If normalization is needed please use sklearn.preprocessing.StandardScaler instead.\n",
      "\n",
      "c:\\Users\\moham\\OneDrive - University of Nottingham Malaysia Campus\\Future University\\Halan_Dashboard\\project_env\\lib\\site-packages\\sklearn\\linear_model\\_base.py:148: FutureWarning:\n",
      "\n",
      "'normalize' was deprecated in version 1.0 and will be removed in 1.2. Please leave the normalize parameter to its default value to silence this warning. The default behavior of this estimator is to not do any normalization. If normalization is needed please use sklearn.preprocessing.StandardScaler instead.\n",
      "\n",
      "c:\\Users\\moham\\OneDrive - University of Nottingham Malaysia Campus\\Future University\\Halan_Dashboard\\project_env\\lib\\site-packages\\sklearn\\linear_model\\_base.py:148: FutureWarning:\n",
      "\n",
      "'normalize' was deprecated in version 1.0 and will be removed in 1.2. Please leave the normalize parameter to its default value to silence this warning. The default behavior of this estimator is to not do any normalization. If normalization is needed please use sklearn.preprocessing.StandardScaler instead.\n",
      "\n",
      "c:\\Users\\moham\\OneDrive - University of Nottingham Malaysia Campus\\Future University\\Halan_Dashboard\\project_env\\lib\\site-packages\\sklearn\\linear_model\\_base.py:148: FutureWarning:\n",
      "\n",
      "'normalize' was deprecated in version 1.0 and will be removed in 1.2. Please leave the normalize parameter to its default value to silence this warning. The default behavior of this estimator is to not do any normalization. If normalization is needed please use sklearn.preprocessing.StandardScaler instead.\n",
      "\n",
      "c:\\Users\\moham\\OneDrive - University of Nottingham Malaysia Campus\\Future University\\Halan_Dashboard\\project_env\\lib\\site-packages\\sklearn\\linear_model\\_base.py:148: FutureWarning:\n",
      "\n",
      "'normalize' was deprecated in version 1.0 and will be removed in 1.2. Please leave the normalize parameter to its default value to silence this warning. The default behavior of this estimator is to not do any normalization. If normalization is needed please use sklearn.preprocessing.StandardScaler instead.\n",
      "\n",
      "c:\\Users\\moham\\OneDrive - University of Nottingham Malaysia Campus\\Future University\\Halan_Dashboard\\project_env\\lib\\site-packages\\sklearn\\linear_model\\_base.py:148: FutureWarning:\n",
      "\n",
      "'normalize' was deprecated in version 1.0 and will be removed in 1.2. Please leave the normalize parameter to its default value to silence this warning. The default behavior of this estimator is to not do any normalization. If normalization is needed please use sklearn.preprocessing.StandardScaler instead.\n",
      "\n",
      "c:\\Users\\moham\\OneDrive - University of Nottingham Malaysia Campus\\Future University\\Halan_Dashboard\\project_env\\lib\\site-packages\\sklearn\\linear_model\\_base.py:148: FutureWarning:\n",
      "\n",
      "'normalize' was deprecated in version 1.0 and will be removed in 1.2. Please leave the normalize parameter to its default value to silence this warning. The default behavior of this estimator is to not do any normalization. If normalization is needed please use sklearn.preprocessing.StandardScaler instead.\n",
      "\n",
      "c:\\Users\\moham\\OneDrive - University of Nottingham Malaysia Campus\\Future University\\Halan_Dashboard\\project_env\\lib\\site-packages\\sklearn\\linear_model\\_base.py:148: FutureWarning:\n",
      "\n",
      "'normalize' was deprecated in version 1.0 and will be removed in 1.2. Please leave the normalize parameter to its default value to silence this warning. The default behavior of this estimator is to not do any normalization. If normalization is needed please use sklearn.preprocessing.StandardScaler instead.\n",
      "\n",
      "c:\\Users\\moham\\OneDrive - University of Nottingham Malaysia Campus\\Future University\\Halan_Dashboard\\project_env\\lib\\site-packages\\sklearn\\linear_model\\_base.py:148: FutureWarning:\n",
      "\n",
      "'normalize' was deprecated in version 1.0 and will be removed in 1.2. Please leave the normalize parameter to its default value to silence this warning. The default behavior of this estimator is to not do any normalization. If normalization is needed please use sklearn.preprocessing.StandardScaler instead.\n",
      "\n",
      "c:\\Users\\moham\\OneDrive - University of Nottingham Malaysia Campus\\Future University\\Halan_Dashboard\\project_env\\lib\\site-packages\\sklearn\\linear_model\\_base.py:148: FutureWarning:\n",
      "\n",
      "'normalize' was deprecated in version 1.0 and will be removed in 1.2. Please leave the normalize parameter to its default value to silence this warning. The default behavior of this estimator is to not do any normalization. If normalization is needed please use sklearn.preprocessing.StandardScaler instead.\n",
      "\n",
      "c:\\Users\\moham\\OneDrive - University of Nottingham Malaysia Campus\\Future University\\Halan_Dashboard\\project_env\\lib\\site-packages\\sklearn\\linear_model\\_base.py:148: FutureWarning:\n",
      "\n",
      "'normalize' was deprecated in version 1.0 and will be removed in 1.2. Please leave the normalize parameter to its default value to silence this warning. The default behavior of this estimator is to not do any normalization. If normalization is needed please use sklearn.preprocessing.StandardScaler instead.\n",
      "\n",
      "c:\\Users\\moham\\OneDrive - University of Nottingham Malaysia Campus\\Future University\\Halan_Dashboard\\project_env\\lib\\site-packages\\sklearn\\linear_model\\_base.py:148: FutureWarning:\n",
      "\n",
      "'normalize' was deprecated in version 1.0 and will be removed in 1.2. Please leave the normalize parameter to its default value to silence this warning. The default behavior of this estimator is to not do any normalization. If normalization is needed please use sklearn.preprocessing.StandardScaler instead.\n",
      "\n",
      "c:\\Users\\moham\\OneDrive - University of Nottingham Malaysia Campus\\Future University\\Halan_Dashboard\\project_env\\lib\\site-packages\\sklearn\\linear_model\\_base.py:148: FutureWarning:\n",
      "\n",
      "'normalize' was deprecated in version 1.0 and will be removed in 1.2. Please leave the normalize parameter to its default value to silence this warning. The default behavior of this estimator is to not do any normalization. If normalization is needed please use sklearn.preprocessing.StandardScaler instead.\n",
      "\n",
      "c:\\Users\\moham\\OneDrive - University of Nottingham Malaysia Campus\\Future University\\Halan_Dashboard\\project_env\\lib\\site-packages\\sklearn\\linear_model\\_base.py:148: FutureWarning:\n",
      "\n",
      "'normalize' was deprecated in version 1.0 and will be removed in 1.2. Please leave the normalize parameter to its default value to silence this warning. The default behavior of this estimator is to not do any normalization. If normalization is needed please use sklearn.preprocessing.StandardScaler instead.\n",
      "\n",
      "c:\\Users\\moham\\OneDrive - University of Nottingham Malaysia Campus\\Future University\\Halan_Dashboard\\project_env\\lib\\site-packages\\sklearn\\linear_model\\_base.py:148: FutureWarning:\n",
      "\n",
      "'normalize' was deprecated in version 1.0 and will be removed in 1.2. Please leave the normalize parameter to its default value to silence this warning. The default behavior of this estimator is to not do any normalization. If normalization is needed please use sklearn.preprocessing.StandardScaler instead.\n",
      "\n",
      "c:\\Users\\moham\\OneDrive - University of Nottingham Malaysia Campus\\Future University\\Halan_Dashboard\\project_env\\lib\\site-packages\\sklearn\\linear_model\\_base.py:148: FutureWarning:\n",
      "\n",
      "'normalize' was deprecated in version 1.0 and will be removed in 1.2. Please leave the normalize parameter to its default value to silence this warning. The default behavior of this estimator is to not do any normalization. If normalization is needed please use sklearn.preprocessing.StandardScaler instead.\n",
      "\n",
      "c:\\Users\\moham\\OneDrive - University of Nottingham Malaysia Campus\\Future University\\Halan_Dashboard\\project_env\\lib\\site-packages\\sklearn\\linear_model\\_base.py:148: FutureWarning:\n",
      "\n",
      "'normalize' was deprecated in version 1.0 and will be removed in 1.2. Please leave the normalize parameter to its default value to silence this warning. The default behavior of this estimator is to not do any normalization. If normalization is needed please use sklearn.preprocessing.StandardScaler instead.\n",
      "\n",
      "c:\\Users\\moham\\OneDrive - University of Nottingham Malaysia Campus\\Future University\\Halan_Dashboard\\project_env\\lib\\site-packages\\sklearn\\linear_model\\_base.py:148: FutureWarning:\n",
      "\n",
      "'normalize' was deprecated in version 1.0 and will be removed in 1.2. Please leave the normalize parameter to its default value to silence this warning. The default behavior of this estimator is to not do any normalization. If normalization is needed please use sklearn.preprocessing.StandardScaler instead.\n",
      "\n",
      "c:\\Users\\moham\\OneDrive - University of Nottingham Malaysia Campus\\Future University\\Halan_Dashboard\\project_env\\lib\\site-packages\\sklearn\\linear_model\\_base.py:148: FutureWarning:\n",
      "\n",
      "'normalize' was deprecated in version 1.0 and will be removed in 1.2. Please leave the normalize parameter to its default value to silence this warning. The default behavior of this estimator is to not do any normalization. If normalization is needed please use sklearn.preprocessing.StandardScaler instead.\n",
      "\n",
      "c:\\Users\\moham\\OneDrive - University of Nottingham Malaysia Campus\\Future University\\Halan_Dashboard\\project_env\\lib\\site-packages\\sklearn\\linear_model\\_base.py:148: FutureWarning:\n",
      "\n",
      "'normalize' was deprecated in version 1.0 and will be removed in 1.2. Please leave the normalize parameter to its default value to silence this warning. The default behavior of this estimator is to not do any normalization. If normalization is needed please use sklearn.preprocessing.StandardScaler instead.\n",
      "\n",
      "c:\\Users\\moham\\OneDrive - University of Nottingham Malaysia Campus\\Future University\\Halan_Dashboard\\project_env\\lib\\site-packages\\sklearn\\linear_model\\_base.py:148: FutureWarning:\n",
      "\n",
      "'normalize' was deprecated in version 1.0 and will be removed in 1.2. Please leave the normalize parameter to its default value to silence this warning. The default behavior of this estimator is to not do any normalization. If normalization is needed please use sklearn.preprocessing.StandardScaler instead.\n",
      "\n",
      "c:\\Users\\moham\\OneDrive - University of Nottingham Malaysia Campus\\Future University\\Halan_Dashboard\\project_env\\lib\\site-packages\\sklearn\\linear_model\\_base.py:148: FutureWarning:\n",
      "\n",
      "'normalize' was deprecated in version 1.0 and will be removed in 1.2. Please leave the normalize parameter to its default value to silence this warning. The default behavior of this estimator is to not do any normalization. If normalization is needed please use sklearn.preprocessing.StandardScaler instead.\n",
      "\n",
      "c:\\Users\\moham\\OneDrive - University of Nottingham Malaysia Campus\\Future University\\Halan_Dashboard\\project_env\\lib\\site-packages\\sklearn\\linear_model\\_base.py:148: FutureWarning:\n",
      "\n",
      "'normalize' was deprecated in version 1.0 and will be removed in 1.2. Please leave the normalize parameter to its default value to silence this warning. The default behavior of this estimator is to not do any normalization. If normalization is needed please use sklearn.preprocessing.StandardScaler instead.\n",
      "\n",
      "c:\\Users\\moham\\OneDrive - University of Nottingham Malaysia Campus\\Future University\\Halan_Dashboard\\project_env\\lib\\site-packages\\sklearn\\linear_model\\_base.py:148: FutureWarning:\n",
      "\n",
      "'normalize' was deprecated in version 1.0 and will be removed in 1.2. Please leave the normalize parameter to its default value to silence this warning. The default behavior of this estimator is to not do any normalization. If normalization is needed please use sklearn.preprocessing.StandardScaler instead.\n",
      "\n",
      "c:\\Users\\moham\\OneDrive - University of Nottingham Malaysia Campus\\Future University\\Halan_Dashboard\\project_env\\lib\\site-packages\\sklearn\\linear_model\\_base.py:148: FutureWarning:\n",
      "\n",
      "'normalize' was deprecated in version 1.0 and will be removed in 1.2. Please leave the normalize parameter to its default value to silence this warning. The default behavior of this estimator is to not do any normalization. If normalization is needed please use sklearn.preprocessing.StandardScaler instead.\n",
      "\n",
      "c:\\Users\\moham\\OneDrive - University of Nottingham Malaysia Campus\\Future University\\Halan_Dashboard\\project_env\\lib\\site-packages\\sklearn\\linear_model\\_base.py:148: FutureWarning:\n",
      "\n",
      "'normalize' was deprecated in version 1.0 and will be removed in 1.2. Please leave the normalize parameter to its default value to silence this warning. The default behavior of this estimator is to not do any normalization. If normalization is needed please use sklearn.preprocessing.StandardScaler instead.\n",
      "\n",
      "c:\\Users\\moham\\OneDrive - University of Nottingham Malaysia Campus\\Future University\\Halan_Dashboard\\project_env\\lib\\site-packages\\sklearn\\linear_model\\_base.py:148: FutureWarning:\n",
      "\n",
      "'normalize' was deprecated in version 1.0 and will be removed in 1.2. Please leave the normalize parameter to its default value to silence this warning. The default behavior of this estimator is to not do any normalization. If normalization is needed please use sklearn.preprocessing.StandardScaler instead.\n",
      "\n",
      "c:\\Users\\moham\\OneDrive - University of Nottingham Malaysia Campus\\Future University\\Halan_Dashboard\\project_env\\lib\\site-packages\\sklearn\\linear_model\\_base.py:148: FutureWarning:\n",
      "\n",
      "'normalize' was deprecated in version 1.0 and will be removed in 1.2. Please leave the normalize parameter to its default value to silence this warning. The default behavior of this estimator is to not do any normalization. If normalization is needed please use sklearn.preprocessing.StandardScaler instead.\n",
      "\n",
      "c:\\Users\\moham\\OneDrive - University of Nottingham Malaysia Campus\\Future University\\Halan_Dashboard\\project_env\\lib\\site-packages\\sklearn\\linear_model\\_base.py:148: FutureWarning:\n",
      "\n",
      "'normalize' was deprecated in version 1.0 and will be removed in 1.2. Please leave the normalize parameter to its default value to silence this warning. The default behavior of this estimator is to not do any normalization. If normalization is needed please use sklearn.preprocessing.StandardScaler instead.\n",
      "\n",
      "c:\\Users\\moham\\OneDrive - University of Nottingham Malaysia Campus\\Future University\\Halan_Dashboard\\project_env\\lib\\site-packages\\sklearn\\linear_model\\_base.py:148: FutureWarning:\n",
      "\n",
      "'normalize' was deprecated in version 1.0 and will be removed in 1.2. Please leave the normalize parameter to its default value to silence this warning. The default behavior of this estimator is to not do any normalization. If normalization is needed please use sklearn.preprocessing.StandardScaler instead.\n",
      "\n",
      "c:\\Users\\moham\\OneDrive - University of Nottingham Malaysia Campus\\Future University\\Halan_Dashboard\\project_env\\lib\\site-packages\\sklearn\\linear_model\\_base.py:148: FutureWarning:\n",
      "\n",
      "'normalize' was deprecated in version 1.0 and will be removed in 1.2. Please leave the normalize parameter to its default value to silence this warning. The default behavior of this estimator is to not do any normalization. If normalization is needed please use sklearn.preprocessing.StandardScaler instead.\n",
      "\n",
      "c:\\Users\\moham\\OneDrive - University of Nottingham Malaysia Campus\\Future University\\Halan_Dashboard\\project_env\\lib\\site-packages\\sklearn\\linear_model\\_base.py:148: FutureWarning:\n",
      "\n",
      "'normalize' was deprecated in version 1.0 and will be removed in 1.2. Please leave the normalize parameter to its default value to silence this warning. The default behavior of this estimator is to not do any normalization. If normalization is needed please use sklearn.preprocessing.StandardScaler instead.\n",
      "\n",
      "c:\\Users\\moham\\OneDrive - University of Nottingham Malaysia Campus\\Future University\\Halan_Dashboard\\project_env\\lib\\site-packages\\sklearn\\linear_model\\_base.py:148: FutureWarning:\n",
      "\n",
      "'normalize' was deprecated in version 1.0 and will be removed in 1.2. Please leave the normalize parameter to its default value to silence this warning. The default behavior of this estimator is to not do any normalization. If normalization is needed please use sklearn.preprocessing.StandardScaler instead.\n",
      "\n",
      "c:\\Users\\moham\\OneDrive - University of Nottingham Malaysia Campus\\Future University\\Halan_Dashboard\\project_env\\lib\\site-packages\\sklearn\\linear_model\\_base.py:148: FutureWarning:\n",
      "\n",
      "'normalize' was deprecated in version 1.0 and will be removed in 1.2. Please leave the normalize parameter to its default value to silence this warning. The default behavior of this estimator is to not do any normalization. If normalization is needed please use sklearn.preprocessing.StandardScaler instead.\n",
      "\n",
      "c:\\Users\\moham\\OneDrive - University of Nottingham Malaysia Campus\\Future University\\Halan_Dashboard\\project_env\\lib\\site-packages\\sklearn\\linear_model\\_base.py:148: FutureWarning:\n",
      "\n",
      "'normalize' was deprecated in version 1.0 and will be removed in 1.2. Please leave the normalize parameter to its default value to silence this warning. The default behavior of this estimator is to not do any normalization. If normalization is needed please use sklearn.preprocessing.StandardScaler instead.\n",
      "\n",
      "c:\\Users\\moham\\OneDrive - University of Nottingham Malaysia Campus\\Future University\\Halan_Dashboard\\project_env\\lib\\site-packages\\sklearn\\linear_model\\_base.py:148: FutureWarning:\n",
      "\n",
      "'normalize' was deprecated in version 1.0 and will be removed in 1.2. Please leave the normalize parameter to its default value to silence this warning. The default behavior of this estimator is to not do any normalization. If normalization is needed please use sklearn.preprocessing.StandardScaler instead.\n",
      "\n",
      "c:\\Users\\moham\\OneDrive - University of Nottingham Malaysia Campus\\Future University\\Halan_Dashboard\\project_env\\lib\\site-packages\\sklearn\\linear_model\\_base.py:148: FutureWarning:\n",
      "\n",
      "'normalize' was deprecated in version 1.0 and will be removed in 1.2. Please leave the normalize parameter to its default value to silence this warning. The default behavior of this estimator is to not do any normalization. If normalization is needed please use sklearn.preprocessing.StandardScaler instead.\n",
      "\n",
      "c:\\Users\\moham\\OneDrive - University of Nottingham Malaysia Campus\\Future University\\Halan_Dashboard\\project_env\\lib\\site-packages\\sklearn\\linear_model\\_base.py:148: FutureWarning:\n",
      "\n",
      "'normalize' was deprecated in version 1.0 and will be removed in 1.2. Please leave the normalize parameter to its default value to silence this warning. The default behavior of this estimator is to not do any normalization. If normalization is needed please use sklearn.preprocessing.StandardScaler instead.\n",
      "\n",
      "c:\\Users\\moham\\OneDrive - University of Nottingham Malaysia Campus\\Future University\\Halan_Dashboard\\project_env\\lib\\site-packages\\sklearn\\linear_model\\_base.py:148: FutureWarning:\n",
      "\n",
      "'normalize' was deprecated in version 1.0 and will be removed in 1.2. Please leave the normalize parameter to its default value to silence this warning. The default behavior of this estimator is to not do any normalization. If normalization is needed please use sklearn.preprocessing.StandardScaler instead.\n",
      "\n",
      "c:\\Users\\moham\\OneDrive - University of Nottingham Malaysia Campus\\Future University\\Halan_Dashboard\\project_env\\lib\\site-packages\\sklearn\\linear_model\\_base.py:148: FutureWarning:\n",
      "\n",
      "'normalize' was deprecated in version 1.0 and will be removed in 1.2. Please leave the normalize parameter to its default value to silence this warning. The default behavior of this estimator is to not do any normalization. If normalization is needed please use sklearn.preprocessing.StandardScaler instead.\n",
      "\n",
      "c:\\Users\\moham\\OneDrive - University of Nottingham Malaysia Campus\\Future University\\Halan_Dashboard\\project_env\\lib\\site-packages\\sklearn\\linear_model\\_base.py:148: FutureWarning:\n",
      "\n",
      "'normalize' was deprecated in version 1.0 and will be removed in 1.2. Please leave the normalize parameter to its default value to silence this warning. The default behavior of this estimator is to not do any normalization. If normalization is needed please use sklearn.preprocessing.StandardScaler instead.\n",
      "\n",
      "c:\\Users\\moham\\OneDrive - University of Nottingham Malaysia Campus\\Future University\\Halan_Dashboard\\project_env\\lib\\site-packages\\sklearn\\linear_model\\_base.py:148: FutureWarning:\n",
      "\n",
      "'normalize' was deprecated in version 1.0 and will be removed in 1.2. Please leave the normalize parameter to its default value to silence this warning. The default behavior of this estimator is to not do any normalization. If normalization is needed please use sklearn.preprocessing.StandardScaler instead.\n",
      "\n",
      "c:\\Users\\moham\\OneDrive - University of Nottingham Malaysia Campus\\Future University\\Halan_Dashboard\\project_env\\lib\\site-packages\\sklearn\\linear_model\\_base.py:148: FutureWarning:\n",
      "\n",
      "'normalize' was deprecated in version 1.0 and will be removed in 1.2. Please leave the normalize parameter to its default value to silence this warning. The default behavior of this estimator is to not do any normalization. If normalization is needed please use sklearn.preprocessing.StandardScaler instead.\n",
      "\n",
      "c:\\Users\\moham\\OneDrive - University of Nottingham Malaysia Campus\\Future University\\Halan_Dashboard\\project_env\\lib\\site-packages\\sklearn\\linear_model\\_base.py:148: FutureWarning:\n",
      "\n",
      "'normalize' was deprecated in version 1.0 and will be removed in 1.2. Please leave the normalize parameter to its default value to silence this warning. The default behavior of this estimator is to not do any normalization. If normalization is needed please use sklearn.preprocessing.StandardScaler instead.\n",
      "\n",
      "c:\\Users\\moham\\OneDrive - University of Nottingham Malaysia Campus\\Future University\\Halan_Dashboard\\project_env\\lib\\site-packages\\sklearn\\linear_model\\_base.py:148: FutureWarning:\n",
      "\n",
      "'normalize' was deprecated in version 1.0 and will be removed in 1.2. Please leave the normalize parameter to its default value to silence this warning. The default behavior of this estimator is to not do any normalization. If normalization is needed please use sklearn.preprocessing.StandardScaler instead.\n",
      "\n",
      "c:\\Users\\moham\\OneDrive - University of Nottingham Malaysia Campus\\Future University\\Halan_Dashboard\\project_env\\lib\\site-packages\\sklearn\\linear_model\\_base.py:148: FutureWarning:\n",
      "\n",
      "'normalize' was deprecated in version 1.0 and will be removed in 1.2. Please leave the normalize parameter to its default value to silence this warning. The default behavior of this estimator is to not do any normalization. If normalization is needed please use sklearn.preprocessing.StandardScaler instead.\n",
      "\n",
      "c:\\Users\\moham\\OneDrive - University of Nottingham Malaysia Campus\\Future University\\Halan_Dashboard\\project_env\\lib\\site-packages\\sklearn\\linear_model\\_base.py:148: FutureWarning:\n",
      "\n",
      "'normalize' was deprecated in version 1.0 and will be removed in 1.2. Please leave the normalize parameter to its default value to silence this warning. The default behavior of this estimator is to not do any normalization. If normalization is needed please use sklearn.preprocessing.StandardScaler instead.\n",
      "\n",
      "c:\\Users\\moham\\OneDrive - University of Nottingham Malaysia Campus\\Future University\\Halan_Dashboard\\project_env\\lib\\site-packages\\sklearn\\linear_model\\_base.py:148: FutureWarning:\n",
      "\n",
      "'normalize' was deprecated in version 1.0 and will be removed in 1.2. Please leave the normalize parameter to its default value to silence this warning. The default behavior of this estimator is to not do any normalization. If normalization is needed please use sklearn.preprocessing.StandardScaler instead.\n",
      "\n",
      "c:\\Users\\moham\\OneDrive - University of Nottingham Malaysia Campus\\Future University\\Halan_Dashboard\\project_env\\lib\\site-packages\\sklearn\\linear_model\\_base.py:148: FutureWarning:\n",
      "\n",
      "'normalize' was deprecated in version 1.0 and will be removed in 1.2. Please leave the normalize parameter to its default value to silence this warning. The default behavior of this estimator is to not do any normalization. If normalization is needed please use sklearn.preprocessing.StandardScaler instead.\n",
      "\n",
      "c:\\Users\\moham\\OneDrive - University of Nottingham Malaysia Campus\\Future University\\Halan_Dashboard\\project_env\\lib\\site-packages\\sklearn\\linear_model\\_base.py:148: FutureWarning:\n",
      "\n",
      "'normalize' was deprecated in version 1.0 and will be removed in 1.2. Please leave the normalize parameter to its default value to silence this warning. The default behavior of this estimator is to not do any normalization. If normalization is needed please use sklearn.preprocessing.StandardScaler instead.\n",
      "\n",
      "c:\\Users\\moham\\OneDrive - University of Nottingham Malaysia Campus\\Future University\\Halan_Dashboard\\project_env\\lib\\site-packages\\sklearn\\linear_model\\_base.py:148: FutureWarning:\n",
      "\n",
      "'normalize' was deprecated in version 1.0 and will be removed in 1.2. Please leave the normalize parameter to its default value to silence this warning. The default behavior of this estimator is to not do any normalization. If normalization is needed please use sklearn.preprocessing.StandardScaler instead.\n",
      "\n",
      "c:\\Users\\moham\\OneDrive - University of Nottingham Malaysia Campus\\Future University\\Halan_Dashboard\\project_env\\lib\\site-packages\\sklearn\\linear_model\\_base.py:148: FutureWarning:\n",
      "\n",
      "'normalize' was deprecated in version 1.0 and will be removed in 1.2. Please leave the normalize parameter to its default value to silence this warning. The default behavior of this estimator is to not do any normalization. If normalization is needed please use sklearn.preprocessing.StandardScaler instead.\n",
      "\n",
      "c:\\Users\\moham\\OneDrive - University of Nottingham Malaysia Campus\\Future University\\Halan_Dashboard\\project_env\\lib\\site-packages\\sklearn\\linear_model\\_base.py:148: FutureWarning:\n",
      "\n",
      "'normalize' was deprecated in version 1.0 and will be removed in 1.2. Please leave the normalize parameter to its default value to silence this warning. The default behavior of this estimator is to not do any normalization. If normalization is needed please use sklearn.preprocessing.StandardScaler instead.\n",
      "\n",
      "c:\\Users\\moham\\OneDrive - University of Nottingham Malaysia Campus\\Future University\\Halan_Dashboard\\project_env\\lib\\site-packages\\sklearn\\linear_model\\_base.py:148: FutureWarning:\n",
      "\n",
      "'normalize' was deprecated in version 1.0 and will be removed in 1.2. Please leave the normalize parameter to its default value to silence this warning. The default behavior of this estimator is to not do any normalization. If normalization is needed please use sklearn.preprocessing.StandardScaler instead.\n",
      "\n",
      "c:\\Users\\moham\\OneDrive - University of Nottingham Malaysia Campus\\Future University\\Halan_Dashboard\\project_env\\lib\\site-packages\\sklearn\\linear_model\\_base.py:148: FutureWarning:\n",
      "\n",
      "'normalize' was deprecated in version 1.0 and will be removed in 1.2. Please leave the normalize parameter to its default value to silence this warning. The default behavior of this estimator is to not do any normalization. If normalization is needed please use sklearn.preprocessing.StandardScaler instead.\n",
      "\n",
      "c:\\Users\\moham\\OneDrive - University of Nottingham Malaysia Campus\\Future University\\Halan_Dashboard\\project_env\\lib\\site-packages\\sklearn\\linear_model\\_base.py:148: FutureWarning:\n",
      "\n",
      "'normalize' was deprecated in version 1.0 and will be removed in 1.2. Please leave the normalize parameter to its default value to silence this warning. The default behavior of this estimator is to not do any normalization. If normalization is needed please use sklearn.preprocessing.StandardScaler instead.\n",
      "\n",
      "c:\\Users\\moham\\OneDrive - University of Nottingham Malaysia Campus\\Future University\\Halan_Dashboard\\project_env\\lib\\site-packages\\sklearn\\linear_model\\_base.py:148: FutureWarning:\n",
      "\n",
      "'normalize' was deprecated in version 1.0 and will be removed in 1.2. Please leave the normalize parameter to its default value to silence this warning. The default behavior of this estimator is to not do any normalization. If normalization is needed please use sklearn.preprocessing.StandardScaler instead.\n",
      "\n",
      "c:\\Users\\moham\\OneDrive - University of Nottingham Malaysia Campus\\Future University\\Halan_Dashboard\\project_env\\lib\\site-packages\\sklearn\\linear_model\\_base.py:148: FutureWarning:\n",
      "\n",
      "'normalize' was deprecated in version 1.0 and will be removed in 1.2. Please leave the normalize parameter to its default value to silence this warning. The default behavior of this estimator is to not do any normalization. If normalization is needed please use sklearn.preprocessing.StandardScaler instead.\n",
      "\n"
     ]
    },
    {
     "name": "stdout",
     "output_type": "stream",
     "text": [
      "   Predicted Delivered\n",
      "0           481.268212\n",
      "1           494.281002\n",
      "2           468.255423\n"
     ]
    },
    {
     "name": "stderr",
     "output_type": "stream",
     "text": [
      "c:\\Users\\moham\\OneDrive - University of Nottingham Malaysia Campus\\Future University\\Halan_Dashboard\\project_env\\lib\\site-packages\\sklearn\\linear_model\\_base.py:148: FutureWarning:\n",
      "\n",
      "'normalize' was deprecated in version 1.0 and will be removed in 1.2. Please leave the normalize parameter to its default value to silence this warning. The default behavior of this estimator is to not do any normalization. If normalization is needed please use sklearn.preprocessing.StandardScaler instead.\n",
      "\n",
      "c:\\Users\\moham\\OneDrive - University of Nottingham Malaysia Campus\\Future University\\Halan_Dashboard\\project_env\\lib\\site-packages\\sklearn\\linear_model\\_base.py:148: FutureWarning:\n",
      "\n",
      "'normalize' was deprecated in version 1.0 and will be removed in 1.2. Please leave the normalize parameter to its default value to silence this warning. The default behavior of this estimator is to not do any normalization. If normalization is needed please use sklearn.preprocessing.StandardScaler instead.\n",
      "\n",
      "c:\\Users\\moham\\OneDrive - University of Nottingham Malaysia Campus\\Future University\\Halan_Dashboard\\project_env\\lib\\site-packages\\sklearn\\linear_model\\_base.py:148: FutureWarning:\n",
      "\n",
      "'normalize' was deprecated in version 1.0 and will be removed in 1.2. Please leave the normalize parameter to its default value to silence this warning. The default behavior of this estimator is to not do any normalization. If normalization is needed please use sklearn.preprocessing.StandardScaler instead.\n",
      "\n",
      "c:\\Users\\moham\\OneDrive - University of Nottingham Malaysia Campus\\Future University\\Halan_Dashboard\\project_env\\lib\\site-packages\\sklearn\\linear_model\\_base.py:148: FutureWarning:\n",
      "\n",
      "'normalize' was deprecated in version 1.0 and will be removed in 1.2. Please leave the normalize parameter to its default value to silence this warning. The default behavior of this estimator is to not do any normalization. If normalization is needed please use sklearn.preprocessing.StandardScaler instead.\n",
      "\n",
      "c:\\Users\\moham\\OneDrive - University of Nottingham Malaysia Campus\\Future University\\Halan_Dashboard\\project_env\\lib\\site-packages\\sklearn\\linear_model\\_base.py:148: FutureWarning:\n",
      "\n",
      "'normalize' was deprecated in version 1.0 and will be removed in 1.2. Please leave the normalize parameter to its default value to silence this warning. The default behavior of this estimator is to not do any normalization. If normalization is needed please use sklearn.preprocessing.StandardScaler instead.\n",
      "\n",
      "c:\\Users\\moham\\OneDrive - University of Nottingham Malaysia Campus\\Future University\\Halan_Dashboard\\project_env\\lib\\site-packages\\sklearn\\linear_model\\_base.py:148: FutureWarning:\n",
      "\n",
      "'normalize' was deprecated in version 1.0 and will be removed in 1.2. Please leave the normalize parameter to its default value to silence this warning. The default behavior of this estimator is to not do any normalization. If normalization is needed please use sklearn.preprocessing.StandardScaler instead.\n",
      "\n",
      "c:\\Users\\moham\\OneDrive - University of Nottingham Malaysia Campus\\Future University\\Halan_Dashboard\\project_env\\lib\\site-packages\\sklearn\\linear_model\\_base.py:148: FutureWarning:\n",
      "\n",
      "'normalize' was deprecated in version 1.0 and will be removed in 1.2. Please leave the normalize parameter to its default value to silence this warning. The default behavior of this estimator is to not do any normalization. If normalization is needed please use sklearn.preprocessing.StandardScaler instead.\n",
      "\n",
      "c:\\Users\\moham\\OneDrive - University of Nottingham Malaysia Campus\\Future University\\Halan_Dashboard\\project_env\\lib\\site-packages\\sklearn\\linear_model\\_base.py:148: FutureWarning:\n",
      "\n",
      "'normalize' was deprecated in version 1.0 and will be removed in 1.2. Please leave the normalize parameter to its default value to silence this warning. The default behavior of this estimator is to not do any normalization. If normalization is needed please use sklearn.preprocessing.StandardScaler instead.\n",
      "\n",
      "c:\\Users\\moham\\OneDrive - University of Nottingham Malaysia Campus\\Future University\\Halan_Dashboard\\project_env\\lib\\site-packages\\sklearn\\linear_model\\_base.py:148: FutureWarning:\n",
      "\n",
      "'normalize' was deprecated in version 1.0 and will be removed in 1.2. Please leave the normalize parameter to its default value to silence this warning. The default behavior of this estimator is to not do any normalization. If normalization is needed please use sklearn.preprocessing.StandardScaler instead.\n",
      "\n",
      "c:\\Users\\moham\\OneDrive - University of Nottingham Malaysia Campus\\Future University\\Halan_Dashboard\\project_env\\lib\\site-packages\\sklearn\\linear_model\\_base.py:148: FutureWarning:\n",
      "\n",
      "'normalize' was deprecated in version 1.0 and will be removed in 1.2. Please leave the normalize parameter to its default value to silence this warning. The default behavior of this estimator is to not do any normalization. If normalization is needed please use sklearn.preprocessing.StandardScaler instead.\n",
      "\n",
      "c:\\Users\\moham\\OneDrive - University of Nottingham Malaysia Campus\\Future University\\Halan_Dashboard\\project_env\\lib\\site-packages\\sklearn\\linear_model\\_base.py:148: FutureWarning:\n",
      "\n",
      "'normalize' was deprecated in version 1.0 and will be removed in 1.2. Please leave the normalize parameter to its default value to silence this warning. The default behavior of this estimator is to not do any normalization. If normalization is needed please use sklearn.preprocessing.StandardScaler instead.\n",
      "\n",
      "c:\\Users\\moham\\OneDrive - University of Nottingham Malaysia Campus\\Future University\\Halan_Dashboard\\project_env\\lib\\site-packages\\sklearn\\linear_model\\_base.py:148: FutureWarning:\n",
      "\n",
      "'normalize' was deprecated in version 1.0 and will be removed in 1.2. Please leave the normalize parameter to its default value to silence this warning. The default behavior of this estimator is to not do any normalization. If normalization is needed please use sklearn.preprocessing.StandardScaler instead.\n",
      "\n",
      "c:\\Users\\moham\\OneDrive - University of Nottingham Malaysia Campus\\Future University\\Halan_Dashboard\\project_env\\lib\\site-packages\\sklearn\\linear_model\\_base.py:148: FutureWarning:\n",
      "\n",
      "'normalize' was deprecated in version 1.0 and will be removed in 1.2. Please leave the normalize parameter to its default value to silence this warning. The default behavior of this estimator is to not do any normalization. If normalization is needed please use sklearn.preprocessing.StandardScaler instead.\n",
      "\n",
      "c:\\Users\\moham\\OneDrive - University of Nottingham Malaysia Campus\\Future University\\Halan_Dashboard\\project_env\\lib\\site-packages\\sklearn\\linear_model\\_base.py:148: FutureWarning:\n",
      "\n",
      "'normalize' was deprecated in version 1.0 and will be removed in 1.2. Please leave the normalize parameter to its default value to silence this warning. The default behavior of this estimator is to not do any normalization. If normalization is needed please use sklearn.preprocessing.StandardScaler instead.\n",
      "\n",
      "c:\\Users\\moham\\OneDrive - University of Nottingham Malaysia Campus\\Future University\\Halan_Dashboard\\project_env\\lib\\site-packages\\sklearn\\linear_model\\_base.py:148: FutureWarning:\n",
      "\n",
      "'normalize' was deprecated in version 1.0 and will be removed in 1.2. Please leave the normalize parameter to its default value to silence this warning. The default behavior of this estimator is to not do any normalization. If normalization is needed please use sklearn.preprocessing.StandardScaler instead.\n",
      "\n",
      "c:\\Users\\moham\\OneDrive - University of Nottingham Malaysia Campus\\Future University\\Halan_Dashboard\\project_env\\lib\\site-packages\\sklearn\\linear_model\\_base.py:148: FutureWarning:\n",
      "\n",
      "'normalize' was deprecated in version 1.0 and will be removed in 1.2. Please leave the normalize parameter to its default value to silence this warning. The default behavior of this estimator is to not do any normalization. If normalization is needed please use sklearn.preprocessing.StandardScaler instead.\n",
      "\n",
      "c:\\Users\\moham\\OneDrive - University of Nottingham Malaysia Campus\\Future University\\Halan_Dashboard\\project_env\\lib\\site-packages\\sklearn\\linear_model\\_base.py:148: FutureWarning:\n",
      "\n",
      "'normalize' was deprecated in version 1.0 and will be removed in 1.2. Please leave the normalize parameter to its default value to silence this warning. The default behavior of this estimator is to not do any normalization. If normalization is needed please use sklearn.preprocessing.StandardScaler instead.\n",
      "\n",
      "c:\\Users\\moham\\OneDrive - University of Nottingham Malaysia Campus\\Future University\\Halan_Dashboard\\project_env\\lib\\site-packages\\sklearn\\linear_model\\_base.py:148: FutureWarning:\n",
      "\n",
      "'normalize' was deprecated in version 1.0 and will be removed in 1.2. Please leave the normalize parameter to its default value to silence this warning. The default behavior of this estimator is to not do any normalization. If normalization is needed please use sklearn.preprocessing.StandardScaler instead.\n",
      "\n",
      "c:\\Users\\moham\\OneDrive - University of Nottingham Malaysia Campus\\Future University\\Halan_Dashboard\\project_env\\lib\\site-packages\\sklearn\\linear_model\\_base.py:148: FutureWarning:\n",
      "\n",
      "'normalize' was deprecated in version 1.0 and will be removed in 1.2. Please leave the normalize parameter to its default value to silence this warning. The default behavior of this estimator is to not do any normalization. If normalization is needed please use sklearn.preprocessing.StandardScaler instead.\n",
      "\n",
      "c:\\Users\\moham\\OneDrive - University of Nottingham Malaysia Campus\\Future University\\Halan_Dashboard\\project_env\\lib\\site-packages\\sklearn\\linear_model\\_base.py:148: FutureWarning:\n",
      "\n",
      "'normalize' was deprecated in version 1.0 and will be removed in 1.2. Please leave the normalize parameter to its default value to silence this warning. The default behavior of this estimator is to not do any normalization. If normalization is needed please use sklearn.preprocessing.StandardScaler instead.\n",
      "\n",
      "c:\\Users\\moham\\OneDrive - University of Nottingham Malaysia Campus\\Future University\\Halan_Dashboard\\project_env\\lib\\site-packages\\sklearn\\linear_model\\_base.py:148: FutureWarning:\n",
      "\n",
      "'normalize' was deprecated in version 1.0 and will be removed in 1.2. Please leave the normalize parameter to its default value to silence this warning. The default behavior of this estimator is to not do any normalization. If normalization is needed please use sklearn.preprocessing.StandardScaler instead.\n",
      "\n",
      "c:\\Users\\moham\\OneDrive - University of Nottingham Malaysia Campus\\Future University\\Halan_Dashboard\\project_env\\lib\\site-packages\\sklearn\\linear_model\\_base.py:148: FutureWarning:\n",
      "\n",
      "'normalize' was deprecated in version 1.0 and will be removed in 1.2. Please leave the normalize parameter to its default value to silence this warning. The default behavior of this estimator is to not do any normalization. If normalization is needed please use sklearn.preprocessing.StandardScaler instead.\n",
      "\n",
      "c:\\Users\\moham\\OneDrive - University of Nottingham Malaysia Campus\\Future University\\Halan_Dashboard\\project_env\\lib\\site-packages\\sklearn\\linear_model\\_base.py:148: FutureWarning:\n",
      "\n",
      "'normalize' was deprecated in version 1.0 and will be removed in 1.2. Please leave the normalize parameter to its default value to silence this warning. The default behavior of this estimator is to not do any normalization. If normalization is needed please use sklearn.preprocessing.StandardScaler instead.\n",
      "\n",
      "c:\\Users\\moham\\OneDrive - University of Nottingham Malaysia Campus\\Future University\\Halan_Dashboard\\project_env\\lib\\site-packages\\sklearn\\linear_model\\_base.py:148: FutureWarning:\n",
      "\n",
      "'normalize' was deprecated in version 1.0 and will be removed in 1.2. Please leave the normalize parameter to its default value to silence this warning. The default behavior of this estimator is to not do any normalization. If normalization is needed please use sklearn.preprocessing.StandardScaler instead.\n",
      "\n",
      "c:\\Users\\moham\\OneDrive - University of Nottingham Malaysia Campus\\Future University\\Halan_Dashboard\\project_env\\lib\\site-packages\\sklearn\\linear_model\\_base.py:148: FutureWarning:\n",
      "\n",
      "'normalize' was deprecated in version 1.0 and will be removed in 1.2. Please leave the normalize parameter to its default value to silence this warning. The default behavior of this estimator is to not do any normalization. If normalization is needed please use sklearn.preprocessing.StandardScaler instead.\n",
      "\n",
      "c:\\Users\\moham\\OneDrive - University of Nottingham Malaysia Campus\\Future University\\Halan_Dashboard\\project_env\\lib\\site-packages\\sklearn\\linear_model\\_base.py:148: FutureWarning:\n",
      "\n",
      "'normalize' was deprecated in version 1.0 and will be removed in 1.2. Please leave the normalize parameter to its default value to silence this warning. The default behavior of this estimator is to not do any normalization. If normalization is needed please use sklearn.preprocessing.StandardScaler instead.\n",
      "\n",
      "c:\\Users\\moham\\OneDrive - University of Nottingham Malaysia Campus\\Future University\\Halan_Dashboard\\project_env\\lib\\site-packages\\sklearn\\linear_model\\_base.py:148: FutureWarning:\n",
      "\n",
      "'normalize' was deprecated in version 1.0 and will be removed in 1.2. Please leave the normalize parameter to its default value to silence this warning. The default behavior of this estimator is to not do any normalization. If normalization is needed please use sklearn.preprocessing.StandardScaler instead.\n",
      "\n",
      "c:\\Users\\moham\\OneDrive - University of Nottingham Malaysia Campus\\Future University\\Halan_Dashboard\\project_env\\lib\\site-packages\\sklearn\\linear_model\\_base.py:148: FutureWarning:\n",
      "\n",
      "'normalize' was deprecated in version 1.0 and will be removed in 1.2. Please leave the normalize parameter to its default value to silence this warning. The default behavior of this estimator is to not do any normalization. If normalization is needed please use sklearn.preprocessing.StandardScaler instead.\n",
      "\n",
      "c:\\Users\\moham\\OneDrive - University of Nottingham Malaysia Campus\\Future University\\Halan_Dashboard\\project_env\\lib\\site-packages\\sklearn\\linear_model\\_base.py:148: FutureWarning:\n",
      "\n",
      "'normalize' was deprecated in version 1.0 and will be removed in 1.2. Please leave the normalize parameter to its default value to silence this warning. The default behavior of this estimator is to not do any normalization. If normalization is needed please use sklearn.preprocessing.StandardScaler instead.\n",
      "\n",
      "c:\\Users\\moham\\OneDrive - University of Nottingham Malaysia Campus\\Future University\\Halan_Dashboard\\project_env\\lib\\site-packages\\sklearn\\linear_model\\_base.py:148: FutureWarning:\n",
      "\n",
      "'normalize' was deprecated in version 1.0 and will be removed in 1.2. Please leave the normalize parameter to its default value to silence this warning. The default behavior of this estimator is to not do any normalization. If normalization is needed please use sklearn.preprocessing.StandardScaler instead.\n",
      "\n",
      "c:\\Users\\moham\\OneDrive - University of Nottingham Malaysia Campus\\Future University\\Halan_Dashboard\\project_env\\lib\\site-packages\\sklearn\\linear_model\\_base.py:148: FutureWarning:\n",
      "\n",
      "'normalize' was deprecated in version 1.0 and will be removed in 1.2. Please leave the normalize parameter to its default value to silence this warning. The default behavior of this estimator is to not do any normalization. If normalization is needed please use sklearn.preprocessing.StandardScaler instead.\n",
      "\n",
      "c:\\Users\\moham\\OneDrive - University of Nottingham Malaysia Campus\\Future University\\Halan_Dashboard\\project_env\\lib\\site-packages\\sklearn\\linear_model\\_base.py:148: FutureWarning:\n",
      "\n",
      "'normalize' was deprecated in version 1.0 and will be removed in 1.2. Please leave the normalize parameter to its default value to silence this warning. The default behavior of this estimator is to not do any normalization. If normalization is needed please use sklearn.preprocessing.StandardScaler instead.\n",
      "\n",
      "c:\\Users\\moham\\OneDrive - University of Nottingham Malaysia Campus\\Future University\\Halan_Dashboard\\project_env\\lib\\site-packages\\sklearn\\linear_model\\_base.py:148: FutureWarning:\n",
      "\n",
      "'normalize' was deprecated in version 1.0 and will be removed in 1.2. Please leave the normalize parameter to its default value to silence this warning. The default behavior of this estimator is to not do any normalization. If normalization is needed please use sklearn.preprocessing.StandardScaler instead.\n",
      "\n",
      "c:\\Users\\moham\\OneDrive - University of Nottingham Malaysia Campus\\Future University\\Halan_Dashboard\\project_env\\lib\\site-packages\\sklearn\\linear_model\\_base.py:148: FutureWarning:\n",
      "\n",
      "'normalize' was deprecated in version 1.0 and will be removed in 1.2. Please leave the normalize parameter to its default value to silence this warning. The default behavior of this estimator is to not do any normalization. If normalization is needed please use sklearn.preprocessing.StandardScaler instead.\n",
      "\n",
      "c:\\Users\\moham\\OneDrive - University of Nottingham Malaysia Campus\\Future University\\Halan_Dashboard\\project_env\\lib\\site-packages\\sklearn\\linear_model\\_base.py:148: FutureWarning:\n",
      "\n",
      "'normalize' was deprecated in version 1.0 and will be removed in 1.2. Please leave the normalize parameter to its default value to silence this warning. The default behavior of this estimator is to not do any normalization. If normalization is needed please use sklearn.preprocessing.StandardScaler instead.\n",
      "\n",
      "c:\\Users\\moham\\OneDrive - University of Nottingham Malaysia Campus\\Future University\\Halan_Dashboard\\project_env\\lib\\site-packages\\sklearn\\linear_model\\_base.py:148: FutureWarning:\n",
      "\n",
      "'normalize' was deprecated in version 1.0 and will be removed in 1.2. Please leave the normalize parameter to its default value to silence this warning. The default behavior of this estimator is to not do any normalization. If normalization is needed please use sklearn.preprocessing.StandardScaler instead.\n",
      "\n",
      "c:\\Users\\moham\\OneDrive - University of Nottingham Malaysia Campus\\Future University\\Halan_Dashboard\\project_env\\lib\\site-packages\\sklearn\\linear_model\\_base.py:148: FutureWarning:\n",
      "\n",
      "'normalize' was deprecated in version 1.0 and will be removed in 1.2. Please leave the normalize parameter to its default value to silence this warning. The default behavior of this estimator is to not do any normalization. If normalization is needed please use sklearn.preprocessing.StandardScaler instead.\n",
      "\n",
      "c:\\Users\\moham\\OneDrive - University of Nottingham Malaysia Campus\\Future University\\Halan_Dashboard\\project_env\\lib\\site-packages\\sklearn\\linear_model\\_base.py:148: FutureWarning:\n",
      "\n",
      "'normalize' was deprecated in version 1.0 and will be removed in 1.2. Please leave the normalize parameter to its default value to silence this warning. The default behavior of this estimator is to not do any normalization. If normalization is needed please use sklearn.preprocessing.StandardScaler instead.\n",
      "\n",
      "c:\\Users\\moham\\OneDrive - University of Nottingham Malaysia Campus\\Future University\\Halan_Dashboard\\project_env\\lib\\site-packages\\sklearn\\linear_model\\_base.py:148: FutureWarning:\n",
      "\n",
      "'normalize' was deprecated in version 1.0 and will be removed in 1.2. Please leave the normalize parameter to its default value to silence this warning. The default behavior of this estimator is to not do any normalization. If normalization is needed please use sklearn.preprocessing.StandardScaler instead.\n",
      "\n",
      "c:\\Users\\moham\\OneDrive - University of Nottingham Malaysia Campus\\Future University\\Halan_Dashboard\\project_env\\lib\\site-packages\\sklearn\\linear_model\\_base.py:148: FutureWarning:\n",
      "\n",
      "'normalize' was deprecated in version 1.0 and will be removed in 1.2. Please leave the normalize parameter to its default value to silence this warning. The default behavior of this estimator is to not do any normalization. If normalization is needed please use sklearn.preprocessing.StandardScaler instead.\n",
      "\n",
      "c:\\Users\\moham\\OneDrive - University of Nottingham Malaysia Campus\\Future University\\Halan_Dashboard\\project_env\\lib\\site-packages\\sklearn\\linear_model\\_base.py:148: FutureWarning:\n",
      "\n",
      "'normalize' was deprecated in version 1.0 and will be removed in 1.2. Please leave the normalize parameter to its default value to silence this warning. The default behavior of this estimator is to not do any normalization. If normalization is needed please use sklearn.preprocessing.StandardScaler instead.\n",
      "\n",
      "c:\\Users\\moham\\OneDrive - University of Nottingham Malaysia Campus\\Future University\\Halan_Dashboard\\project_env\\lib\\site-packages\\sklearn\\linear_model\\_base.py:148: FutureWarning:\n",
      "\n",
      "'normalize' was deprecated in version 1.0 and will be removed in 1.2. Please leave the normalize parameter to its default value to silence this warning. The default behavior of this estimator is to not do any normalization. If normalization is needed please use sklearn.preprocessing.StandardScaler instead.\n",
      "\n",
      "c:\\Users\\moham\\OneDrive - University of Nottingham Malaysia Campus\\Future University\\Halan_Dashboard\\project_env\\lib\\site-packages\\sklearn\\linear_model\\_base.py:148: FutureWarning:\n",
      "\n",
      "'normalize' was deprecated in version 1.0 and will be removed in 1.2. Please leave the normalize parameter to its default value to silence this warning. The default behavior of this estimator is to not do any normalization. If normalization is needed please use sklearn.preprocessing.StandardScaler instead.\n",
      "\n",
      "c:\\Users\\moham\\OneDrive - University of Nottingham Malaysia Campus\\Future University\\Halan_Dashboard\\project_env\\lib\\site-packages\\sklearn\\linear_model\\_base.py:148: FutureWarning:\n",
      "\n",
      "'normalize' was deprecated in version 1.0 and will be removed in 1.2. Please leave the normalize parameter to its default value to silence this warning. The default behavior of this estimator is to not do any normalization. If normalization is needed please use sklearn.preprocessing.StandardScaler instead.\n",
      "\n",
      "c:\\Users\\moham\\OneDrive - University of Nottingham Malaysia Campus\\Future University\\Halan_Dashboard\\project_env\\lib\\site-packages\\sklearn\\linear_model\\_base.py:148: FutureWarning:\n",
      "\n",
      "'normalize' was deprecated in version 1.0 and will be removed in 1.2. Please leave the normalize parameter to its default value to silence this warning. The default behavior of this estimator is to not do any normalization. If normalization is needed please use sklearn.preprocessing.StandardScaler instead.\n",
      "\n",
      "c:\\Users\\moham\\OneDrive - University of Nottingham Malaysia Campus\\Future University\\Halan_Dashboard\\project_env\\lib\\site-packages\\sklearn\\linear_model\\_base.py:148: FutureWarning:\n",
      "\n",
      "'normalize' was deprecated in version 1.0 and will be removed in 1.2. Please leave the normalize parameter to its default value to silence this warning. The default behavior of this estimator is to not do any normalization. If normalization is needed please use sklearn.preprocessing.StandardScaler instead.\n",
      "\n",
      "c:\\Users\\moham\\OneDrive - University of Nottingham Malaysia Campus\\Future University\\Halan_Dashboard\\project_env\\lib\\site-packages\\sklearn\\linear_model\\_base.py:148: FutureWarning:\n",
      "\n",
      "'normalize' was deprecated in version 1.0 and will be removed in 1.2. Please leave the normalize parameter to its default value to silence this warning. The default behavior of this estimator is to not do any normalization. If normalization is needed please use sklearn.preprocessing.StandardScaler instead.\n",
      "\n",
      "c:\\Users\\moham\\OneDrive - University of Nottingham Malaysia Campus\\Future University\\Halan_Dashboard\\project_env\\lib\\site-packages\\sklearn\\linear_model\\_base.py:148: FutureWarning:\n",
      "\n",
      "'normalize' was deprecated in version 1.0 and will be removed in 1.2. Please leave the normalize parameter to its default value to silence this warning. The default behavior of this estimator is to not do any normalization. If normalization is needed please use sklearn.preprocessing.StandardScaler instead.\n",
      "\n",
      "c:\\Users\\moham\\OneDrive - University of Nottingham Malaysia Campus\\Future University\\Halan_Dashboard\\project_env\\lib\\site-packages\\sklearn\\linear_model\\_base.py:148: FutureWarning:\n",
      "\n",
      "'normalize' was deprecated in version 1.0 and will be removed in 1.2. Please leave the normalize parameter to its default value to silence this warning. The default behavior of this estimator is to not do any normalization. If normalization is needed please use sklearn.preprocessing.StandardScaler instead.\n",
      "\n",
      "c:\\Users\\moham\\OneDrive - University of Nottingham Malaysia Campus\\Future University\\Halan_Dashboard\\project_env\\lib\\site-packages\\sklearn\\linear_model\\_base.py:148: FutureWarning:\n",
      "\n",
      "'normalize' was deprecated in version 1.0 and will be removed in 1.2. Please leave the normalize parameter to its default value to silence this warning. The default behavior of this estimator is to not do any normalization. If normalization is needed please use sklearn.preprocessing.StandardScaler instead.\n",
      "\n",
      "c:\\Users\\moham\\OneDrive - University of Nottingham Malaysia Campus\\Future University\\Halan_Dashboard\\project_env\\lib\\site-packages\\sklearn\\linear_model\\_base.py:148: FutureWarning:\n",
      "\n",
      "'normalize' was deprecated in version 1.0 and will be removed in 1.2. Please leave the normalize parameter to its default value to silence this warning. The default behavior of this estimator is to not do any normalization. If normalization is needed please use sklearn.preprocessing.StandardScaler instead.\n",
      "\n",
      "c:\\Users\\moham\\OneDrive - University of Nottingham Malaysia Campus\\Future University\\Halan_Dashboard\\project_env\\lib\\site-packages\\sklearn\\linear_model\\_base.py:148: FutureWarning:\n",
      "\n",
      "'normalize' was deprecated in version 1.0 and will be removed in 1.2. Please leave the normalize parameter to its default value to silence this warning. The default behavior of this estimator is to not do any normalization. If normalization is needed please use sklearn.preprocessing.StandardScaler instead.\n",
      "\n",
      "c:\\Users\\moham\\OneDrive - University of Nottingham Malaysia Campus\\Future University\\Halan_Dashboard\\project_env\\lib\\site-packages\\sklearn\\linear_model\\_base.py:148: FutureWarning:\n",
      "\n",
      "'normalize' was deprecated in version 1.0 and will be removed in 1.2. Please leave the normalize parameter to its default value to silence this warning. The default behavior of this estimator is to not do any normalization. If normalization is needed please use sklearn.preprocessing.StandardScaler instead.\n",
      "\n",
      "c:\\Users\\moham\\OneDrive - University of Nottingham Malaysia Campus\\Future University\\Halan_Dashboard\\project_env\\lib\\site-packages\\sklearn\\linear_model\\_base.py:148: FutureWarning:\n",
      "\n",
      "'normalize' was deprecated in version 1.0 and will be removed in 1.2. Please leave the normalize parameter to its default value to silence this warning. The default behavior of this estimator is to not do any normalization. If normalization is needed please use sklearn.preprocessing.StandardScaler instead.\n",
      "\n",
      "c:\\Users\\moham\\OneDrive - University of Nottingham Malaysia Campus\\Future University\\Halan_Dashboard\\project_env\\lib\\site-packages\\sklearn\\linear_model\\_base.py:148: FutureWarning:\n",
      "\n",
      "'normalize' was deprecated in version 1.0 and will be removed in 1.2. Please leave the normalize parameter to its default value to silence this warning. The default behavior of this estimator is to not do any normalization. If normalization is needed please use sklearn.preprocessing.StandardScaler instead.\n",
      "\n",
      "c:\\Users\\moham\\OneDrive - University of Nottingham Malaysia Campus\\Future University\\Halan_Dashboard\\project_env\\lib\\site-packages\\sklearn\\linear_model\\_base.py:148: FutureWarning:\n",
      "\n",
      "'normalize' was deprecated in version 1.0 and will be removed in 1.2. Please leave the normalize parameter to its default value to silence this warning. The default behavior of this estimator is to not do any normalization. If normalization is needed please use sklearn.preprocessing.StandardScaler instead.\n",
      "\n",
      "c:\\Users\\moham\\OneDrive - University of Nottingham Malaysia Campus\\Future University\\Halan_Dashboard\\project_env\\lib\\site-packages\\sklearn\\linear_model\\_base.py:148: FutureWarning:\n",
      "\n",
      "'normalize' was deprecated in version 1.0 and will be removed in 1.2. Please leave the normalize parameter to its default value to silence this warning. The default behavior of this estimator is to not do any normalization. If normalization is needed please use sklearn.preprocessing.StandardScaler instead.\n",
      "\n",
      "c:\\Users\\moham\\OneDrive - University of Nottingham Malaysia Campus\\Future University\\Halan_Dashboard\\project_env\\lib\\site-packages\\sklearn\\linear_model\\_base.py:148: FutureWarning:\n",
      "\n",
      "'normalize' was deprecated in version 1.0 and will be removed in 1.2. Please leave the normalize parameter to its default value to silence this warning. The default behavior of this estimator is to not do any normalization. If normalization is needed please use sklearn.preprocessing.StandardScaler instead.\n",
      "\n",
      "c:\\Users\\moham\\OneDrive - University of Nottingham Malaysia Campus\\Future University\\Halan_Dashboard\\project_env\\lib\\site-packages\\sklearn\\linear_model\\_base.py:148: FutureWarning:\n",
      "\n",
      "'normalize' was deprecated in version 1.0 and will be removed in 1.2. Please leave the normalize parameter to its default value to silence this warning. The default behavior of this estimator is to not do any normalization. If normalization is needed please use sklearn.preprocessing.StandardScaler instead.\n",
      "\n",
      "c:\\Users\\moham\\OneDrive - University of Nottingham Malaysia Campus\\Future University\\Halan_Dashboard\\project_env\\lib\\site-packages\\sklearn\\linear_model\\_base.py:148: FutureWarning:\n",
      "\n",
      "'normalize' was deprecated in version 1.0 and will be removed in 1.2. Please leave the normalize parameter to its default value to silence this warning. The default behavior of this estimator is to not do any normalization. If normalization is needed please use sklearn.preprocessing.StandardScaler instead.\n",
      "\n",
      "c:\\Users\\moham\\OneDrive - University of Nottingham Malaysia Campus\\Future University\\Halan_Dashboard\\project_env\\lib\\site-packages\\sklearn\\linear_model\\_base.py:148: FutureWarning:\n",
      "\n",
      "'normalize' was deprecated in version 1.0 and will be removed in 1.2. Please leave the normalize parameter to its default value to silence this warning. The default behavior of this estimator is to not do any normalization. If normalization is needed please use sklearn.preprocessing.StandardScaler instead.\n",
      "\n",
      "c:\\Users\\moham\\OneDrive - University of Nottingham Malaysia Campus\\Future University\\Halan_Dashboard\\project_env\\lib\\site-packages\\sklearn\\linear_model\\_base.py:148: FutureWarning:\n",
      "\n",
      "'normalize' was deprecated in version 1.0 and will be removed in 1.2. Please leave the normalize parameter to its default value to silence this warning. The default behavior of this estimator is to not do any normalization. If normalization is needed please use sklearn.preprocessing.StandardScaler instead.\n",
      "\n",
      "c:\\Users\\moham\\OneDrive - University of Nottingham Malaysia Campus\\Future University\\Halan_Dashboard\\project_env\\lib\\site-packages\\sklearn\\linear_model\\_base.py:148: FutureWarning:\n",
      "\n",
      "'normalize' was deprecated in version 1.0 and will be removed in 1.2. Please leave the normalize parameter to its default value to silence this warning. The default behavior of this estimator is to not do any normalization. If normalization is needed please use sklearn.preprocessing.StandardScaler instead.\n",
      "\n",
      "c:\\Users\\moham\\OneDrive - University of Nottingham Malaysia Campus\\Future University\\Halan_Dashboard\\project_env\\lib\\site-packages\\sklearn\\linear_model\\_base.py:148: FutureWarning:\n",
      "\n",
      "'normalize' was deprecated in version 1.0 and will be removed in 1.2. Please leave the normalize parameter to its default value to silence this warning. The default behavior of this estimator is to not do any normalization. If normalization is needed please use sklearn.preprocessing.StandardScaler instead.\n",
      "\n",
      "c:\\Users\\moham\\OneDrive - University of Nottingham Malaysia Campus\\Future University\\Halan_Dashboard\\project_env\\lib\\site-packages\\sklearn\\linear_model\\_base.py:148: FutureWarning:\n",
      "\n",
      "'normalize' was deprecated in version 1.0 and will be removed in 1.2. Please leave the normalize parameter to its default value to silence this warning. The default behavior of this estimator is to not do any normalization. If normalization is needed please use sklearn.preprocessing.StandardScaler instead.\n",
      "\n",
      "c:\\Users\\moham\\OneDrive - University of Nottingham Malaysia Campus\\Future University\\Halan_Dashboard\\project_env\\lib\\site-packages\\sklearn\\linear_model\\_base.py:148: FutureWarning:\n",
      "\n",
      "'normalize' was deprecated in version 1.0 and will be removed in 1.2. Please leave the normalize parameter to its default value to silence this warning. The default behavior of this estimator is to not do any normalization. If normalization is needed please use sklearn.preprocessing.StandardScaler instead.\n",
      "\n",
      "c:\\Users\\moham\\OneDrive - University of Nottingham Malaysia Campus\\Future University\\Halan_Dashboard\\project_env\\lib\\site-packages\\sklearn\\linear_model\\_base.py:148: FutureWarning:\n",
      "\n",
      "'normalize' was deprecated in version 1.0 and will be removed in 1.2. Please leave the normalize parameter to its default value to silence this warning. The default behavior of this estimator is to not do any normalization. If normalization is needed please use sklearn.preprocessing.StandardScaler instead.\n",
      "\n",
      "c:\\Users\\moham\\OneDrive - University of Nottingham Malaysia Campus\\Future University\\Halan_Dashboard\\project_env\\lib\\site-packages\\sklearn\\linear_model\\_base.py:148: FutureWarning:\n",
      "\n",
      "'normalize' was deprecated in version 1.0 and will be removed in 1.2. Please leave the normalize parameter to its default value to silence this warning. The default behavior of this estimator is to not do any normalization. If normalization is needed please use sklearn.preprocessing.StandardScaler instead.\n",
      "\n",
      "c:\\Users\\moham\\OneDrive - University of Nottingham Malaysia Campus\\Future University\\Halan_Dashboard\\project_env\\lib\\site-packages\\sklearn\\linear_model\\_base.py:148: FutureWarning:\n",
      "\n",
      "'normalize' was deprecated in version 1.0 and will be removed in 1.2. Please leave the normalize parameter to its default value to silence this warning. The default behavior of this estimator is to not do any normalization. If normalization is needed please use sklearn.preprocessing.StandardScaler instead.\n",
      "\n",
      "c:\\Users\\moham\\OneDrive - University of Nottingham Malaysia Campus\\Future University\\Halan_Dashboard\\project_env\\lib\\site-packages\\sklearn\\linear_model\\_base.py:148: FutureWarning:\n",
      "\n",
      "'normalize' was deprecated in version 1.0 and will be removed in 1.2. Please leave the normalize parameter to its default value to silence this warning. The default behavior of this estimator is to not do any normalization. If normalization is needed please use sklearn.preprocessing.StandardScaler instead.\n",
      "\n",
      "c:\\Users\\moham\\OneDrive - University of Nottingham Malaysia Campus\\Future University\\Halan_Dashboard\\project_env\\lib\\site-packages\\sklearn\\linear_model\\_base.py:148: FutureWarning:\n",
      "\n",
      "'normalize' was deprecated in version 1.0 and will be removed in 1.2. Please leave the normalize parameter to its default value to silence this warning. The default behavior of this estimator is to not do any normalization. If normalization is needed please use sklearn.preprocessing.StandardScaler instead.\n",
      "\n",
      "c:\\Users\\moham\\OneDrive - University of Nottingham Malaysia Campus\\Future University\\Halan_Dashboard\\project_env\\lib\\site-packages\\sklearn\\linear_model\\_base.py:148: FutureWarning:\n",
      "\n",
      "'normalize' was deprecated in version 1.0 and will be removed in 1.2. Please leave the normalize parameter to its default value to silence this warning. The default behavior of this estimator is to not do any normalization. If normalization is needed please use sklearn.preprocessing.StandardScaler instead.\n",
      "\n",
      "c:\\Users\\moham\\OneDrive - University of Nottingham Malaysia Campus\\Future University\\Halan_Dashboard\\project_env\\lib\\site-packages\\sklearn\\linear_model\\_base.py:148: FutureWarning:\n",
      "\n",
      "'normalize' was deprecated in version 1.0 and will be removed in 1.2. Please leave the normalize parameter to its default value to silence this warning. The default behavior of this estimator is to not do any normalization. If normalization is needed please use sklearn.preprocessing.StandardScaler instead.\n",
      "\n",
      "c:\\Users\\moham\\OneDrive - University of Nottingham Malaysia Campus\\Future University\\Halan_Dashboard\\project_env\\lib\\site-packages\\sklearn\\linear_model\\_base.py:148: FutureWarning:\n",
      "\n",
      "'normalize' was deprecated in version 1.0 and will be removed in 1.2. Please leave the normalize parameter to its default value to silence this warning. The default behavior of this estimator is to not do any normalization. If normalization is needed please use sklearn.preprocessing.StandardScaler instead.\n",
      "\n",
      "c:\\Users\\moham\\OneDrive - University of Nottingham Malaysia Campus\\Future University\\Halan_Dashboard\\project_env\\lib\\site-packages\\sklearn\\linear_model\\_base.py:148: FutureWarning:\n",
      "\n",
      "'normalize' was deprecated in version 1.0 and will be removed in 1.2. Please leave the normalize parameter to its default value to silence this warning. The default behavior of this estimator is to not do any normalization. If normalization is needed please use sklearn.preprocessing.StandardScaler instead.\n",
      "\n",
      "c:\\Users\\moham\\OneDrive - University of Nottingham Malaysia Campus\\Future University\\Halan_Dashboard\\project_env\\lib\\site-packages\\sklearn\\linear_model\\_base.py:148: FutureWarning:\n",
      "\n",
      "'normalize' was deprecated in version 1.0 and will be removed in 1.2. Please leave the normalize parameter to its default value to silence this warning. The default behavior of this estimator is to not do any normalization. If normalization is needed please use sklearn.preprocessing.StandardScaler instead.\n",
      "\n",
      "c:\\Users\\moham\\OneDrive - University of Nottingham Malaysia Campus\\Future University\\Halan_Dashboard\\project_env\\lib\\site-packages\\sklearn\\linear_model\\_base.py:148: FutureWarning:\n",
      "\n",
      "'normalize' was deprecated in version 1.0 and will be removed in 1.2. Please leave the normalize parameter to its default value to silence this warning. The default behavior of this estimator is to not do any normalization. If normalization is needed please use sklearn.preprocessing.StandardScaler instead.\n",
      "\n",
      "c:\\Users\\moham\\OneDrive - University of Nottingham Malaysia Campus\\Future University\\Halan_Dashboard\\project_env\\lib\\site-packages\\sklearn\\linear_model\\_base.py:148: FutureWarning:\n",
      "\n",
      "'normalize' was deprecated in version 1.0 and will be removed in 1.2. Please leave the normalize parameter to its default value to silence this warning. The default behavior of this estimator is to not do any normalization. If normalization is needed please use sklearn.preprocessing.StandardScaler instead.\n",
      "\n",
      "c:\\Users\\moham\\OneDrive - University of Nottingham Malaysia Campus\\Future University\\Halan_Dashboard\\project_env\\lib\\site-packages\\sklearn\\linear_model\\_base.py:148: FutureWarning:\n",
      "\n",
      "'normalize' was deprecated in version 1.0 and will be removed in 1.2. Please leave the normalize parameter to its default value to silence this warning. The default behavior of this estimator is to not do any normalization. If normalization is needed please use sklearn.preprocessing.StandardScaler instead.\n",
      "\n",
      "c:\\Users\\moham\\OneDrive - University of Nottingham Malaysia Campus\\Future University\\Halan_Dashboard\\project_env\\lib\\site-packages\\sklearn\\linear_model\\_base.py:148: FutureWarning:\n",
      "\n",
      "'normalize' was deprecated in version 1.0 and will be removed in 1.2. Please leave the normalize parameter to its default value to silence this warning. The default behavior of this estimator is to not do any normalization. If normalization is needed please use sklearn.preprocessing.StandardScaler instead.\n",
      "\n",
      "c:\\Users\\moham\\OneDrive - University of Nottingham Malaysia Campus\\Future University\\Halan_Dashboard\\project_env\\lib\\site-packages\\sklearn\\linear_model\\_base.py:148: FutureWarning:\n",
      "\n",
      "'normalize' was deprecated in version 1.0 and will be removed in 1.2. Please leave the normalize parameter to its default value to silence this warning. The default behavior of this estimator is to not do any normalization. If normalization is needed please use sklearn.preprocessing.StandardScaler instead.\n",
      "\n",
      "c:\\Users\\moham\\OneDrive - University of Nottingham Malaysia Campus\\Future University\\Halan_Dashboard\\project_env\\lib\\site-packages\\sklearn\\linear_model\\_base.py:148: FutureWarning:\n",
      "\n",
      "'normalize' was deprecated in version 1.0 and will be removed in 1.2. Please leave the normalize parameter to its default value to silence this warning. The default behavior of this estimator is to not do any normalization. If normalization is needed please use sklearn.preprocessing.StandardScaler instead.\n",
      "\n",
      "c:\\Users\\moham\\OneDrive - University of Nottingham Malaysia Campus\\Future University\\Halan_Dashboard\\project_env\\lib\\site-packages\\sklearn\\linear_model\\_base.py:148: FutureWarning:\n",
      "\n",
      "'normalize' was deprecated in version 1.0 and will be removed in 1.2. Please leave the normalize parameter to its default value to silence this warning. The default behavior of this estimator is to not do any normalization. If normalization is needed please use sklearn.preprocessing.StandardScaler instead.\n",
      "\n",
      "c:\\Users\\moham\\OneDrive - University of Nottingham Malaysia Campus\\Future University\\Halan_Dashboard\\project_env\\lib\\site-packages\\sklearn\\linear_model\\_base.py:148: FutureWarning:\n",
      "\n",
      "'normalize' was deprecated in version 1.0 and will be removed in 1.2. Please leave the normalize parameter to its default value to silence this warning. The default behavior of this estimator is to not do any normalization. If normalization is needed please use sklearn.preprocessing.StandardScaler instead.\n",
      "\n",
      "c:\\Users\\moham\\OneDrive - University of Nottingham Malaysia Campus\\Future University\\Halan_Dashboard\\project_env\\lib\\site-packages\\sklearn\\linear_model\\_base.py:148: FutureWarning:\n",
      "\n",
      "'normalize' was deprecated in version 1.0 and will be removed in 1.2. Please leave the normalize parameter to its default value to silence this warning. The default behavior of this estimator is to not do any normalization. If normalization is needed please use sklearn.preprocessing.StandardScaler instead.\n",
      "\n",
      "c:\\Users\\moham\\OneDrive - University of Nottingham Malaysia Campus\\Future University\\Halan_Dashboard\\project_env\\lib\\site-packages\\sklearn\\linear_model\\_base.py:148: FutureWarning:\n",
      "\n",
      "'normalize' was deprecated in version 1.0 and will be removed in 1.2. Please leave the normalize parameter to its default value to silence this warning. The default behavior of this estimator is to not do any normalization. If normalization is needed please use sklearn.preprocessing.StandardScaler instead.\n",
      "\n",
      "c:\\Users\\moham\\OneDrive - University of Nottingham Malaysia Campus\\Future University\\Halan_Dashboard\\project_env\\lib\\site-packages\\sklearn\\linear_model\\_base.py:148: FutureWarning:\n",
      "\n",
      "'normalize' was deprecated in version 1.0 and will be removed in 1.2. Please leave the normalize parameter to its default value to silence this warning. The default behavior of this estimator is to not do any normalization. If normalization is needed please use sklearn.preprocessing.StandardScaler instead.\n",
      "\n",
      "c:\\Users\\moham\\OneDrive - University of Nottingham Malaysia Campus\\Future University\\Halan_Dashboard\\project_env\\lib\\site-packages\\sklearn\\linear_model\\_base.py:148: FutureWarning:\n",
      "\n",
      "'normalize' was deprecated in version 1.0 and will be removed in 1.2. Please leave the normalize parameter to its default value to silence this warning. The default behavior of this estimator is to not do any normalization. If normalization is needed please use sklearn.preprocessing.StandardScaler instead.\n",
      "\n",
      "c:\\Users\\moham\\OneDrive - University of Nottingham Malaysia Campus\\Future University\\Halan_Dashboard\\project_env\\lib\\site-packages\\sklearn\\linear_model\\_base.py:148: FutureWarning:\n",
      "\n",
      "'normalize' was deprecated in version 1.0 and will be removed in 1.2. Please leave the normalize parameter to its default value to silence this warning. The default behavior of this estimator is to not do any normalization. If normalization is needed please use sklearn.preprocessing.StandardScaler instead.\n",
      "\n",
      "c:\\Users\\moham\\OneDrive - University of Nottingham Malaysia Campus\\Future University\\Halan_Dashboard\\project_env\\lib\\site-packages\\sklearn\\linear_model\\_base.py:148: FutureWarning:\n",
      "\n",
      "'normalize' was deprecated in version 1.0 and will be removed in 1.2. Please leave the normalize parameter to its default value to silence this warning. The default behavior of this estimator is to not do any normalization. If normalization is needed please use sklearn.preprocessing.StandardScaler instead.\n",
      "\n",
      "c:\\Users\\moham\\OneDrive - University of Nottingham Malaysia Campus\\Future University\\Halan_Dashboard\\project_env\\lib\\site-packages\\sklearn\\linear_model\\_base.py:148: FutureWarning:\n",
      "\n",
      "'normalize' was deprecated in version 1.0 and will be removed in 1.2. Please leave the normalize parameter to its default value to silence this warning. The default behavior of this estimator is to not do any normalization. If normalization is needed please use sklearn.preprocessing.StandardScaler instead.\n",
      "\n",
      "c:\\Users\\moham\\OneDrive - University of Nottingham Malaysia Campus\\Future University\\Halan_Dashboard\\project_env\\lib\\site-packages\\sklearn\\linear_model\\_base.py:148: FutureWarning:\n",
      "\n",
      "'normalize' was deprecated in version 1.0 and will be removed in 1.2. Please leave the normalize parameter to its default value to silence this warning. The default behavior of this estimator is to not do any normalization. If normalization is needed please use sklearn.preprocessing.StandardScaler instead.\n",
      "\n",
      "c:\\Users\\moham\\OneDrive - University of Nottingham Malaysia Campus\\Future University\\Halan_Dashboard\\project_env\\lib\\site-packages\\sklearn\\linear_model\\_base.py:148: FutureWarning:\n",
      "\n",
      "'normalize' was deprecated in version 1.0 and will be removed in 1.2. Please leave the normalize parameter to its default value to silence this warning. The default behavior of this estimator is to not do any normalization. If normalization is needed please use sklearn.preprocessing.StandardScaler instead.\n",
      "\n",
      "c:\\Users\\moham\\OneDrive - University of Nottingham Malaysia Campus\\Future University\\Halan_Dashboard\\project_env\\lib\\site-packages\\sklearn\\linear_model\\_base.py:148: FutureWarning:\n",
      "\n",
      "'normalize' was deprecated in version 1.0 and will be removed in 1.2. Please leave the normalize parameter to its default value to silence this warning. The default behavior of this estimator is to not do any normalization. If normalization is needed please use sklearn.preprocessing.StandardScaler instead.\n",
      "\n",
      "c:\\Users\\moham\\OneDrive - University of Nottingham Malaysia Campus\\Future University\\Halan_Dashboard\\project_env\\lib\\site-packages\\sklearn\\linear_model\\_base.py:148: FutureWarning:\n",
      "\n",
      "'normalize' was deprecated in version 1.0 and will be removed in 1.2. Please leave the normalize parameter to its default value to silence this warning. The default behavior of this estimator is to not do any normalization. If normalization is needed please use sklearn.preprocessing.StandardScaler instead.\n",
      "\n",
      "c:\\Users\\moham\\OneDrive - University of Nottingham Malaysia Campus\\Future University\\Halan_Dashboard\\project_env\\lib\\site-packages\\sklearn\\linear_model\\_base.py:148: FutureWarning:\n",
      "\n",
      "'normalize' was deprecated in version 1.0 and will be removed in 1.2. Please leave the normalize parameter to its default value to silence this warning. The default behavior of this estimator is to not do any normalization. If normalization is needed please use sklearn.preprocessing.StandardScaler instead.\n",
      "\n",
      "c:\\Users\\moham\\OneDrive - University of Nottingham Malaysia Campus\\Future University\\Halan_Dashboard\\project_env\\lib\\site-packages\\sklearn\\linear_model\\_base.py:148: FutureWarning:\n",
      "\n",
      "'normalize' was deprecated in version 1.0 and will be removed in 1.2. Please leave the normalize parameter to its default value to silence this warning. The default behavior of this estimator is to not do any normalization. If normalization is needed please use sklearn.preprocessing.StandardScaler instead.\n",
      "\n",
      "c:\\Users\\moham\\OneDrive - University of Nottingham Malaysia Campus\\Future University\\Halan_Dashboard\\project_env\\lib\\site-packages\\sklearn\\linear_model\\_base.py:148: FutureWarning:\n",
      "\n",
      "'normalize' was deprecated in version 1.0 and will be removed in 1.2. Please leave the normalize parameter to its default value to silence this warning. The default behavior of this estimator is to not do any normalization. If normalization is needed please use sklearn.preprocessing.StandardScaler instead.\n",
      "\n",
      "c:\\Users\\moham\\OneDrive - University of Nottingham Malaysia Campus\\Future University\\Halan_Dashboard\\project_env\\lib\\site-packages\\sklearn\\linear_model\\_base.py:148: FutureWarning:\n",
      "\n",
      "'normalize' was deprecated in version 1.0 and will be removed in 1.2. Please leave the normalize parameter to its default value to silence this warning. The default behavior of this estimator is to not do any normalization. If normalization is needed please use sklearn.preprocessing.StandardScaler instead.\n",
      "\n",
      "c:\\Users\\moham\\OneDrive - University of Nottingham Malaysia Campus\\Future University\\Halan_Dashboard\\project_env\\lib\\site-packages\\sklearn\\linear_model\\_base.py:148: FutureWarning:\n",
      "\n",
      "'normalize' was deprecated in version 1.0 and will be removed in 1.2. Please leave the normalize parameter to its default value to silence this warning. The default behavior of this estimator is to not do any normalization. If normalization is needed please use sklearn.preprocessing.StandardScaler instead.\n",
      "\n",
      "c:\\Users\\moham\\OneDrive - University of Nottingham Malaysia Campus\\Future University\\Halan_Dashboard\\project_env\\lib\\site-packages\\sklearn\\linear_model\\_base.py:148: FutureWarning:\n",
      "\n",
      "'normalize' was deprecated in version 1.0 and will be removed in 1.2. Please leave the normalize parameter to its default value to silence this warning. The default behavior of this estimator is to not do any normalization. If normalization is needed please use sklearn.preprocessing.StandardScaler instead.\n",
      "\n",
      "c:\\Users\\moham\\OneDrive - University of Nottingham Malaysia Campus\\Future University\\Halan_Dashboard\\project_env\\lib\\site-packages\\sklearn\\linear_model\\_base.py:148: FutureWarning:\n",
      "\n",
      "'normalize' was deprecated in version 1.0 and will be removed in 1.2. Please leave the normalize parameter to its default value to silence this warning. The default behavior of this estimator is to not do any normalization. If normalization is needed please use sklearn.preprocessing.StandardScaler instead.\n",
      "\n",
      "c:\\Users\\moham\\OneDrive - University of Nottingham Malaysia Campus\\Future University\\Halan_Dashboard\\project_env\\lib\\site-packages\\sklearn\\linear_model\\_base.py:148: FutureWarning:\n",
      "\n",
      "'normalize' was deprecated in version 1.0 and will be removed in 1.2. Please leave the normalize parameter to its default value to silence this warning. The default behavior of this estimator is to not do any normalization. If normalization is needed please use sklearn.preprocessing.StandardScaler instead.\n",
      "\n",
      "c:\\Users\\moham\\OneDrive - University of Nottingham Malaysia Campus\\Future University\\Halan_Dashboard\\project_env\\lib\\site-packages\\sklearn\\linear_model\\_base.py:148: FutureWarning:\n",
      "\n",
      "'normalize' was deprecated in version 1.0 and will be removed in 1.2. Please leave the normalize parameter to its default value to silence this warning. The default behavior of this estimator is to not do any normalization. If normalization is needed please use sklearn.preprocessing.StandardScaler instead.\n",
      "\n",
      "c:\\Users\\moham\\OneDrive - University of Nottingham Malaysia Campus\\Future University\\Halan_Dashboard\\project_env\\lib\\site-packages\\sklearn\\linear_model\\_base.py:148: FutureWarning:\n",
      "\n",
      "'normalize' was deprecated in version 1.0 and will be removed in 1.2. Please leave the normalize parameter to its default value to silence this warning. The default behavior of this estimator is to not do any normalization. If normalization is needed please use sklearn.preprocessing.StandardScaler instead.\n",
      "\n",
      "c:\\Users\\moham\\OneDrive - University of Nottingham Malaysia Campus\\Future University\\Halan_Dashboard\\project_env\\lib\\site-packages\\sklearn\\linear_model\\_base.py:148: FutureWarning:\n",
      "\n",
      "'normalize' was deprecated in version 1.0 and will be removed in 1.2. Please leave the normalize parameter to its default value to silence this warning. The default behavior of this estimator is to not do any normalization. If normalization is needed please use sklearn.preprocessing.StandardScaler instead.\n",
      "\n",
      "c:\\Users\\moham\\OneDrive - University of Nottingham Malaysia Campus\\Future University\\Halan_Dashboard\\project_env\\lib\\site-packages\\sklearn\\linear_model\\_base.py:148: FutureWarning:\n",
      "\n",
      "'normalize' was deprecated in version 1.0 and will be removed in 1.2. Please leave the normalize parameter to its default value to silence this warning. The default behavior of this estimator is to not do any normalization. If normalization is needed please use sklearn.preprocessing.StandardScaler instead.\n",
      "\n",
      "c:\\Users\\moham\\OneDrive - University of Nottingham Malaysia Campus\\Future University\\Halan_Dashboard\\project_env\\lib\\site-packages\\sklearn\\linear_model\\_base.py:148: FutureWarning:\n",
      "\n",
      "'normalize' was deprecated in version 1.0 and will be removed in 1.2. Please leave the normalize parameter to its default value to silence this warning. The default behavior of this estimator is to not do any normalization. If normalization is needed please use sklearn.preprocessing.StandardScaler instead.\n",
      "\n",
      "c:\\Users\\moham\\OneDrive - University of Nottingham Malaysia Campus\\Future University\\Halan_Dashboard\\project_env\\lib\\site-packages\\sklearn\\linear_model\\_base.py:148: FutureWarning:\n",
      "\n",
      "'normalize' was deprecated in version 1.0 and will be removed in 1.2. Please leave the normalize parameter to its default value to silence this warning. The default behavior of this estimator is to not do any normalization. If normalization is needed please use sklearn.preprocessing.StandardScaler instead.\n",
      "\n",
      "c:\\Users\\moham\\OneDrive - University of Nottingham Malaysia Campus\\Future University\\Halan_Dashboard\\project_env\\lib\\site-packages\\sklearn\\linear_model\\_base.py:148: FutureWarning:\n",
      "\n",
      "'normalize' was deprecated in version 1.0 and will be removed in 1.2. Please leave the normalize parameter to its default value to silence this warning. The default behavior of this estimator is to not do any normalization. If normalization is needed please use sklearn.preprocessing.StandardScaler instead.\n",
      "\n",
      "c:\\Users\\moham\\OneDrive - University of Nottingham Malaysia Campus\\Future University\\Halan_Dashboard\\project_env\\lib\\site-packages\\sklearn\\linear_model\\_base.py:148: FutureWarning:\n",
      "\n",
      "'normalize' was deprecated in version 1.0 and will be removed in 1.2. Please leave the normalize parameter to its default value to silence this warning. The default behavior of this estimator is to not do any normalization. If normalization is needed please use sklearn.preprocessing.StandardScaler instead.\n",
      "\n",
      "c:\\Users\\moham\\OneDrive - University of Nottingham Malaysia Campus\\Future University\\Halan_Dashboard\\project_env\\lib\\site-packages\\sklearn\\linear_model\\_base.py:148: FutureWarning:\n",
      "\n",
      "'normalize' was deprecated in version 1.0 and will be removed in 1.2. Please leave the normalize parameter to its default value to silence this warning. The default behavior of this estimator is to not do any normalization. If normalization is needed please use sklearn.preprocessing.StandardScaler instead.\n",
      "\n",
      "c:\\Users\\moham\\OneDrive - University of Nottingham Malaysia Campus\\Future University\\Halan_Dashboard\\project_env\\lib\\site-packages\\sklearn\\linear_model\\_base.py:148: FutureWarning:\n",
      "\n",
      "'normalize' was deprecated in version 1.0 and will be removed in 1.2. Please leave the normalize parameter to its default value to silence this warning. The default behavior of this estimator is to not do any normalization. If normalization is needed please use sklearn.preprocessing.StandardScaler instead.\n",
      "\n",
      "c:\\Users\\moham\\OneDrive - University of Nottingham Malaysia Campus\\Future University\\Halan_Dashboard\\project_env\\lib\\site-packages\\sklearn\\linear_model\\_base.py:148: FutureWarning:\n",
      "\n",
      "'normalize' was deprecated in version 1.0 and will be removed in 1.2. Please leave the normalize parameter to its default value to silence this warning. The default behavior of this estimator is to not do any normalization. If normalization is needed please use sklearn.preprocessing.StandardScaler instead.\n",
      "\n",
      "c:\\Users\\moham\\OneDrive - University of Nottingham Malaysia Campus\\Future University\\Halan_Dashboard\\project_env\\lib\\site-packages\\sklearn\\linear_model\\_base.py:148: FutureWarning:\n",
      "\n",
      "'normalize' was deprecated in version 1.0 and will be removed in 1.2. Please leave the normalize parameter to its default value to silence this warning. The default behavior of this estimator is to not do any normalization. If normalization is needed please use sklearn.preprocessing.StandardScaler instead.\n",
      "\n",
      "c:\\Users\\moham\\OneDrive - University of Nottingham Malaysia Campus\\Future University\\Halan_Dashboard\\project_env\\lib\\site-packages\\sklearn\\linear_model\\_base.py:148: FutureWarning:\n",
      "\n",
      "'normalize' was deprecated in version 1.0 and will be removed in 1.2. Please leave the normalize parameter to its default value to silence this warning. The default behavior of this estimator is to not do any normalization. If normalization is needed please use sklearn.preprocessing.StandardScaler instead.\n",
      "\n",
      "c:\\Users\\moham\\OneDrive - University of Nottingham Malaysia Campus\\Future University\\Halan_Dashboard\\project_env\\lib\\site-packages\\sklearn\\linear_model\\_base.py:148: FutureWarning:\n",
      "\n",
      "'normalize' was deprecated in version 1.0 and will be removed in 1.2. Please leave the normalize parameter to its default value to silence this warning. The default behavior of this estimator is to not do any normalization. If normalization is needed please use sklearn.preprocessing.StandardScaler instead.\n",
      "\n",
      "c:\\Users\\moham\\OneDrive - University of Nottingham Malaysia Campus\\Future University\\Halan_Dashboard\\project_env\\lib\\site-packages\\sklearn\\linear_model\\_base.py:148: FutureWarning:\n",
      "\n",
      "'normalize' was deprecated in version 1.0 and will be removed in 1.2. Please leave the normalize parameter to its default value to silence this warning. The default behavior of this estimator is to not do any normalization. If normalization is needed please use sklearn.preprocessing.StandardScaler instead.\n",
      "\n",
      "c:\\Users\\moham\\OneDrive - University of Nottingham Malaysia Campus\\Future University\\Halan_Dashboard\\project_env\\lib\\site-packages\\sklearn\\linear_model\\_base.py:148: FutureWarning:\n",
      "\n",
      "'normalize' was deprecated in version 1.0 and will be removed in 1.2. Please leave the normalize parameter to its default value to silence this warning. The default behavior of this estimator is to not do any normalization. If normalization is needed please use sklearn.preprocessing.StandardScaler instead.\n",
      "\n",
      "c:\\Users\\moham\\OneDrive - University of Nottingham Malaysia Campus\\Future University\\Halan_Dashboard\\project_env\\lib\\site-packages\\sklearn\\linear_model\\_base.py:148: FutureWarning:\n",
      "\n",
      "'normalize' was deprecated in version 1.0 and will be removed in 1.2. Please leave the normalize parameter to its default value to silence this warning. The default behavior of this estimator is to not do any normalization. If normalization is needed please use sklearn.preprocessing.StandardScaler instead.\n",
      "\n",
      "c:\\Users\\moham\\OneDrive - University of Nottingham Malaysia Campus\\Future University\\Halan_Dashboard\\project_env\\lib\\site-packages\\sklearn\\linear_model\\_base.py:148: FutureWarning:\n",
      "\n",
      "'normalize' was deprecated in version 1.0 and will be removed in 1.2. Please leave the normalize parameter to its default value to silence this warning. The default behavior of this estimator is to not do any normalization. If normalization is needed please use sklearn.preprocessing.StandardScaler instead.\n",
      "\n",
      "c:\\Users\\moham\\OneDrive - University of Nottingham Malaysia Campus\\Future University\\Halan_Dashboard\\project_env\\lib\\site-packages\\sklearn\\linear_model\\_base.py:148: FutureWarning:\n",
      "\n",
      "'normalize' was deprecated in version 1.0 and will be removed in 1.2. Please leave the normalize parameter to its default value to silence this warning. The default behavior of this estimator is to not do any normalization. If normalization is needed please use sklearn.preprocessing.StandardScaler instead.\n",
      "\n",
      "c:\\Users\\moham\\OneDrive - University of Nottingham Malaysia Campus\\Future University\\Halan_Dashboard\\project_env\\lib\\site-packages\\sklearn\\linear_model\\_base.py:148: FutureWarning:\n",
      "\n",
      "'normalize' was deprecated in version 1.0 and will be removed in 1.2. Please leave the normalize parameter to its default value to silence this warning. The default behavior of this estimator is to not do any normalization. If normalization is needed please use sklearn.preprocessing.StandardScaler instead.\n",
      "\n",
      "c:\\Users\\moham\\OneDrive - University of Nottingham Malaysia Campus\\Future University\\Halan_Dashboard\\project_env\\lib\\site-packages\\sklearn\\linear_model\\_base.py:148: FutureWarning:\n",
      "\n",
      "'normalize' was deprecated in version 1.0 and will be removed in 1.2. Please leave the normalize parameter to its default value to silence this warning. The default behavior of this estimator is to not do any normalization. If normalization is needed please use sklearn.preprocessing.StandardScaler instead.\n",
      "\n",
      "c:\\Users\\moham\\OneDrive - University of Nottingham Malaysia Campus\\Future University\\Halan_Dashboard\\project_env\\lib\\site-packages\\sklearn\\linear_model\\_base.py:148: FutureWarning:\n",
      "\n",
      "'normalize' was deprecated in version 1.0 and will be removed in 1.2. Please leave the normalize parameter to its default value to silence this warning. The default behavior of this estimator is to not do any normalization. If normalization is needed please use sklearn.preprocessing.StandardScaler instead.\n",
      "\n",
      "c:\\Users\\moham\\OneDrive - University of Nottingham Malaysia Campus\\Future University\\Halan_Dashboard\\project_env\\lib\\site-packages\\sklearn\\linear_model\\_base.py:148: FutureWarning:\n",
      "\n",
      "'normalize' was deprecated in version 1.0 and will be removed in 1.2. Please leave the normalize parameter to its default value to silence this warning. The default behavior of this estimator is to not do any normalization. If normalization is needed please use sklearn.preprocessing.StandardScaler instead.\n",
      "\n",
      "c:\\Users\\moham\\OneDrive - University of Nottingham Malaysia Campus\\Future University\\Halan_Dashboard\\project_env\\lib\\site-packages\\sklearn\\linear_model\\_base.py:148: FutureWarning:\n",
      "\n",
      "'normalize' was deprecated in version 1.0 and will be removed in 1.2. Please leave the normalize parameter to its default value to silence this warning. The default behavior of this estimator is to not do any normalization. If normalization is needed please use sklearn.preprocessing.StandardScaler instead.\n",
      "\n",
      "c:\\Users\\moham\\OneDrive - University of Nottingham Malaysia Campus\\Future University\\Halan_Dashboard\\project_env\\lib\\site-packages\\sklearn\\linear_model\\_base.py:148: FutureWarning:\n",
      "\n",
      "'normalize' was deprecated in version 1.0 and will be removed in 1.2. Please leave the normalize parameter to its default value to silence this warning. The default behavior of this estimator is to not do any normalization. If normalization is needed please use sklearn.preprocessing.StandardScaler instead.\n",
      "\n",
      "c:\\Users\\moham\\OneDrive - University of Nottingham Malaysia Campus\\Future University\\Halan_Dashboard\\project_env\\lib\\site-packages\\sklearn\\linear_model\\_base.py:148: FutureWarning:\n",
      "\n",
      "'normalize' was deprecated in version 1.0 and will be removed in 1.2. Please leave the normalize parameter to its default value to silence this warning. The default behavior of this estimator is to not do any normalization. If normalization is needed please use sklearn.preprocessing.StandardScaler instead.\n",
      "\n",
      "c:\\Users\\moham\\OneDrive - University of Nottingham Malaysia Campus\\Future University\\Halan_Dashboard\\project_env\\lib\\site-packages\\sklearn\\linear_model\\_base.py:148: FutureWarning:\n",
      "\n",
      "'normalize' was deprecated in version 1.0 and will be removed in 1.2. Please leave the normalize parameter to its default value to silence this warning. The default behavior of this estimator is to not do any normalization. If normalization is needed please use sklearn.preprocessing.StandardScaler instead.\n",
      "\n",
      "c:\\Users\\moham\\OneDrive - University of Nottingham Malaysia Campus\\Future University\\Halan_Dashboard\\project_env\\lib\\site-packages\\sklearn\\linear_model\\_base.py:148: FutureWarning:\n",
      "\n",
      "'normalize' was deprecated in version 1.0 and will be removed in 1.2. Please leave the normalize parameter to its default value to silence this warning. The default behavior of this estimator is to not do any normalization. If normalization is needed please use sklearn.preprocessing.StandardScaler instead.\n",
      "\n",
      "c:\\Users\\moham\\OneDrive - University of Nottingham Malaysia Campus\\Future University\\Halan_Dashboard\\project_env\\lib\\site-packages\\sklearn\\linear_model\\_base.py:148: FutureWarning:\n",
      "\n",
      "'normalize' was deprecated in version 1.0 and will be removed in 1.2. Please leave the normalize parameter to its default value to silence this warning. The default behavior of this estimator is to not do any normalization. If normalization is needed please use sklearn.preprocessing.StandardScaler instead.\n",
      "\n",
      "c:\\Users\\moham\\OneDrive - University of Nottingham Malaysia Campus\\Future University\\Halan_Dashboard\\project_env\\lib\\site-packages\\sklearn\\linear_model\\_base.py:148: FutureWarning:\n",
      "\n",
      "'normalize' was deprecated in version 1.0 and will be removed in 1.2. Please leave the normalize parameter to its default value to silence this warning. The default behavior of this estimator is to not do any normalization. If normalization is needed please use sklearn.preprocessing.StandardScaler instead.\n",
      "\n",
      "c:\\Users\\moham\\OneDrive - University of Nottingham Malaysia Campus\\Future University\\Halan_Dashboard\\project_env\\lib\\site-packages\\sklearn\\linear_model\\_base.py:148: FutureWarning:\n",
      "\n",
      "'normalize' was deprecated in version 1.0 and will be removed in 1.2. Please leave the normalize parameter to its default value to silence this warning. The default behavior of this estimator is to not do any normalization. If normalization is needed please use sklearn.preprocessing.StandardScaler instead.\n",
      "\n",
      "c:\\Users\\moham\\OneDrive - University of Nottingham Malaysia Campus\\Future University\\Halan_Dashboard\\project_env\\lib\\site-packages\\sklearn\\linear_model\\_base.py:148: FutureWarning:\n",
      "\n",
      "'normalize' was deprecated in version 1.0 and will be removed in 1.2. Please leave the normalize parameter to its default value to silence this warning. The default behavior of this estimator is to not do any normalization. If normalization is needed please use sklearn.preprocessing.StandardScaler instead.\n",
      "\n",
      "c:\\Users\\moham\\OneDrive - University of Nottingham Malaysia Campus\\Future University\\Halan_Dashboard\\project_env\\lib\\site-packages\\sklearn\\linear_model\\_base.py:148: FutureWarning:\n",
      "\n",
      "'normalize' was deprecated in version 1.0 and will be removed in 1.2. Please leave the normalize parameter to its default value to silence this warning. The default behavior of this estimator is to not do any normalization. If normalization is needed please use sklearn.preprocessing.StandardScaler instead.\n",
      "\n",
      "c:\\Users\\moham\\OneDrive - University of Nottingham Malaysia Campus\\Future University\\Halan_Dashboard\\project_env\\lib\\site-packages\\sklearn\\linear_model\\_base.py:148: FutureWarning:\n",
      "\n",
      "'normalize' was deprecated in version 1.0 and will be removed in 1.2. Please leave the normalize parameter to its default value to silence this warning. The default behavior of this estimator is to not do any normalization. If normalization is needed please use sklearn.preprocessing.StandardScaler instead.\n",
      "\n",
      "c:\\Users\\moham\\OneDrive - University of Nottingham Malaysia Campus\\Future University\\Halan_Dashboard\\project_env\\lib\\site-packages\\sklearn\\linear_model\\_base.py:148: FutureWarning:\n",
      "\n",
      "'normalize' was deprecated in version 1.0 and will be removed in 1.2. Please leave the normalize parameter to its default value to silence this warning. The default behavior of this estimator is to not do any normalization. If normalization is needed please use sklearn.preprocessing.StandardScaler instead.\n",
      "\n",
      "c:\\Users\\moham\\OneDrive - University of Nottingham Malaysia Campus\\Future University\\Halan_Dashboard\\project_env\\lib\\site-packages\\sklearn\\linear_model\\_base.py:148: FutureWarning:\n",
      "\n",
      "'normalize' was deprecated in version 1.0 and will be removed in 1.2. Please leave the normalize parameter to its default value to silence this warning. The default behavior of this estimator is to not do any normalization. If normalization is needed please use sklearn.preprocessing.StandardScaler instead.\n",
      "\n",
      "c:\\Users\\moham\\OneDrive - University of Nottingham Malaysia Campus\\Future University\\Halan_Dashboard\\project_env\\lib\\site-packages\\sklearn\\linear_model\\_base.py:148: FutureWarning:\n",
      "\n",
      "'normalize' was deprecated in version 1.0 and will be removed in 1.2. Please leave the normalize parameter to its default value to silence this warning. The default behavior of this estimator is to not do any normalization. If normalization is needed please use sklearn.preprocessing.StandardScaler instead.\n",
      "\n",
      "c:\\Users\\moham\\OneDrive - University of Nottingham Malaysia Campus\\Future University\\Halan_Dashboard\\project_env\\lib\\site-packages\\sklearn\\linear_model\\_base.py:148: FutureWarning:\n",
      "\n",
      "'normalize' was deprecated in version 1.0 and will be removed in 1.2. Please leave the normalize parameter to its default value to silence this warning. The default behavior of this estimator is to not do any normalization. If normalization is needed please use sklearn.preprocessing.StandardScaler instead.\n",
      "\n",
      "c:\\Users\\moham\\OneDrive - University of Nottingham Malaysia Campus\\Future University\\Halan_Dashboard\\project_env\\lib\\site-packages\\sklearn\\linear_model\\_base.py:148: FutureWarning:\n",
      "\n",
      "'normalize' was deprecated in version 1.0 and will be removed in 1.2. Please leave the normalize parameter to its default value to silence this warning. The default behavior of this estimator is to not do any normalization. If normalization is needed please use sklearn.preprocessing.StandardScaler instead.\n",
      "\n",
      "c:\\Users\\moham\\OneDrive - University of Nottingham Malaysia Campus\\Future University\\Halan_Dashboard\\project_env\\lib\\site-packages\\sklearn\\linear_model\\_base.py:148: FutureWarning:\n",
      "\n",
      "'normalize' was deprecated in version 1.0 and will be removed in 1.2. Please leave the normalize parameter to its default value to silence this warning. The default behavior of this estimator is to not do any normalization. If normalization is needed please use sklearn.preprocessing.StandardScaler instead.\n",
      "\n",
      "c:\\Users\\moham\\OneDrive - University of Nottingham Malaysia Campus\\Future University\\Halan_Dashboard\\project_env\\lib\\site-packages\\sklearn\\linear_model\\_base.py:148: FutureWarning:\n",
      "\n",
      "'normalize' was deprecated in version 1.0 and will be removed in 1.2. Please leave the normalize parameter to its default value to silence this warning. The default behavior of this estimator is to not do any normalization. If normalization is needed please use sklearn.preprocessing.StandardScaler instead.\n",
      "\n",
      "c:\\Users\\moham\\OneDrive - University of Nottingham Malaysia Campus\\Future University\\Halan_Dashboard\\project_env\\lib\\site-packages\\sklearn\\linear_model\\_base.py:148: FutureWarning:\n",
      "\n",
      "'normalize' was deprecated in version 1.0 and will be removed in 1.2. Please leave the normalize parameter to its default value to silence this warning. The default behavior of this estimator is to not do any normalization. If normalization is needed please use sklearn.preprocessing.StandardScaler instead.\n",
      "\n",
      "c:\\Users\\moham\\OneDrive - University of Nottingham Malaysia Campus\\Future University\\Halan_Dashboard\\project_env\\lib\\site-packages\\sklearn\\linear_model\\_base.py:148: FutureWarning:\n",
      "\n",
      "'normalize' was deprecated in version 1.0 and will be removed in 1.2. Please leave the normalize parameter to its default value to silence this warning. The default behavior of this estimator is to not do any normalization. If normalization is needed please use sklearn.preprocessing.StandardScaler instead.\n",
      "\n",
      "c:\\Users\\moham\\OneDrive - University of Nottingham Malaysia Campus\\Future University\\Halan_Dashboard\\project_env\\lib\\site-packages\\sklearn\\linear_model\\_base.py:148: FutureWarning:\n",
      "\n",
      "'normalize' was deprecated in version 1.0 and will be removed in 1.2. Please leave the normalize parameter to its default value to silence this warning. The default behavior of this estimator is to not do any normalization. If normalization is needed please use sklearn.preprocessing.StandardScaler instead.\n",
      "\n",
      "c:\\Users\\moham\\OneDrive - University of Nottingham Malaysia Campus\\Future University\\Halan_Dashboard\\project_env\\lib\\site-packages\\sklearn\\linear_model\\_base.py:148: FutureWarning:\n",
      "\n",
      "'normalize' was deprecated in version 1.0 and will be removed in 1.2. Please leave the normalize parameter to its default value to silence this warning. The default behavior of this estimator is to not do any normalization. If normalization is needed please use sklearn.preprocessing.StandardScaler instead.\n",
      "\n",
      "c:\\Users\\moham\\OneDrive - University of Nottingham Malaysia Campus\\Future University\\Halan_Dashboard\\project_env\\lib\\site-packages\\sklearn\\linear_model\\_base.py:148: FutureWarning:\n",
      "\n",
      "'normalize' was deprecated in version 1.0 and will be removed in 1.2. Please leave the normalize parameter to its default value to silence this warning. The default behavior of this estimator is to not do any normalization. If normalization is needed please use sklearn.preprocessing.StandardScaler instead.\n",
      "\n",
      "c:\\Users\\moham\\OneDrive - University of Nottingham Malaysia Campus\\Future University\\Halan_Dashboard\\project_env\\lib\\site-packages\\sklearn\\linear_model\\_base.py:148: FutureWarning:\n",
      "\n",
      "'normalize' was deprecated in version 1.0 and will be removed in 1.2. Please leave the normalize parameter to its default value to silence this warning. The default behavior of this estimator is to not do any normalization. If normalization is needed please use sklearn.preprocessing.StandardScaler instead.\n",
      "\n",
      "c:\\Users\\moham\\OneDrive - University of Nottingham Malaysia Campus\\Future University\\Halan_Dashboard\\project_env\\lib\\site-packages\\sklearn\\linear_model\\_base.py:148: FutureWarning:\n",
      "\n",
      "'normalize' was deprecated in version 1.0 and will be removed in 1.2. Please leave the normalize parameter to its default value to silence this warning. The default behavior of this estimator is to not do any normalization. If normalization is needed please use sklearn.preprocessing.StandardScaler instead.\n",
      "\n",
      "c:\\Users\\moham\\OneDrive - University of Nottingham Malaysia Campus\\Future University\\Halan_Dashboard\\project_env\\lib\\site-packages\\sklearn\\linear_model\\_base.py:148: FutureWarning:\n",
      "\n",
      "'normalize' was deprecated in version 1.0 and will be removed in 1.2. Please leave the normalize parameter to its default value to silence this warning. The default behavior of this estimator is to not do any normalization. If normalization is needed please use sklearn.preprocessing.StandardScaler instead.\n",
      "\n",
      "c:\\Users\\moham\\OneDrive - University of Nottingham Malaysia Campus\\Future University\\Halan_Dashboard\\project_env\\lib\\site-packages\\sklearn\\linear_model\\_base.py:148: FutureWarning:\n",
      "\n",
      "'normalize' was deprecated in version 1.0 and will be removed in 1.2. Please leave the normalize parameter to its default value to silence this warning. The default behavior of this estimator is to not do any normalization. If normalization is needed please use sklearn.preprocessing.StandardScaler instead.\n",
      "\n",
      "c:\\Users\\moham\\OneDrive - University of Nottingham Malaysia Campus\\Future University\\Halan_Dashboard\\project_env\\lib\\site-packages\\sklearn\\linear_model\\_base.py:148: FutureWarning:\n",
      "\n",
      "'normalize' was deprecated in version 1.0 and will be removed in 1.2. Please leave the normalize parameter to its default value to silence this warning. The default behavior of this estimator is to not do any normalization. If normalization is needed please use sklearn.preprocessing.StandardScaler instead.\n",
      "\n",
      "c:\\Users\\moham\\OneDrive - University of Nottingham Malaysia Campus\\Future University\\Halan_Dashboard\\project_env\\lib\\site-packages\\sklearn\\linear_model\\_base.py:148: FutureWarning:\n",
      "\n",
      "'normalize' was deprecated in version 1.0 and will be removed in 1.2. Please leave the normalize parameter to its default value to silence this warning. The default behavior of this estimator is to not do any normalization. If normalization is needed please use sklearn.preprocessing.StandardScaler instead.\n",
      "\n",
      "c:\\Users\\moham\\OneDrive - University of Nottingham Malaysia Campus\\Future University\\Halan_Dashboard\\project_env\\lib\\site-packages\\sklearn\\linear_model\\_base.py:148: FutureWarning:\n",
      "\n",
      "'normalize' was deprecated in version 1.0 and will be removed in 1.2. Please leave the normalize parameter to its default value to silence this warning. The default behavior of this estimator is to not do any normalization. If normalization is needed please use sklearn.preprocessing.StandardScaler instead.\n",
      "\n",
      "c:\\Users\\moham\\OneDrive - University of Nottingham Malaysia Campus\\Future University\\Halan_Dashboard\\project_env\\lib\\site-packages\\sklearn\\linear_model\\_base.py:148: FutureWarning:\n",
      "\n",
      "'normalize' was deprecated in version 1.0 and will be removed in 1.2. Please leave the normalize parameter to its default value to silence this warning. The default behavior of this estimator is to not do any normalization. If normalization is needed please use sklearn.preprocessing.StandardScaler instead.\n",
      "\n",
      "c:\\Users\\moham\\OneDrive - University of Nottingham Malaysia Campus\\Future University\\Halan_Dashboard\\project_env\\lib\\site-packages\\sklearn\\linear_model\\_base.py:148: FutureWarning:\n",
      "\n",
      "'normalize' was deprecated in version 1.0 and will be removed in 1.2. Please leave the normalize parameter to its default value to silence this warning. The default behavior of this estimator is to not do any normalization. If normalization is needed please use sklearn.preprocessing.StandardScaler instead.\n",
      "\n",
      "c:\\Users\\moham\\OneDrive - University of Nottingham Malaysia Campus\\Future University\\Halan_Dashboard\\project_env\\lib\\site-packages\\sklearn\\linear_model\\_base.py:148: FutureWarning:\n",
      "\n",
      "'normalize' was deprecated in version 1.0 and will be removed in 1.2. Please leave the normalize parameter to its default value to silence this warning. The default behavior of this estimator is to not do any normalization. If normalization is needed please use sklearn.preprocessing.StandardScaler instead.\n",
      "\n",
      "c:\\Users\\moham\\OneDrive - University of Nottingham Malaysia Campus\\Future University\\Halan_Dashboard\\project_env\\lib\\site-packages\\sklearn\\linear_model\\_base.py:148: FutureWarning:\n",
      "\n",
      "'normalize' was deprecated in version 1.0 and will be removed in 1.2. Please leave the normalize parameter to its default value to silence this warning. The default behavior of this estimator is to not do any normalization. If normalization is needed please use sklearn.preprocessing.StandardScaler instead.\n",
      "\n",
      "c:\\Users\\moham\\OneDrive - University of Nottingham Malaysia Campus\\Future University\\Halan_Dashboard\\project_env\\lib\\site-packages\\sklearn\\linear_model\\_base.py:148: FutureWarning:\n",
      "\n",
      "'normalize' was deprecated in version 1.0 and will be removed in 1.2. Please leave the normalize parameter to its default value to silence this warning. The default behavior of this estimator is to not do any normalization. If normalization is needed please use sklearn.preprocessing.StandardScaler instead.\n",
      "\n",
      "c:\\Users\\moham\\OneDrive - University of Nottingham Malaysia Campus\\Future University\\Halan_Dashboard\\project_env\\lib\\site-packages\\sklearn\\linear_model\\_base.py:148: FutureWarning:\n",
      "\n",
      "'normalize' was deprecated in version 1.0 and will be removed in 1.2. Please leave the normalize parameter to its default value to silence this warning. The default behavior of this estimator is to not do any normalization. If normalization is needed please use sklearn.preprocessing.StandardScaler instead.\n",
      "\n",
      "c:\\Users\\moham\\OneDrive - University of Nottingham Malaysia Campus\\Future University\\Halan_Dashboard\\project_env\\lib\\site-packages\\sklearn\\linear_model\\_base.py:148: FutureWarning:\n",
      "\n",
      "'normalize' was deprecated in version 1.0 and will be removed in 1.2. Please leave the normalize parameter to its default value to silence this warning. The default behavior of this estimator is to not do any normalization. If normalization is needed please use sklearn.preprocessing.StandardScaler instead.\n",
      "\n",
      "c:\\Users\\moham\\OneDrive - University of Nottingham Malaysia Campus\\Future University\\Halan_Dashboard\\project_env\\lib\\site-packages\\sklearn\\linear_model\\_base.py:148: FutureWarning:\n",
      "\n",
      "'normalize' was deprecated in version 1.0 and will be removed in 1.2. Please leave the normalize parameter to its default value to silence this warning. The default behavior of this estimator is to not do any normalization. If normalization is needed please use sklearn.preprocessing.StandardScaler instead.\n",
      "\n",
      "c:\\Users\\moham\\OneDrive - University of Nottingham Malaysia Campus\\Future University\\Halan_Dashboard\\project_env\\lib\\site-packages\\sklearn\\linear_model\\_base.py:148: FutureWarning:\n",
      "\n",
      "'normalize' was deprecated in version 1.0 and will be removed in 1.2. Please leave the normalize parameter to its default value to silence this warning. The default behavior of this estimator is to not do any normalization. If normalization is needed please use sklearn.preprocessing.StandardScaler instead.\n",
      "\n",
      "c:\\Users\\moham\\OneDrive - University of Nottingham Malaysia Campus\\Future University\\Halan_Dashboard\\project_env\\lib\\site-packages\\sklearn\\linear_model\\_base.py:148: FutureWarning:\n",
      "\n",
      "'normalize' was deprecated in version 1.0 and will be removed in 1.2. Please leave the normalize parameter to its default value to silence this warning. The default behavior of this estimator is to not do any normalization. If normalization is needed please use sklearn.preprocessing.StandardScaler instead.\n",
      "\n",
      "c:\\Users\\moham\\OneDrive - University of Nottingham Malaysia Campus\\Future University\\Halan_Dashboard\\project_env\\lib\\site-packages\\sklearn\\linear_model\\_base.py:148: FutureWarning:\n",
      "\n",
      "'normalize' was deprecated in version 1.0 and will be removed in 1.2. Please leave the normalize parameter to its default value to silence this warning. The default behavior of this estimator is to not do any normalization. If normalization is needed please use sklearn.preprocessing.StandardScaler instead.\n",
      "\n",
      "c:\\Users\\moham\\OneDrive - University of Nottingham Malaysia Campus\\Future University\\Halan_Dashboard\\project_env\\lib\\site-packages\\sklearn\\linear_model\\_base.py:148: FutureWarning:\n",
      "\n",
      "'normalize' was deprecated in version 1.0 and will be removed in 1.2. Please leave the normalize parameter to its default value to silence this warning. The default behavior of this estimator is to not do any normalization. If normalization is needed please use sklearn.preprocessing.StandardScaler instead.\n",
      "\n",
      "c:\\Users\\moham\\OneDrive - University of Nottingham Malaysia Campus\\Future University\\Halan_Dashboard\\project_env\\lib\\site-packages\\sklearn\\linear_model\\_base.py:148: FutureWarning:\n",
      "\n",
      "'normalize' was deprecated in version 1.0 and will be removed in 1.2. Please leave the normalize parameter to its default value to silence this warning. The default behavior of this estimator is to not do any normalization. If normalization is needed please use sklearn.preprocessing.StandardScaler instead.\n",
      "\n",
      "c:\\Users\\moham\\OneDrive - University of Nottingham Malaysia Campus\\Future University\\Halan_Dashboard\\project_env\\lib\\site-packages\\sklearn\\linear_model\\_base.py:148: FutureWarning:\n",
      "\n",
      "'normalize' was deprecated in version 1.0 and will be removed in 1.2. Please leave the normalize parameter to its default value to silence this warning. The default behavior of this estimator is to not do any normalization. If normalization is needed please use sklearn.preprocessing.StandardScaler instead.\n",
      "\n"
     ]
    },
    {
     "name": "stdout",
     "output_type": "stream",
     "text": [
      "Mean MAE: 100.443 (48.829)\n"
     ]
    },
    {
     "name": "stderr",
     "output_type": "stream",
     "text": [
      "c:\\Users\\moham\\OneDrive - University of Nottingham Malaysia Campus\\Future University\\Halan_Dashboard\\project_env\\lib\\site-packages\\sklearn\\linear_model\\_base.py:148: FutureWarning:\n",
      "\n",
      "'normalize' was deprecated in version 1.0 and will be removed in 1.2. Please leave the normalize parameter to its default value to silence this warning. The default behavior of this estimator is to not do any normalization. If normalization is needed please use sklearn.preprocessing.StandardScaler instead.\n",
      "\n",
      "c:\\Users\\moham\\OneDrive - University of Nottingham Malaysia Campus\\Future University\\Halan_Dashboard\\project_env\\lib\\site-packages\\sklearn\\linear_model\\_base.py:148: FutureWarning:\n",
      "\n",
      "'normalize' was deprecated in version 1.0 and will be removed in 1.2. Please leave the normalize parameter to its default value to silence this warning. The default behavior of this estimator is to not do any normalization. If normalization is needed please use sklearn.preprocessing.StandardScaler instead.\n",
      "\n",
      "c:\\Users\\moham\\OneDrive - University of Nottingham Malaysia Campus\\Future University\\Halan_Dashboard\\project_env\\lib\\site-packages\\sklearn\\linear_model\\_base.py:148: FutureWarning:\n",
      "\n",
      "'normalize' was deprecated in version 1.0 and will be removed in 1.2. Please leave the normalize parameter to its default value to silence this warning. The default behavior of this estimator is to not do any normalization. If normalization is needed please use sklearn.preprocessing.StandardScaler instead.\n",
      "\n",
      "c:\\Users\\moham\\OneDrive - University of Nottingham Malaysia Campus\\Future University\\Halan_Dashboard\\project_env\\lib\\site-packages\\sklearn\\linear_model\\_base.py:148: FutureWarning:\n",
      "\n",
      "'normalize' was deprecated in version 1.0 and will be removed in 1.2. Please leave the normalize parameter to its default value to silence this warning. The default behavior of this estimator is to not do any normalization. If normalization is needed please use sklearn.preprocessing.StandardScaler instead.\n",
      "\n",
      "c:\\Users\\moham\\OneDrive - University of Nottingham Malaysia Campus\\Future University\\Halan_Dashboard\\project_env\\lib\\site-packages\\sklearn\\linear_model\\_base.py:148: FutureWarning:\n",
      "\n",
      "'normalize' was deprecated in version 1.0 and will be removed in 1.2. Please leave the normalize parameter to its default value to silence this warning. The default behavior of this estimator is to not do any normalization. If normalization is needed please use sklearn.preprocessing.StandardScaler instead.\n",
      "\n",
      "c:\\Users\\moham\\OneDrive - University of Nottingham Malaysia Campus\\Future University\\Halan_Dashboard\\project_env\\lib\\site-packages\\sklearn\\linear_model\\_base.py:148: FutureWarning:\n",
      "\n",
      "'normalize' was deprecated in version 1.0 and will be removed in 1.2. Please leave the normalize parameter to its default value to silence this warning. The default behavior of this estimator is to not do any normalization. If normalization is needed please use sklearn.preprocessing.StandardScaler instead.\n",
      "\n",
      "c:\\Users\\moham\\OneDrive - University of Nottingham Malaysia Campus\\Future University\\Halan_Dashboard\\project_env\\lib\\site-packages\\sklearn\\linear_model\\_base.py:148: FutureWarning:\n",
      "\n",
      "'normalize' was deprecated in version 1.0 and will be removed in 1.2. Please leave the normalize parameter to its default value to silence this warning. The default behavior of this estimator is to not do any normalization. If normalization is needed please use sklearn.preprocessing.StandardScaler instead.\n",
      "\n",
      "c:\\Users\\moham\\OneDrive - University of Nottingham Malaysia Campus\\Future University\\Halan_Dashboard\\project_env\\lib\\site-packages\\sklearn\\linear_model\\_base.py:148: FutureWarning:\n",
      "\n",
      "'normalize' was deprecated in version 1.0 and will be removed in 1.2. Please leave the normalize parameter to its default value to silence this warning. The default behavior of this estimator is to not do any normalization. If normalization is needed please use sklearn.preprocessing.StandardScaler instead.\n",
      "\n",
      "c:\\Users\\moham\\OneDrive - University of Nottingham Malaysia Campus\\Future University\\Halan_Dashboard\\project_env\\lib\\site-packages\\sklearn\\linear_model\\_base.py:148: FutureWarning:\n",
      "\n",
      "'normalize' was deprecated in version 1.0 and will be removed in 1.2. Please leave the normalize parameter to its default value to silence this warning. The default behavior of this estimator is to not do any normalization. If normalization is needed please use sklearn.preprocessing.StandardScaler instead.\n",
      "\n"
     ]
    }
   ],
   "source": [
    "import pandas as pd\n",
    "import numpy as np\n",
    "from sklearn.model_selection import train_test_split\n",
    "from sklearn.linear_model import Lasso\n",
    "\n",
    "# evaluate an Passive agressive regression model on the dataset\n",
    "from numpy import mean\n",
    "from numpy import std\n",
    "from numpy import absolute\n",
    "\n",
    "from sklearn.model_selection import cross_val_score\n",
    "from sklearn.model_selection import RepeatedKFold\n",
    "\n",
    "\n",
    "\n",
    "# drop unnecessary columns and re-arrange\n",
    "data = deseasonalized[['Series', 'Month', 'Week', 'Original']]\n",
    "x = np.array(data.drop([\"Series\",\"Original\"], 1))\n",
    "y = np.array(data[\"Original\"])\n",
    "xtrain, xtest, ytrain, ytest = train_test_split(x, y, test_size=0.1, random_state=42)\n",
    "model = Lasso(alpha=1.0, copy_X=True,\n",
    "                fit_intercept=True,\n",
    "                max_iter=1000, normalize=False,\n",
    "                positive=False,\n",
    "                precompute=False,\n",
    "                random_state=123,\n",
    "                selection='cyclic', tol=0.0001,\n",
    "                warm_start=False)\n",
    "model.fit(xtrain, ytrain)\n",
    "ypred = model.predict(xtest)\n",
    "\n",
    "pred_del = pd.DataFrame(data={\"Predicted Delivered\": ypred.flatten()})\n",
    "print(pred_del.head())\n",
    "\n",
    "cv = RepeatedKFold(n_splits=8, n_repeats=30, random_state=1)\n",
    "# define model\n",
    "\n",
    "# fit model\n",
    "\n",
    "\n",
    "# evaluate model\n",
    "scores = cross_val_score(model, x, y, scoring='neg_mean_absolute_error', cv=cv, n_jobs=1)\n",
    "# force scores to be positive\n",
    "scores = absolute(scores)\n",
    "print('Mean MAE: %.3f (%.3f)' % (mean(scores), std(scores)))\n"
   ]
  },
  {
   "cell_type": "code",
   "execution_count": 84,
   "metadata": {},
   "outputs": [
    {
     "name": "stderr",
     "output_type": "stream",
     "text": [
      "c:\\Users\\moham\\OneDrive - University of Nottingham Malaysia Campus\\Future University\\Halan_Dashboard\\project_env\\lib\\site-packages\\sklearn\\base.py:443: UserWarning:\n",
      "\n",
      "X has feature names, but Lasso was fitted without feature names\n",
      "\n"
     ]
    },
    {
     "data": {
      "application/vnd.plotly.v1+json": {
       "config": {
        "plotlyServerURL": "https://plot.ly"
       },
       "data": [
        {
         "hovertemplate": "variable=Original<br>Series=%{x}<br>value=%{y}<extra></extra>",
         "legendgroup": "Original",
         "line": {
          "color": "#636efa",
          "dash": "solid"
         },
         "marker": {
          "symbol": "circle"
         },
         "mode": "lines",
         "name": "Original",
         "orientation": "v",
         "showlegend": true,
         "type": "scatter",
         "x": [
          1,
          2,
          3,
          4,
          5,
          6,
          7,
          8,
          9,
          10,
          11,
          12,
          13,
          14,
          15,
          16,
          17,
          18,
          19,
          20,
          21,
          22,
          23,
          24,
          0,
          1,
          2,
          3,
          4,
          5,
          6,
          7,
          8,
          9,
          10,
          11,
          12,
          13,
          14,
          15,
          16,
          17,
          18,
          19,
          20,
          21,
          22,
          23,
          24,
          25,
          26,
          27,
          28,
          29,
          30,
          31,
          32,
          33,
          34,
          35,
          36,
          37,
          38,
          39,
          40,
          41,
          42,
          43,
          44,
          45,
          46,
          47
         ],
         "xaxis": "x",
         "y": [
          509,
          388,
          405,
          343,
          553,
          342,
          353,
          293,
          373,
          375,
          514,
          649,
          630,
          450,
          500,
          700,
          520,
          537,
          410,
          159,
          461.6137328,
          415.2627425,
          417.5970298,
          412.6460051,
          null,
          null,
          null,
          null,
          null,
          null,
          null,
          null,
          null,
          null,
          null,
          null,
          null,
          null,
          null,
          null,
          null,
          null,
          null,
          null,
          null,
          null,
          null,
          null,
          null,
          null,
          null,
          null,
          null,
          null,
          null,
          null,
          null,
          null,
          null,
          null,
          null,
          null,
          null,
          null,
          null,
          null,
          null,
          null,
          null,
          null,
          null,
          null
         ],
         "yaxis": "y"
        },
        {
         "hovertemplate": "variable=Label<br>Series=%{x}<br>value=%{y}<extra></extra>",
         "legendgroup": "Label",
         "line": {
          "color": "#EF553B",
          "dash": "solid"
         },
         "marker": {
          "symbol": "circle"
         },
         "mode": "lines",
         "name": "Label",
         "orientation": "v",
         "showlegend": true,
         "type": "scatter",
         "x": [
          1,
          2,
          3,
          4,
          5,
          6,
          7,
          8,
          9,
          10,
          11,
          12,
          13,
          14,
          15,
          16,
          17,
          18,
          19,
          20,
          21,
          22,
          23,
          24,
          0,
          1,
          2,
          3,
          4,
          5,
          6,
          7,
          8,
          9,
          10,
          11,
          12,
          13,
          14,
          15,
          16,
          17,
          18,
          19,
          20,
          21,
          22,
          23,
          24,
          25,
          26,
          27,
          28,
          29,
          30,
          31,
          32,
          33,
          34,
          35,
          36,
          37,
          38,
          39,
          40,
          41,
          42,
          43,
          44,
          45,
          46,
          47
         ],
         "xaxis": "x",
         "y": [
          null,
          null,
          null,
          null,
          null,
          null,
          null,
          null,
          null,
          null,
          null,
          null,
          null,
          null,
          null,
          null,
          null,
          null,
          null,
          null,
          null,
          null,
          null,
          null,
          435.72345027733326,
          411.37373682783493,
          387.02402337833655,
          362.6743099288382,
          442.2298448594587,
          417.8801314099603,
          393.530417960462,
          369.18070451096366,
          448.73623944158413,
          424.38652599208575,
          400.0368125425874,
          375.68709909308905,
          455.2426340237095,
          430.8929205742112,
          406.5432071247128,
          382.1934936752145,
          461.74902860583495,
          437.39931515633657,
          413.04960170683825,
          388.6998882573399,
          468.2554231879604,
          443.905709738462,
          419.5559962889637,
          395.2062828394653,
          474.76181777008577,
          450.41210432058745,
          426.06239087108906,
          401.71267742159074,
          481.2682123522112,
          456.9184989027128,
          432.5687854532145,
          408.2190720037162,
          487.77460693433665,
          463.42489348483826,
          439.07518003533994,
          414.72546658584156,
          494.2810015164621,
          469.9312880669637,
          445.5815746174653,
          421.231861167967,
          500.78739609858746,
          476.4376826490891,
          452.08796919959076,
          427.73825575009243,
          507.2937906807129,
          482.9440772312145,
          458.5943637817162,
          434.2446503322178
         ],
         "yaxis": "y"
        }
       ],
       "layout": {
        "legend": {
         "title": {
          "text": "variable"
         },
         "tracegroupgap": 0
        },
        "margin": {
         "t": 60
        },
        "template": {
         "data": {
          "bar": [
           {
            "error_x": {
             "color": "#f2f5fa"
            },
            "error_y": {
             "color": "#f2f5fa"
            },
            "marker": {
             "line": {
              "color": "rgb(17,17,17)",
              "width": 0.5
             },
             "pattern": {
              "fillmode": "overlay",
              "size": 10,
              "solidity": 0.2
             }
            },
            "type": "bar"
           }
          ],
          "barpolar": [
           {
            "marker": {
             "line": {
              "color": "rgb(17,17,17)",
              "width": 0.5
             },
             "pattern": {
              "fillmode": "overlay",
              "size": 10,
              "solidity": 0.2
             }
            },
            "type": "barpolar"
           }
          ],
          "carpet": [
           {
            "aaxis": {
             "endlinecolor": "#A2B1C6",
             "gridcolor": "#506784",
             "linecolor": "#506784",
             "minorgridcolor": "#506784",
             "startlinecolor": "#A2B1C6"
            },
            "baxis": {
             "endlinecolor": "#A2B1C6",
             "gridcolor": "#506784",
             "linecolor": "#506784",
             "minorgridcolor": "#506784",
             "startlinecolor": "#A2B1C6"
            },
            "type": "carpet"
           }
          ],
          "choropleth": [
           {
            "colorbar": {
             "outlinewidth": 0,
             "ticks": ""
            },
            "type": "choropleth"
           }
          ],
          "contour": [
           {
            "colorbar": {
             "outlinewidth": 0,
             "ticks": ""
            },
            "colorscale": [
             [
              0,
              "#0d0887"
             ],
             [
              0.1111111111111111,
              "#46039f"
             ],
             [
              0.2222222222222222,
              "#7201a8"
             ],
             [
              0.3333333333333333,
              "#9c179e"
             ],
             [
              0.4444444444444444,
              "#bd3786"
             ],
             [
              0.5555555555555556,
              "#d8576b"
             ],
             [
              0.6666666666666666,
              "#ed7953"
             ],
             [
              0.7777777777777778,
              "#fb9f3a"
             ],
             [
              0.8888888888888888,
              "#fdca26"
             ],
             [
              1,
              "#f0f921"
             ]
            ],
            "type": "contour"
           }
          ],
          "contourcarpet": [
           {
            "colorbar": {
             "outlinewidth": 0,
             "ticks": ""
            },
            "type": "contourcarpet"
           }
          ],
          "heatmap": [
           {
            "colorbar": {
             "outlinewidth": 0,
             "ticks": ""
            },
            "colorscale": [
             [
              0,
              "#0d0887"
             ],
             [
              0.1111111111111111,
              "#46039f"
             ],
             [
              0.2222222222222222,
              "#7201a8"
             ],
             [
              0.3333333333333333,
              "#9c179e"
             ],
             [
              0.4444444444444444,
              "#bd3786"
             ],
             [
              0.5555555555555556,
              "#d8576b"
             ],
             [
              0.6666666666666666,
              "#ed7953"
             ],
             [
              0.7777777777777778,
              "#fb9f3a"
             ],
             [
              0.8888888888888888,
              "#fdca26"
             ],
             [
              1,
              "#f0f921"
             ]
            ],
            "type": "heatmap"
           }
          ],
          "heatmapgl": [
           {
            "colorbar": {
             "outlinewidth": 0,
             "ticks": ""
            },
            "colorscale": [
             [
              0,
              "#0d0887"
             ],
             [
              0.1111111111111111,
              "#46039f"
             ],
             [
              0.2222222222222222,
              "#7201a8"
             ],
             [
              0.3333333333333333,
              "#9c179e"
             ],
             [
              0.4444444444444444,
              "#bd3786"
             ],
             [
              0.5555555555555556,
              "#d8576b"
             ],
             [
              0.6666666666666666,
              "#ed7953"
             ],
             [
              0.7777777777777778,
              "#fb9f3a"
             ],
             [
              0.8888888888888888,
              "#fdca26"
             ],
             [
              1,
              "#f0f921"
             ]
            ],
            "type": "heatmapgl"
           }
          ],
          "histogram": [
           {
            "marker": {
             "pattern": {
              "fillmode": "overlay",
              "size": 10,
              "solidity": 0.2
             }
            },
            "type": "histogram"
           }
          ],
          "histogram2d": [
           {
            "colorbar": {
             "outlinewidth": 0,
             "ticks": ""
            },
            "colorscale": [
             [
              0,
              "#0d0887"
             ],
             [
              0.1111111111111111,
              "#46039f"
             ],
             [
              0.2222222222222222,
              "#7201a8"
             ],
             [
              0.3333333333333333,
              "#9c179e"
             ],
             [
              0.4444444444444444,
              "#bd3786"
             ],
             [
              0.5555555555555556,
              "#d8576b"
             ],
             [
              0.6666666666666666,
              "#ed7953"
             ],
             [
              0.7777777777777778,
              "#fb9f3a"
             ],
             [
              0.8888888888888888,
              "#fdca26"
             ],
             [
              1,
              "#f0f921"
             ]
            ],
            "type": "histogram2d"
           }
          ],
          "histogram2dcontour": [
           {
            "colorbar": {
             "outlinewidth": 0,
             "ticks": ""
            },
            "colorscale": [
             [
              0,
              "#0d0887"
             ],
             [
              0.1111111111111111,
              "#46039f"
             ],
             [
              0.2222222222222222,
              "#7201a8"
             ],
             [
              0.3333333333333333,
              "#9c179e"
             ],
             [
              0.4444444444444444,
              "#bd3786"
             ],
             [
              0.5555555555555556,
              "#d8576b"
             ],
             [
              0.6666666666666666,
              "#ed7953"
             ],
             [
              0.7777777777777778,
              "#fb9f3a"
             ],
             [
              0.8888888888888888,
              "#fdca26"
             ],
             [
              1,
              "#f0f921"
             ]
            ],
            "type": "histogram2dcontour"
           }
          ],
          "mesh3d": [
           {
            "colorbar": {
             "outlinewidth": 0,
             "ticks": ""
            },
            "type": "mesh3d"
           }
          ],
          "parcoords": [
           {
            "line": {
             "colorbar": {
              "outlinewidth": 0,
              "ticks": ""
             }
            },
            "type": "parcoords"
           }
          ],
          "pie": [
           {
            "automargin": true,
            "type": "pie"
           }
          ],
          "scatter": [
           {
            "marker": {
             "line": {
              "color": "#283442"
             }
            },
            "type": "scatter"
           }
          ],
          "scatter3d": [
           {
            "line": {
             "colorbar": {
              "outlinewidth": 0,
              "ticks": ""
             }
            },
            "marker": {
             "colorbar": {
              "outlinewidth": 0,
              "ticks": ""
             }
            },
            "type": "scatter3d"
           }
          ],
          "scattercarpet": [
           {
            "marker": {
             "colorbar": {
              "outlinewidth": 0,
              "ticks": ""
             }
            },
            "type": "scattercarpet"
           }
          ],
          "scattergeo": [
           {
            "marker": {
             "colorbar": {
              "outlinewidth": 0,
              "ticks": ""
             }
            },
            "type": "scattergeo"
           }
          ],
          "scattergl": [
           {
            "marker": {
             "line": {
              "color": "#283442"
             }
            },
            "type": "scattergl"
           }
          ],
          "scattermapbox": [
           {
            "marker": {
             "colorbar": {
              "outlinewidth": 0,
              "ticks": ""
             }
            },
            "type": "scattermapbox"
           }
          ],
          "scatterpolar": [
           {
            "marker": {
             "colorbar": {
              "outlinewidth": 0,
              "ticks": ""
             }
            },
            "type": "scatterpolar"
           }
          ],
          "scatterpolargl": [
           {
            "marker": {
             "colorbar": {
              "outlinewidth": 0,
              "ticks": ""
             }
            },
            "type": "scatterpolargl"
           }
          ],
          "scatterternary": [
           {
            "marker": {
             "colorbar": {
              "outlinewidth": 0,
              "ticks": ""
             }
            },
            "type": "scatterternary"
           }
          ],
          "surface": [
           {
            "colorbar": {
             "outlinewidth": 0,
             "ticks": ""
            },
            "colorscale": [
             [
              0,
              "#0d0887"
             ],
             [
              0.1111111111111111,
              "#46039f"
             ],
             [
              0.2222222222222222,
              "#7201a8"
             ],
             [
              0.3333333333333333,
              "#9c179e"
             ],
             [
              0.4444444444444444,
              "#bd3786"
             ],
             [
              0.5555555555555556,
              "#d8576b"
             ],
             [
              0.6666666666666666,
              "#ed7953"
             ],
             [
              0.7777777777777778,
              "#fb9f3a"
             ],
             [
              0.8888888888888888,
              "#fdca26"
             ],
             [
              1,
              "#f0f921"
             ]
            ],
            "type": "surface"
           }
          ],
          "table": [
           {
            "cells": {
             "fill": {
              "color": "#506784"
             },
             "line": {
              "color": "rgb(17,17,17)"
             }
            },
            "header": {
             "fill": {
              "color": "#2a3f5f"
             },
             "line": {
              "color": "rgb(17,17,17)"
             }
            },
            "type": "table"
           }
          ]
         },
         "layout": {
          "annotationdefaults": {
           "arrowcolor": "#f2f5fa",
           "arrowhead": 0,
           "arrowwidth": 1
          },
          "autotypenumbers": "strict",
          "coloraxis": {
           "colorbar": {
            "outlinewidth": 0,
            "ticks": ""
           }
          },
          "colorscale": {
           "diverging": [
            [
             0,
             "#8e0152"
            ],
            [
             0.1,
             "#c51b7d"
            ],
            [
             0.2,
             "#de77ae"
            ],
            [
             0.3,
             "#f1b6da"
            ],
            [
             0.4,
             "#fde0ef"
            ],
            [
             0.5,
             "#f7f7f7"
            ],
            [
             0.6,
             "#e6f5d0"
            ],
            [
             0.7,
             "#b8e186"
            ],
            [
             0.8,
             "#7fbc41"
            ],
            [
             0.9,
             "#4d9221"
            ],
            [
             1,
             "#276419"
            ]
           ],
           "sequential": [
            [
             0,
             "#0d0887"
            ],
            [
             0.1111111111111111,
             "#46039f"
            ],
            [
             0.2222222222222222,
             "#7201a8"
            ],
            [
             0.3333333333333333,
             "#9c179e"
            ],
            [
             0.4444444444444444,
             "#bd3786"
            ],
            [
             0.5555555555555556,
             "#d8576b"
            ],
            [
             0.6666666666666666,
             "#ed7953"
            ],
            [
             0.7777777777777778,
             "#fb9f3a"
            ],
            [
             0.8888888888888888,
             "#fdca26"
            ],
            [
             1,
             "#f0f921"
            ]
           ],
           "sequentialminus": [
            [
             0,
             "#0d0887"
            ],
            [
             0.1111111111111111,
             "#46039f"
            ],
            [
             0.2222222222222222,
             "#7201a8"
            ],
            [
             0.3333333333333333,
             "#9c179e"
            ],
            [
             0.4444444444444444,
             "#bd3786"
            ],
            [
             0.5555555555555556,
             "#d8576b"
            ],
            [
             0.6666666666666666,
             "#ed7953"
            ],
            [
             0.7777777777777778,
             "#fb9f3a"
            ],
            [
             0.8888888888888888,
             "#fdca26"
            ],
            [
             1,
             "#f0f921"
            ]
           ]
          },
          "colorway": [
           "#636efa",
           "#EF553B",
           "#00cc96",
           "#ab63fa",
           "#FFA15A",
           "#19d3f3",
           "#FF6692",
           "#B6E880",
           "#FF97FF",
           "#FECB52"
          ],
          "font": {
           "color": "#f2f5fa"
          },
          "geo": {
           "bgcolor": "rgb(17,17,17)",
           "lakecolor": "rgb(17,17,17)",
           "landcolor": "rgb(17,17,17)",
           "showlakes": true,
           "showland": true,
           "subunitcolor": "#506784"
          },
          "hoverlabel": {
           "align": "left"
          },
          "hovermode": "closest",
          "mapbox": {
           "style": "dark"
          },
          "paper_bgcolor": "rgb(17,17,17)",
          "plot_bgcolor": "rgb(17,17,17)",
          "polar": {
           "angularaxis": {
            "gridcolor": "#506784",
            "linecolor": "#506784",
            "ticks": ""
           },
           "bgcolor": "rgb(17,17,17)",
           "radialaxis": {
            "gridcolor": "#506784",
            "linecolor": "#506784",
            "ticks": ""
           }
          },
          "scene": {
           "xaxis": {
            "backgroundcolor": "rgb(17,17,17)",
            "gridcolor": "#506784",
            "gridwidth": 2,
            "linecolor": "#506784",
            "showbackground": true,
            "ticks": "",
            "zerolinecolor": "#C8D4E3"
           },
           "yaxis": {
            "backgroundcolor": "rgb(17,17,17)",
            "gridcolor": "#506784",
            "gridwidth": 2,
            "linecolor": "#506784",
            "showbackground": true,
            "ticks": "",
            "zerolinecolor": "#C8D4E3"
           },
           "zaxis": {
            "backgroundcolor": "rgb(17,17,17)",
            "gridcolor": "#506784",
            "gridwidth": 2,
            "linecolor": "#506784",
            "showbackground": true,
            "ticks": "",
            "zerolinecolor": "#C8D4E3"
           }
          },
          "shapedefaults": {
           "line": {
            "color": "#f2f5fa"
           }
          },
          "sliderdefaults": {
           "bgcolor": "#C8D4E3",
           "bordercolor": "rgb(17,17,17)",
           "borderwidth": 1,
           "tickwidth": 0
          },
          "ternary": {
           "aaxis": {
            "gridcolor": "#506784",
            "linecolor": "#506784",
            "ticks": ""
           },
           "baxis": {
            "gridcolor": "#506784",
            "linecolor": "#506784",
            "ticks": ""
           },
           "bgcolor": "rgb(17,17,17)",
           "caxis": {
            "gridcolor": "#506784",
            "linecolor": "#506784",
            "ticks": ""
           }
          },
          "title": {
           "x": 0.05
          },
          "updatemenudefaults": {
           "bgcolor": "#506784",
           "borderwidth": 0
          },
          "xaxis": {
           "automargin": true,
           "gridcolor": "#283442",
           "linecolor": "#506784",
           "ticks": "",
           "title": {
            "standoff": 15
           },
           "zerolinecolor": "#283442",
           "zerolinewidth": 2
          },
          "yaxis": {
           "automargin": true,
           "gridcolor": "#283442",
           "linecolor": "#506784",
           "ticks": "",
           "title": {
            "standoff": 15
           },
           "zerolinecolor": "#283442",
           "zerolinewidth": 2
          }
         }
        },
        "xaxis": {
         "anchor": "y",
         "domain": [
          0,
          1
         ],
         "title": {
          "text": "Series"
         }
        },
        "yaxis": {
         "anchor": "x",
         "domain": [
          0,
          1
         ],
         "title": {
          "text": "value"
         }
        }
       }
      }
     },
     "metadata": {},
     "output_type": "display_data"
    }
   ],
   "source": [
    "\n",
    "future_df = pd.DataFrame()\n",
    "future_df['Month'] =  [i for i in  np.arange(1,13) for j in  np.arange(1,5)]   \n",
    "future_df['Week'] = [j for i in  np.arange(1,13) for j in  np.arange(1,5)]  \n",
    "future_df['Series'] = np.arange(0,(48))\n",
    "\n",
    "predictions_future = model.predict( future_df.drop(['Series'],axis=1,))\n",
    "predictions = pd.DataFrame(predictions_future, columns=['Label'])\n",
    "future_df['Label']=predictions['Label']\n",
    "\n",
    "concat_df = pd.concat([data,future_df], axis=0)\n",
    "\n",
    "\n",
    "fig = px.line(concat_df, x=\"Series\", y=[\"Original\", \"Label\"], template = 'plotly_dark')\n",
    "fig.show()"
   ]
  },
  {
   "cell_type": "code",
   "execution_count": 85,
   "metadata": {},
   "outputs": [
    {
     "name": "stderr",
     "output_type": "stream",
     "text": [
      "C:\\Users\\Public\\Documents\\Wondershare\\CreatorTemp\\ipykernel_31380\\4037807315.py:7: SettingWithCopyWarning:\n",
      "\n",
      "\n",
      "A value is trying to be set on a copy of a slice from a DataFrame\n",
      "\n",
      "See the caveats in the documentation: https://pandas.pydata.org/pandas-docs/stable/user_guide/indexing.html#returning-a-view-versus-a-copy\n",
      "\n",
      "C:\\Users\\Public\\Documents\\Wondershare\\CreatorTemp\\ipykernel_31380\\4037807315.py:8: SettingWithCopyWarning:\n",
      "\n",
      "\n",
      "A value is trying to be set on a copy of a slice from a DataFrame.\n",
      "Try using .loc[row_indexer,col_indexer] = value instead\n",
      "\n",
      "See the caveats in the documentation: https://pandas.pydata.org/pandas-docs/stable/user_guide/indexing.html#returning-a-view-versus-a-copy\n",
      "\n",
      "C:\\Users\\Public\\Documents\\Wondershare\\CreatorTemp\\ipykernel_31380\\4037807315.py:12: SettingWithCopyWarning:\n",
      "\n",
      "\n",
      "A value is trying to be set on a copy of a slice from a DataFrame\n",
      "\n",
      "See the caveats in the documentation: https://pandas.pydata.org/pandas-docs/stable/user_guide/indexing.html#returning-a-view-versus-a-copy\n",
      "\n"
     ]
    }
   ],
   "source": [
    "df2 = df.rename({'w1': 1, 'w2': 2,'w3':3,'w4':4}, axis=1) \n",
    "avgs=[]\n",
    "for i in range(4):\n",
    "  avgs.append(df2[i+1].mean())\n",
    "res = concat_df.dropna(subset=['Label'], axis=0)\n",
    "\n",
    "res.drop(['Original'], axis=1, inplace=True)\n",
    "res['reseason']= res['Label']   \n",
    "bias = 2\n",
    "hold= 1\n",
    "for i in range(len(res['reseason'])):\n",
    "  res['reseason'][i]=res['reseason'][i]*avgs[res['Week'][i]-hold]+bias*i\n",
    "concat_res = pd.concat([res,deseasonalized], axis=0)"
   ]
  },
  {
   "cell_type": "code",
   "execution_count": 86,
   "metadata": {},
   "outputs": [
    {
     "data": {
      "application/vnd.plotly.v1+json": {
       "config": {
        "plotlyServerURL": "https://plot.ly"
       },
       "data": [
        {
         "hovertemplate": "variable=reseason<br>Series=%{x}<br>value=%{y}<extra></extra>",
         "legendgroup": "reseason",
         "line": {
          "color": "#636efa",
          "dash": "solid"
         },
         "marker": {
          "symbol": "circle"
         },
         "mode": "lines",
         "name": "reseason",
         "orientation": "v",
         "showlegend": true,
         "type": "scatter",
         "x": [
          0,
          1,
          2,
          3,
          4,
          5,
          6,
          7,
          8,
          9,
          10,
          11,
          12,
          13,
          14,
          15,
          16,
          17,
          18,
          19,
          20,
          21,
          22,
          23,
          24,
          25,
          26,
          27,
          28,
          29,
          30,
          31,
          32,
          33,
          34,
          35,
          36,
          37,
          38,
          39,
          40,
          41,
          42,
          43,
          44,
          45,
          46,
          47,
          1,
          2,
          3,
          4,
          5,
          6,
          7,
          8,
          9,
          10,
          11,
          12,
          13,
          14,
          15,
          16,
          17,
          18,
          19,
          20,
          21,
          22,
          23,
          24
         ],
         "xaxis": "x",
         "y": [
          502.53152644601806,
          392.78108119444215,
          380.7842410372242,
          340.8170143345213,
          518.0355255971642,
          406.96177695077995,
          395.1184911003485,
          354.82364769241474,
          533.5395247483104,
          421.1424727071178,
          409.45274116347275,
          368.8302810503081,
          549.0435238994565,
          435.32316846345566,
          423.78699122659697,
          382.83691440820155,
          564.5475230506028,
          449.5038642197934,
          438.12124128972124,
          396.843547766095,
          580.051522201749,
          463.68455997613125,
          452.4554913528455,
          410.85018112398836,
          595.5555213528951,
          477.8652557324691,
          466.78974141596973,
          424.8568144818818,
          611.0595205040413,
          492.0459514888069,
          481.123991479094,
          438.8634478397753,
          626.5635196551875,
          506.22664724514476,
          495.4582415422183,
          452.87008119766864,
          642.0675188063336,
          520.4073430014826,
          509.7924916053425,
          466.8767145555621,
          657.5715179574798,
          534.5880387578204,
          524.1267416684668,
          480.88334791345557,
          673.075517108626,
          548.7687345141583,
          538.4609917315911,
          494.8899812713489,
          null,
          null,
          null,
          null,
          null,
          null,
          null,
          null,
          null,
          null,
          null,
          null,
          null,
          null,
          null,
          null,
          null,
          null,
          null,
          null,
          null,
          null,
          null,
          null
         ],
         "yaxis": "y"
        },
        {
         "hovertemplate": "variable=Label<br>Series=%{x}<br>value=%{y}<extra></extra>",
         "legendgroup": "Label",
         "line": {
          "color": "#EF553B",
          "dash": "solid"
         },
         "marker": {
          "symbol": "circle"
         },
         "mode": "lines",
         "name": "Label",
         "orientation": "v",
         "showlegend": true,
         "type": "scatter",
         "x": [
          0,
          1,
          2,
          3,
          4,
          5,
          6,
          7,
          8,
          9,
          10,
          11,
          12,
          13,
          14,
          15,
          16,
          17,
          18,
          19,
          20,
          21,
          22,
          23,
          24,
          25,
          26,
          27,
          28,
          29,
          30,
          31,
          32,
          33,
          34,
          35,
          36,
          37,
          38,
          39,
          40,
          41,
          42,
          43,
          44,
          45,
          46,
          47,
          1,
          2,
          3,
          4,
          5,
          6,
          7,
          8,
          9,
          10,
          11,
          12,
          13,
          14,
          15,
          16,
          17,
          18,
          19,
          20,
          21,
          22,
          23,
          24
         ],
         "xaxis": "x",
         "y": [
          435.72345027733326,
          411.37373682783493,
          387.02402337833655,
          362.6743099288382,
          442.2298448594587,
          417.8801314099603,
          393.530417960462,
          369.18070451096366,
          448.73623944158413,
          424.38652599208575,
          400.0368125425874,
          375.68709909308905,
          455.2426340237095,
          430.8929205742112,
          406.5432071247128,
          382.1934936752145,
          461.74902860583495,
          437.39931515633657,
          413.04960170683825,
          388.6998882573399,
          468.2554231879604,
          443.905709738462,
          419.5559962889637,
          395.2062828394653,
          474.76181777008577,
          450.41210432058745,
          426.06239087108906,
          401.71267742159074,
          481.2682123522112,
          456.9184989027128,
          432.5687854532145,
          408.2190720037162,
          487.77460693433665,
          463.42489348483826,
          439.07518003533994,
          414.72546658584156,
          494.2810015164621,
          469.9312880669637,
          445.5815746174653,
          421.231861167967,
          500.78739609858746,
          476.4376826490891,
          452.08796919959076,
          427.73825575009243,
          507.2937906807129,
          482.9440772312145,
          458.5943637817162,
          434.2446503322178,
          null,
          null,
          null,
          null,
          null,
          null,
          null,
          null,
          null,
          null,
          null,
          null,
          null,
          null,
          null,
          null,
          null,
          null,
          null,
          null,
          null,
          null,
          null,
          null
         ],
         "yaxis": "y"
        },
        {
         "hovertemplate": "variable=Original<br>Series=%{x}<br>value=%{y}<extra></extra>",
         "legendgroup": "Original",
         "line": {
          "color": "#00cc96",
          "dash": "solid"
         },
         "marker": {
          "symbol": "circle"
         },
         "mode": "lines",
         "name": "Original",
         "orientation": "v",
         "showlegend": true,
         "type": "scatter",
         "x": [
          0,
          1,
          2,
          3,
          4,
          5,
          6,
          7,
          8,
          9,
          10,
          11,
          12,
          13,
          14,
          15,
          16,
          17,
          18,
          19,
          20,
          21,
          22,
          23,
          24,
          25,
          26,
          27,
          28,
          29,
          30,
          31,
          32,
          33,
          34,
          35,
          36,
          37,
          38,
          39,
          40,
          41,
          42,
          43,
          44,
          45,
          46,
          47,
          1,
          2,
          3,
          4,
          5,
          6,
          7,
          8,
          9,
          10,
          11,
          12,
          13,
          14,
          15,
          16,
          17,
          18,
          19,
          20,
          21,
          22,
          23,
          24
         ],
         "xaxis": "x",
         "y": [
          null,
          null,
          null,
          null,
          null,
          null,
          null,
          null,
          null,
          null,
          null,
          null,
          null,
          null,
          null,
          null,
          null,
          null,
          null,
          null,
          null,
          null,
          null,
          null,
          null,
          null,
          null,
          null,
          null,
          null,
          null,
          null,
          null,
          null,
          null,
          null,
          null,
          null,
          null,
          null,
          null,
          null,
          null,
          null,
          null,
          null,
          null,
          null,
          509,
          388,
          405,
          343,
          553,
          342,
          353,
          293,
          373,
          375,
          514,
          649,
          630,
          450,
          500,
          700,
          520,
          537,
          410,
          159,
          461.6137328,
          415.2627425,
          417.5970298,
          412.6460051
         ],
         "yaxis": "y"
        }
       ],
       "layout": {
        "legend": {
         "title": {
          "text": "variable"
         },
         "tracegroupgap": 0
        },
        "margin": {
         "t": 60
        },
        "template": {
         "data": {
          "bar": [
           {
            "error_x": {
             "color": "#f2f5fa"
            },
            "error_y": {
             "color": "#f2f5fa"
            },
            "marker": {
             "line": {
              "color": "rgb(17,17,17)",
              "width": 0.5
             },
             "pattern": {
              "fillmode": "overlay",
              "size": 10,
              "solidity": 0.2
             }
            },
            "type": "bar"
           }
          ],
          "barpolar": [
           {
            "marker": {
             "line": {
              "color": "rgb(17,17,17)",
              "width": 0.5
             },
             "pattern": {
              "fillmode": "overlay",
              "size": 10,
              "solidity": 0.2
             }
            },
            "type": "barpolar"
           }
          ],
          "carpet": [
           {
            "aaxis": {
             "endlinecolor": "#A2B1C6",
             "gridcolor": "#506784",
             "linecolor": "#506784",
             "minorgridcolor": "#506784",
             "startlinecolor": "#A2B1C6"
            },
            "baxis": {
             "endlinecolor": "#A2B1C6",
             "gridcolor": "#506784",
             "linecolor": "#506784",
             "minorgridcolor": "#506784",
             "startlinecolor": "#A2B1C6"
            },
            "type": "carpet"
           }
          ],
          "choropleth": [
           {
            "colorbar": {
             "outlinewidth": 0,
             "ticks": ""
            },
            "type": "choropleth"
           }
          ],
          "contour": [
           {
            "colorbar": {
             "outlinewidth": 0,
             "ticks": ""
            },
            "colorscale": [
             [
              0,
              "#0d0887"
             ],
             [
              0.1111111111111111,
              "#46039f"
             ],
             [
              0.2222222222222222,
              "#7201a8"
             ],
             [
              0.3333333333333333,
              "#9c179e"
             ],
             [
              0.4444444444444444,
              "#bd3786"
             ],
             [
              0.5555555555555556,
              "#d8576b"
             ],
             [
              0.6666666666666666,
              "#ed7953"
             ],
             [
              0.7777777777777778,
              "#fb9f3a"
             ],
             [
              0.8888888888888888,
              "#fdca26"
             ],
             [
              1,
              "#f0f921"
             ]
            ],
            "type": "contour"
           }
          ],
          "contourcarpet": [
           {
            "colorbar": {
             "outlinewidth": 0,
             "ticks": ""
            },
            "type": "contourcarpet"
           }
          ],
          "heatmap": [
           {
            "colorbar": {
             "outlinewidth": 0,
             "ticks": ""
            },
            "colorscale": [
             [
              0,
              "#0d0887"
             ],
             [
              0.1111111111111111,
              "#46039f"
             ],
             [
              0.2222222222222222,
              "#7201a8"
             ],
             [
              0.3333333333333333,
              "#9c179e"
             ],
             [
              0.4444444444444444,
              "#bd3786"
             ],
             [
              0.5555555555555556,
              "#d8576b"
             ],
             [
              0.6666666666666666,
              "#ed7953"
             ],
             [
              0.7777777777777778,
              "#fb9f3a"
             ],
             [
              0.8888888888888888,
              "#fdca26"
             ],
             [
              1,
              "#f0f921"
             ]
            ],
            "type": "heatmap"
           }
          ],
          "heatmapgl": [
           {
            "colorbar": {
             "outlinewidth": 0,
             "ticks": ""
            },
            "colorscale": [
             [
              0,
              "#0d0887"
             ],
             [
              0.1111111111111111,
              "#46039f"
             ],
             [
              0.2222222222222222,
              "#7201a8"
             ],
             [
              0.3333333333333333,
              "#9c179e"
             ],
             [
              0.4444444444444444,
              "#bd3786"
             ],
             [
              0.5555555555555556,
              "#d8576b"
             ],
             [
              0.6666666666666666,
              "#ed7953"
             ],
             [
              0.7777777777777778,
              "#fb9f3a"
             ],
             [
              0.8888888888888888,
              "#fdca26"
             ],
             [
              1,
              "#f0f921"
             ]
            ],
            "type": "heatmapgl"
           }
          ],
          "histogram": [
           {
            "marker": {
             "pattern": {
              "fillmode": "overlay",
              "size": 10,
              "solidity": 0.2
             }
            },
            "type": "histogram"
           }
          ],
          "histogram2d": [
           {
            "colorbar": {
             "outlinewidth": 0,
             "ticks": ""
            },
            "colorscale": [
             [
              0,
              "#0d0887"
             ],
             [
              0.1111111111111111,
              "#46039f"
             ],
             [
              0.2222222222222222,
              "#7201a8"
             ],
             [
              0.3333333333333333,
              "#9c179e"
             ],
             [
              0.4444444444444444,
              "#bd3786"
             ],
             [
              0.5555555555555556,
              "#d8576b"
             ],
             [
              0.6666666666666666,
              "#ed7953"
             ],
             [
              0.7777777777777778,
              "#fb9f3a"
             ],
             [
              0.8888888888888888,
              "#fdca26"
             ],
             [
              1,
              "#f0f921"
             ]
            ],
            "type": "histogram2d"
           }
          ],
          "histogram2dcontour": [
           {
            "colorbar": {
             "outlinewidth": 0,
             "ticks": ""
            },
            "colorscale": [
             [
              0,
              "#0d0887"
             ],
             [
              0.1111111111111111,
              "#46039f"
             ],
             [
              0.2222222222222222,
              "#7201a8"
             ],
             [
              0.3333333333333333,
              "#9c179e"
             ],
             [
              0.4444444444444444,
              "#bd3786"
             ],
             [
              0.5555555555555556,
              "#d8576b"
             ],
             [
              0.6666666666666666,
              "#ed7953"
             ],
             [
              0.7777777777777778,
              "#fb9f3a"
             ],
             [
              0.8888888888888888,
              "#fdca26"
             ],
             [
              1,
              "#f0f921"
             ]
            ],
            "type": "histogram2dcontour"
           }
          ],
          "mesh3d": [
           {
            "colorbar": {
             "outlinewidth": 0,
             "ticks": ""
            },
            "type": "mesh3d"
           }
          ],
          "parcoords": [
           {
            "line": {
             "colorbar": {
              "outlinewidth": 0,
              "ticks": ""
             }
            },
            "type": "parcoords"
           }
          ],
          "pie": [
           {
            "automargin": true,
            "type": "pie"
           }
          ],
          "scatter": [
           {
            "marker": {
             "line": {
              "color": "#283442"
             }
            },
            "type": "scatter"
           }
          ],
          "scatter3d": [
           {
            "line": {
             "colorbar": {
              "outlinewidth": 0,
              "ticks": ""
             }
            },
            "marker": {
             "colorbar": {
              "outlinewidth": 0,
              "ticks": ""
             }
            },
            "type": "scatter3d"
           }
          ],
          "scattercarpet": [
           {
            "marker": {
             "colorbar": {
              "outlinewidth": 0,
              "ticks": ""
             }
            },
            "type": "scattercarpet"
           }
          ],
          "scattergeo": [
           {
            "marker": {
             "colorbar": {
              "outlinewidth": 0,
              "ticks": ""
             }
            },
            "type": "scattergeo"
           }
          ],
          "scattergl": [
           {
            "marker": {
             "line": {
              "color": "#283442"
             }
            },
            "type": "scattergl"
           }
          ],
          "scattermapbox": [
           {
            "marker": {
             "colorbar": {
              "outlinewidth": 0,
              "ticks": ""
             }
            },
            "type": "scattermapbox"
           }
          ],
          "scatterpolar": [
           {
            "marker": {
             "colorbar": {
              "outlinewidth": 0,
              "ticks": ""
             }
            },
            "type": "scatterpolar"
           }
          ],
          "scatterpolargl": [
           {
            "marker": {
             "colorbar": {
              "outlinewidth": 0,
              "ticks": ""
             }
            },
            "type": "scatterpolargl"
           }
          ],
          "scatterternary": [
           {
            "marker": {
             "colorbar": {
              "outlinewidth": 0,
              "ticks": ""
             }
            },
            "type": "scatterternary"
           }
          ],
          "surface": [
           {
            "colorbar": {
             "outlinewidth": 0,
             "ticks": ""
            },
            "colorscale": [
             [
              0,
              "#0d0887"
             ],
             [
              0.1111111111111111,
              "#46039f"
             ],
             [
              0.2222222222222222,
              "#7201a8"
             ],
             [
              0.3333333333333333,
              "#9c179e"
             ],
             [
              0.4444444444444444,
              "#bd3786"
             ],
             [
              0.5555555555555556,
              "#d8576b"
             ],
             [
              0.6666666666666666,
              "#ed7953"
             ],
             [
              0.7777777777777778,
              "#fb9f3a"
             ],
             [
              0.8888888888888888,
              "#fdca26"
             ],
             [
              1,
              "#f0f921"
             ]
            ],
            "type": "surface"
           }
          ],
          "table": [
           {
            "cells": {
             "fill": {
              "color": "#506784"
             },
             "line": {
              "color": "rgb(17,17,17)"
             }
            },
            "header": {
             "fill": {
              "color": "#2a3f5f"
             },
             "line": {
              "color": "rgb(17,17,17)"
             }
            },
            "type": "table"
           }
          ]
         },
         "layout": {
          "annotationdefaults": {
           "arrowcolor": "#f2f5fa",
           "arrowhead": 0,
           "arrowwidth": 1
          },
          "autotypenumbers": "strict",
          "coloraxis": {
           "colorbar": {
            "outlinewidth": 0,
            "ticks": ""
           }
          },
          "colorscale": {
           "diverging": [
            [
             0,
             "#8e0152"
            ],
            [
             0.1,
             "#c51b7d"
            ],
            [
             0.2,
             "#de77ae"
            ],
            [
             0.3,
             "#f1b6da"
            ],
            [
             0.4,
             "#fde0ef"
            ],
            [
             0.5,
             "#f7f7f7"
            ],
            [
             0.6,
             "#e6f5d0"
            ],
            [
             0.7,
             "#b8e186"
            ],
            [
             0.8,
             "#7fbc41"
            ],
            [
             0.9,
             "#4d9221"
            ],
            [
             1,
             "#276419"
            ]
           ],
           "sequential": [
            [
             0,
             "#0d0887"
            ],
            [
             0.1111111111111111,
             "#46039f"
            ],
            [
             0.2222222222222222,
             "#7201a8"
            ],
            [
             0.3333333333333333,
             "#9c179e"
            ],
            [
             0.4444444444444444,
             "#bd3786"
            ],
            [
             0.5555555555555556,
             "#d8576b"
            ],
            [
             0.6666666666666666,
             "#ed7953"
            ],
            [
             0.7777777777777778,
             "#fb9f3a"
            ],
            [
             0.8888888888888888,
             "#fdca26"
            ],
            [
             1,
             "#f0f921"
            ]
           ],
           "sequentialminus": [
            [
             0,
             "#0d0887"
            ],
            [
             0.1111111111111111,
             "#46039f"
            ],
            [
             0.2222222222222222,
             "#7201a8"
            ],
            [
             0.3333333333333333,
             "#9c179e"
            ],
            [
             0.4444444444444444,
             "#bd3786"
            ],
            [
             0.5555555555555556,
             "#d8576b"
            ],
            [
             0.6666666666666666,
             "#ed7953"
            ],
            [
             0.7777777777777778,
             "#fb9f3a"
            ],
            [
             0.8888888888888888,
             "#fdca26"
            ],
            [
             1,
             "#f0f921"
            ]
           ]
          },
          "colorway": [
           "#636efa",
           "#EF553B",
           "#00cc96",
           "#ab63fa",
           "#FFA15A",
           "#19d3f3",
           "#FF6692",
           "#B6E880",
           "#FF97FF",
           "#FECB52"
          ],
          "font": {
           "color": "#f2f5fa"
          },
          "geo": {
           "bgcolor": "rgb(17,17,17)",
           "lakecolor": "rgb(17,17,17)",
           "landcolor": "rgb(17,17,17)",
           "showlakes": true,
           "showland": true,
           "subunitcolor": "#506784"
          },
          "hoverlabel": {
           "align": "left"
          },
          "hovermode": "closest",
          "mapbox": {
           "style": "dark"
          },
          "paper_bgcolor": "rgb(17,17,17)",
          "plot_bgcolor": "rgb(17,17,17)",
          "polar": {
           "angularaxis": {
            "gridcolor": "#506784",
            "linecolor": "#506784",
            "ticks": ""
           },
           "bgcolor": "rgb(17,17,17)",
           "radialaxis": {
            "gridcolor": "#506784",
            "linecolor": "#506784",
            "ticks": ""
           }
          },
          "scene": {
           "xaxis": {
            "backgroundcolor": "rgb(17,17,17)",
            "gridcolor": "#506784",
            "gridwidth": 2,
            "linecolor": "#506784",
            "showbackground": true,
            "ticks": "",
            "zerolinecolor": "#C8D4E3"
           },
           "yaxis": {
            "backgroundcolor": "rgb(17,17,17)",
            "gridcolor": "#506784",
            "gridwidth": 2,
            "linecolor": "#506784",
            "showbackground": true,
            "ticks": "",
            "zerolinecolor": "#C8D4E3"
           },
           "zaxis": {
            "backgroundcolor": "rgb(17,17,17)",
            "gridcolor": "#506784",
            "gridwidth": 2,
            "linecolor": "#506784",
            "showbackground": true,
            "ticks": "",
            "zerolinecolor": "#C8D4E3"
           }
          },
          "shapedefaults": {
           "line": {
            "color": "#f2f5fa"
           }
          },
          "sliderdefaults": {
           "bgcolor": "#C8D4E3",
           "bordercolor": "rgb(17,17,17)",
           "borderwidth": 1,
           "tickwidth": 0
          },
          "ternary": {
           "aaxis": {
            "gridcolor": "#506784",
            "linecolor": "#506784",
            "ticks": ""
           },
           "baxis": {
            "gridcolor": "#506784",
            "linecolor": "#506784",
            "ticks": ""
           },
           "bgcolor": "rgb(17,17,17)",
           "caxis": {
            "gridcolor": "#506784",
            "linecolor": "#506784",
            "ticks": ""
           }
          },
          "title": {
           "x": 0.05
          },
          "updatemenudefaults": {
           "bgcolor": "#506784",
           "borderwidth": 0
          },
          "xaxis": {
           "automargin": true,
           "gridcolor": "#283442",
           "linecolor": "#506784",
           "ticks": "",
           "title": {
            "standoff": 15
           },
           "zerolinecolor": "#283442",
           "zerolinewidth": 2
          },
          "yaxis": {
           "automargin": true,
           "gridcolor": "#283442",
           "linecolor": "#506784",
           "ticks": "",
           "title": {
            "standoff": 15
           },
           "zerolinecolor": "#283442",
           "zerolinewidth": 2
          }
         }
        },
        "xaxis": {
         "anchor": "y",
         "domain": [
          0,
          1
         ],
         "title": {
          "text": "Series"
         }
        },
        "yaxis": {
         "anchor": "x",
         "domain": [
          0,
          1
         ],
         "title": {
          "text": "value"
         }
        }
       }
      }
     },
     "metadata": {},
     "output_type": "display_data"
    }
   ],
   "source": [
    "\n",
    "fig = px.line(concat_res, x=\"Series\", y=[\"reseason\",'Label',\"Original\"], template = 'plotly_dark')\n",
    "fig.show()"
   ]
  },
  {
   "cell_type": "code",
   "execution_count": null,
   "metadata": {},
   "outputs": [],
   "source": []
  },
  {
   "cell_type": "code",
   "execution_count": null,
   "metadata": {},
   "outputs": [],
   "source": []
  },
  {
   "cell_type": "code",
   "execution_count": null,
   "metadata": {},
   "outputs": [],
   "source": []
  },
  {
   "cell_type": "code",
   "execution_count": null,
   "metadata": {},
   "outputs": [],
   "source": []
  },
  {
   "cell_type": "code",
   "execution_count": null,
   "metadata": {},
   "outputs": [],
   "source": []
  }
 ],
 "metadata": {
  "interpreter": {
   "hash": "07fc4a15761289ed6bccce3551eaa3e44fe9d4d174dd07ae53bc0cb998fe7fda"
  },
  "kernelspec": {
   "display_name": "Python 3.8.3 ('project_env': venv)",
   "language": "python",
   "name": "python3"
  },
  "language_info": {
   "codemirror_mode": {
    "name": "ipython",
    "version": 3
   },
   "file_extension": ".py",
   "mimetype": "text/x-python",
   "name": "python",
   "nbconvert_exporter": "python",
   "pygments_lexer": "ipython3",
   "version": "3.8.3"
  },
  "orig_nbformat": 4
 },
 "nbformat": 4,
 "nbformat_minor": 2
}
